{
 "cells": [
  {
   "cell_type": "code",
   "execution_count": 20,
   "metadata": {
    "collapsed": false
   },
   "outputs": [],
   "source": [
    "import nltk as n\n",
    "import pandas as pd\n",
    "from nltk.tokenize import word_tokenize\n",
    "# n.download()"
   ]
  },
  {
   "cell_type": "code",
   "execution_count": 15,
   "metadata": {
    "collapsed": false
   },
   "outputs": [],
   "source": [
    "data = pd.read_csv(\"data.csv\", parse_dates=True, infer_datetime_format=True, \n",
    "            sep = None, encoding = \"latin-1\", engine = \"python\")\n"
   ]
  },
  {
   "cell_type": "code",
   "execution_count": 16,
   "metadata": {
    "collapsed": false
   },
   "outputs": [
    {
     "data": {
      "text/html": [
       "<div>\n",
       "<table border=\"1\" class=\"dataframe\">\n",
       "  <thead>\n",
       "    <tr style=\"text-align: right;\">\n",
       "      <th></th>\n",
       "      <th>sEXT</th>\n",
       "      <th>sNEU</th>\n",
       "      <th>sAGR</th>\n",
       "      <th>sCON</th>\n",
       "      <th>sOPN</th>\n",
       "      <th>NETWORKSIZE</th>\n",
       "      <th>BETWEENNESS</th>\n",
       "      <th>NBETWEENNESS</th>\n",
       "      <th>DENSITY</th>\n",
       "      <th>BROKERAGE</th>\n",
       "      <th>NBROKERAGE</th>\n",
       "      <th>TRANSITIVITY</th>\n",
       "    </tr>\n",
       "  </thead>\n",
       "  <tbody>\n",
       "    <tr>\n",
       "      <th>count</th>\n",
       "      <td>9917.000000</td>\n",
       "      <td>9917.000000</td>\n",
       "      <td>9917.000000</td>\n",
       "      <td>9917.000000</td>\n",
       "      <td>9917.000000</td>\n",
       "      <td>9917.000000</td>\n",
       "      <td>9917.000000</td>\n",
       "      <td>9917.000000</td>\n",
       "      <td>9917.000000</td>\n",
       "      <td>9917.000000</td>\n",
       "      <td>9917.000000</td>\n",
       "      <td>9916.000000</td>\n",
       "    </tr>\n",
       "    <tr>\n",
       "      <th>mean</th>\n",
       "      <td>3.354760</td>\n",
       "      <td>2.609453</td>\n",
       "      <td>3.616643</td>\n",
       "      <td>3.474201</td>\n",
       "      <td>4.130386</td>\n",
       "      <td>429.377120</td>\n",
       "      <td>135425.315359</td>\n",
       "      <td>94.665170</td>\n",
       "      <td>3.154012</td>\n",
       "      <td>137642.476201</td>\n",
       "      <td>0.489920</td>\n",
       "      <td>0.128821</td>\n",
       "    </tr>\n",
       "    <tr>\n",
       "      <th>std</th>\n",
       "      <td>0.857578</td>\n",
       "      <td>0.760248</td>\n",
       "      <td>0.682485</td>\n",
       "      <td>0.737215</td>\n",
       "      <td>0.585672</td>\n",
       "      <td>428.760382</td>\n",
       "      <td>199433.803497</td>\n",
       "      <td>5.506696</td>\n",
       "      <td>311.073343</td>\n",
       "      <td>201392.066555</td>\n",
       "      <td>0.011908</td>\n",
       "      <td>0.106063</td>\n",
       "    </tr>\n",
       "    <tr>\n",
       "      <th>min</th>\n",
       "      <td>1.330000</td>\n",
       "      <td>1.250000</td>\n",
       "      <td>1.650000</td>\n",
       "      <td>1.450000</td>\n",
       "      <td>2.250000</td>\n",
       "      <td>24.000000</td>\n",
       "      <td>93.250000</td>\n",
       "      <td>0.040000</td>\n",
       "      <td>0.000000</td>\n",
       "      <td>0.490000</td>\n",
       "      <td>0.180000</td>\n",
       "      <td>0.000000</td>\n",
       "    </tr>\n",
       "    <tr>\n",
       "      <th>25%</th>\n",
       "      <td>2.710000</td>\n",
       "      <td>2.000000</td>\n",
       "      <td>3.140000</td>\n",
       "      <td>3.000000</td>\n",
       "      <td>3.750000</td>\n",
       "      <td>196.000000</td>\n",
       "      <td>16902.200000</td>\n",
       "      <td>93.770000</td>\n",
       "      <td>0.010000</td>\n",
       "      <td>17982.000000</td>\n",
       "      <td>0.490000</td>\n",
       "      <td>0.060000</td>\n",
       "    </tr>\n",
       "    <tr>\n",
       "      <th>50%</th>\n",
       "      <td>3.400000</td>\n",
       "      <td>2.600000</td>\n",
       "      <td>3.650000</td>\n",
       "      <td>3.400000</td>\n",
       "      <td>4.250000</td>\n",
       "      <td>317.000000</td>\n",
       "      <td>47166.900000</td>\n",
       "      <td>96.440000</td>\n",
       "      <td>0.020000</td>\n",
       "      <td>48683.000000</td>\n",
       "      <td>0.490000</td>\n",
       "      <td>0.090000</td>\n",
       "    </tr>\n",
       "    <tr>\n",
       "      <th>75%</th>\n",
       "      <td>4.000000</td>\n",
       "      <td>3.050000</td>\n",
       "      <td>4.150000</td>\n",
       "      <td>4.000000</td>\n",
       "      <td>4.550000</td>\n",
       "      <td>633.000000</td>\n",
       "      <td>196606.000000</td>\n",
       "      <td>97.880000</td>\n",
       "      <td>0.030000</td>\n",
       "      <td>198186.000000</td>\n",
       "      <td>0.500000</td>\n",
       "      <td>0.170000</td>\n",
       "    </tr>\n",
       "    <tr>\n",
       "      <th>max</th>\n",
       "      <td>5.000000</td>\n",
       "      <td>4.750000</td>\n",
       "      <td>5.000000</td>\n",
       "      <td>5.000000</td>\n",
       "      <td>5.000000</td>\n",
       "      <td>29724.900000</td>\n",
       "      <td>1251780.000000</td>\n",
       "      <td>99.820000</td>\n",
       "      <td>30978.000000</td>\n",
       "      <td>1263790.000000</td>\n",
       "      <td>0.500000</td>\n",
       "      <td>0.630000</td>\n",
       "    </tr>\n",
       "  </tbody>\n",
       "</table>\n",
       "</div>"
      ],
      "text/plain": [
       "              sEXT         sNEU         sAGR         sCON         sOPN  \\\n",
       "count  9917.000000  9917.000000  9917.000000  9917.000000  9917.000000   \n",
       "mean      3.354760     2.609453     3.616643     3.474201     4.130386   \n",
       "std       0.857578     0.760248     0.682485     0.737215     0.585672   \n",
       "min       1.330000     1.250000     1.650000     1.450000     2.250000   \n",
       "25%       2.710000     2.000000     3.140000     3.000000     3.750000   \n",
       "50%       3.400000     2.600000     3.650000     3.400000     4.250000   \n",
       "75%       4.000000     3.050000     4.150000     4.000000     4.550000   \n",
       "max       5.000000     4.750000     5.000000     5.000000     5.000000   \n",
       "\n",
       "        NETWORKSIZE     BETWEENNESS  NBETWEENNESS       DENSITY  \\\n",
       "count   9917.000000     9917.000000   9917.000000   9917.000000   \n",
       "mean     429.377120   135425.315359     94.665170      3.154012   \n",
       "std      428.760382   199433.803497      5.506696    311.073343   \n",
       "min       24.000000       93.250000      0.040000      0.000000   \n",
       "25%      196.000000    16902.200000     93.770000      0.010000   \n",
       "50%      317.000000    47166.900000     96.440000      0.020000   \n",
       "75%      633.000000   196606.000000     97.880000      0.030000   \n",
       "max    29724.900000  1251780.000000     99.820000  30978.000000   \n",
       "\n",
       "            BROKERAGE   NBROKERAGE  TRANSITIVITY  \n",
       "count     9917.000000  9917.000000   9916.000000  \n",
       "mean    137642.476201     0.489920      0.128821  \n",
       "std     201392.066555     0.011908      0.106063  \n",
       "min          0.490000     0.180000      0.000000  \n",
       "25%      17982.000000     0.490000      0.060000  \n",
       "50%      48683.000000     0.490000      0.090000  \n",
       "75%     198186.000000     0.500000      0.170000  \n",
       "max    1263790.000000     0.500000      0.630000  "
      ]
     },
     "execution_count": 16,
     "metadata": {},
     "output_type": "execute_result"
    }
   ],
   "source": [
    "data.describe()\n"
   ]
  },
  {
   "cell_type": "code",
   "execution_count": 17,
   "metadata": {
    "collapsed": false
   },
   "outputs": [
    {
     "data": {
      "text/plain": [
       "0                             likes the sound of thunder.\n",
       "1       is so sleepy it's not even funny that's she ca...\n",
       "2       is sore and wants the knot of muscles at the b...\n",
       "3              likes how the day sounds in this new song.\n",
       "4                                             is home. <3\n",
       "5                                   www.thejokerblogs.com\n",
       "6       saw a nun zombie, and liked it. Also, *PROPNAM...\n",
       "7       is in Kentucky. 421 miles into her 1100 mile j...\n",
       "8       was about to finish a digital painting before ...\n",
       "9       is celebrating her new haircut by listening to...\n",
       "10                      has a crush on the Green Lantern.\n",
       "11                                has magic on the brain.\n",
       "12      saw Transformers, Up, and Year One this week. ...\n",
       "13      Who wants to meet up on schedule pick-up day a...\n",
       "14        desires the thrill of inspiration. Also, money.\n",
       "15                         is going to bed at 9:30! Yeah!\n",
       "16      is reading, admiring her permit, and occasiona...\n",
       "17      thinks intangibility should be an option in re...\n",
       "18         is tired. *PROPNAME*, let me go to sleep pl0x.\n",
       "19           is discovering the many flavors of insomnia.\n",
       "20      is watching cousin play computer game on telev...\n",
       "21      Why is it I'm only getting the urge to draw wh...\n",
       "22      Who'da thought a single text message could be ...\n",
       "23      wishes to develop a super power that prevents ...\n",
       "24                            TELL ME WHAT TO DRAW, PLOX.\n",
       "25      found a bunny, bunny died, buried bunny, now i...\n",
       "26                                                     <3\n",
       "27                           is just about insane by now.\n",
       "28      wants to sleep eight hours tonight. And so she...\n",
       "29      really hates hormones and emotions right now. ...\n",
       "                              ...                        \n",
       "9887    Seriously, if a guy that you're dating ever sa...\n",
       "9888         Still waiting....so glad Monday's a holiday!\n",
       "9889    Why did they discontinue naptime after kinderg...\n",
       "9890    Yay, finally got my computer set up at my hous...\n",
       "9891    UGGGGGGHHHHH! My WoW account is totally screwe...\n",
       "9892    Wowsa....greeeeeeeat job news down the grapevi...\n",
       "9893     I feel like I'm drowning in paper work, uggh! :X\n",
       "9894    Brrrrrrrrrrrrrrrr, cold day! Where are those 4...\n",
       "9895    Awesome! First sunny day in ages...but now it'...\n",
       "9896    Woot woot! Good week...super productive and bu...\n",
       "9897    I hope it snows enough to go sledding...who wa...\n",
       "9898    Crap, I think my eyes hate me. Far away stuff ...\n",
       "9899    Rain, rain, go away, don't come back 'til I'm ...\n",
       "9900    It's not that I can't live without you; it's t...\n",
       "9901    It's a beautiful day in a neighborhood, a beau...\n",
       "9902    Just wanted to thank everyone for all the supp...\n",
       "9903    using facebook as procrastination for practicu...\n",
       "9904         First day quitting smoking...wish me luck!!!\n",
       "9905    you know when you work your @$$ off for a real...\n",
       "9906    Totalled my car last night. Luckilly no one wa...\n",
       "9907    Oh well.  Only two things to do when your team...\n",
       "9908                          And the cabin fever begins.\n",
       "9909         Facebook me marea. Me hates it long time T-T\n",
       "9910                                                  Red\n",
       "9911                 About mornings and winter,and magic.\n",
       "9912                         little things give you away.\n",
       "9913                          is wishing it was Saturday.\n",
       "9914                      is studying hard for the G.R.E.\n",
       "9915                                snipers get more head\n",
       "9916    Last night was amazing! Not only did I see *PR...\n",
       "Name: STATUS, dtype: object"
      ]
     },
     "execution_count": 17,
     "metadata": {},
     "output_type": "execute_result"
    }
   ],
   "source": [
    "line = data[\"STATUS\"]\n",
    "line"
   ]
  },
  {
   "cell_type": "code",
   "execution_count": 63,
   "metadata": {
    "collapsed": false
   },
   "outputs": [
    {
     "data": {
      "text/plain": [
       "9917"
      ]
     },
     "execution_count": 63,
     "metadata": {},
     "output_type": "execute_result"
    }
   ],
   "source": [
    "list_of_rows = []\n",
    "tokens = []\n",
    "\n",
    "list_of_rows = [l.split(\"\\n\")[0] for l in line ]\n",
    "\n",
    "\n",
    "for k in list_of_rows:\n",
    "    tokens.append(n.word_tokenize(k))\n",
    "    \n",
    "     \n",
    "len(tokens)"
   ]
  },
  {
   "cell_type": "code",
   "execution_count": 64,
   "metadata": {
    "collapsed": false
   },
   "outputs": [],
   "source": [
    "list = [l.split(\"\\n\")[0] for l in line ]\n",
    "\n",
    "#tokens = n.word_tokenize(list)\n",
    "#tokens"
   ]
  },
  {
   "cell_type": "code",
   "execution_count": 36,
   "metadata": {
    "collapsed": false
   },
   "outputs": [
    {
     "data": {
      "text/plain": [
       "['The', 'Project']"
      ]
     },
     "execution_count": 36,
     "metadata": {},
     "output_type": "execute_result"
    }
   ],
   "source": [
    "from urllib import request\n",
    "url = \"http://www.gutenberg.org/files/2554/2554.txt\"\n",
    "response = request.urlopen(url)\n",
    "raw = response.read().decode('utf8')\n",
    "type(raw)\n",
    "tokens = word_tokenize(raw)\n",
    "tokens[:2]\n",
    "\n"
   ]
  },
  {
   "cell_type": "code",
   "execution_count": null,
   "metadata": {
    "collapsed": false
   },
   "outputs": [],
   "source": []
  }
 ],
 "metadata": {
  "celltoolbar": "Edit Metadata",
  "kernelspec": {
   "display_name": "Python 3",
   "language": "python",
   "name": "python3"
  },
  "language_info": {
   "codemirror_mode": {
    "name": "ipython",
    "version": 3
   },
   "file_extension": ".py",
   "mimetype": "text/x-python",
   "name": "python",
   "nbconvert_exporter": "python",
   "pygments_lexer": "ipython3",
   "version": "3.4.3+"
  }
 },
 "nbformat": 4,
 "nbformat_minor": 0
}
