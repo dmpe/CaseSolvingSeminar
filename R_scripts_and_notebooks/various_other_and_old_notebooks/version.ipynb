{
 "cells": [
  {
   "cell_type": "code",
   "execution_count": 1,
   "metadata": {
    "collapsed": false
   },
   "outputs": [
    {
     "data": {
      "application/json": {
       "Software versions": [
        {
         "module": "Python",
         "version": "3.4.3+ 64bit [GCC 5.2.1 20151010]"
        },
        {
         "module": "IPython",
         "version": "4.1.1"
        },
        {
         "module": "OS",
         "version": "Linux 4.2.0 27 generic x86_64 with Ubuntu 15.10 wily"
        }
       ]
      },
      "text/html": [
       "<table><tr><th>Software</th><th>Version</th></tr><tr><td>Python</td><td>3.4.3+ 64bit [GCC 5.2.1 20151010]</td></tr><tr><td>IPython</td><td>4.1.1</td></tr><tr><td>OS</td><td>Linux 4.2.0 27 generic x86_64 with Ubuntu 15.10 wily</td></tr><tr><td colspan='2'>Tue Feb 16 17:42:50 2016 CET</td></tr></table>"
      ],
      "text/latex": [
       "\\begin{tabular}{|l|l|}\\hline\n",
       "{\\bf Software} & {\\bf Version} \\\\ \\hline\\hline\n",
       "Python & 3.4.3+ 64bit [GCC 5.2.1 20151010] \\\\ \\hline\n",
       "IPython & 4.1.1 \\\\ \\hline\n",
       "OS & Linux 4.2.0 27 generic x86\\_64 with Ubuntu 15.10 wily \\\\ \\hline\n",
       "\\hline \\multicolumn{2}{|l|}{Tue Feb 16 17:42:50 2016 CET} \\\\ \\hline\n",
       "\\end{tabular}\n"
      ],
      "text/plain": [
       "Software versions\n",
       "Python 3.4.3+ 64bit [GCC 5.2.1 20151010]\n",
       "IPython 4.1.1\n",
       "OS Linux 4.2.0 27 generic x86_64 with Ubuntu 15.10 wily\n",
       "Tue Feb 16 17:42:50 2016 CET"
      ]
     },
     "execution_count": 1,
     "metadata": {},
     "output_type": "execute_result"
    }
   ],
   "source": [
    "%load_ext version_information\n",
    "%version_information"
   ]
  }
 ],
 "metadata": {
  "hide_input": false,
  "kernelspec": {
   "display_name": "Python 3",
   "language": "python",
   "name": "python3"
  },
  "language_info": {
   "codemirror_mode": {
    "name": "ipython",
    "version": 3
   },
   "file_extension": ".py",
   "mimetype": "text/x-python",
   "name": "python",
   "nbconvert_exporter": "python",
   "pygments_lexer": "ipython3",
   "version": "3.4.3+"
  }
 },
 "nbformat": 4,
 "nbformat_minor": 0
}
