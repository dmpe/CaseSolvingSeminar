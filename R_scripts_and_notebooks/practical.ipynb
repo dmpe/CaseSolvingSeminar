{
 "cells": [
  {
   "cell_type": "markdown",
   "metadata": {},
   "source": [
    "\n",
    "### Imports"
   ]
  },
  {
   "cell_type": "code",
   "execution_count": 1,
   "metadata": {
    "collapsed": false,
    "scrolled": true
   },
   "outputs": [
    {
     "name": "stderr",
     "output_type": "stream",
     "text": [
      "/usr/local/lib/python3.4/dist-packages/IPython/extensions/cythonmagic.py:21: UserWarning: The Cython magic has been moved to the Cython package\n",
      "  warnings.warn(\"\"\"The Cython magic has been moved to the Cython package\"\"\")\n",
      "/usr/local/lib/python3.4/dist-packages/sklearn/lda.py:4: DeprecationWarning: lda.LDA has been moved to discriminant_analysis.LinearDiscriminantAnalysis in 0.17 and will be removed in 0.19\n",
      "  \"in 0.17 and will be removed in 0.19\", DeprecationWarning)\n",
      "/usr/local/lib/python3.4/dist-packages/sklearn/qda.py:4: DeprecationWarning: qda.QDA has been moved to discriminant_analysis.QuadraticDiscriminantAnalysis in 0.17 and will be removed in 0.19.\n",
      "  \"in 0.17 and will be removed in 0.19.\", DeprecationWarning)\n"
     ]
    }
   ],
   "source": [
    "%load_ext cython\n",
    "%load_ext cythonmagic\n",
    "%matplotlib inline\n",
    "%matplotlib notebook\n",
    "\n",
    "import pandas as pd\n",
    "import numpy as np\n",
    "import re, reprlib, sys\n",
    "import matplotlib.pyplot as plt\n",
    "from itertools import *\n",
    "import random as ran\n",
    "from logging import *\n",
    "from pprint import *\n",
    "from time import *\n",
    "import shlex, subprocess\n",
    "\n",
    "# import warnings\n",
    "# warnings.filterwarnings('ignore')\n",
    "# warnings.filterwarnings('ignore', category=DeprecationWarning)\n",
    "\n",
    "import pandas_confusion as pconf\n",
    "from pandas_confusion import *\n",
    "from scipy.cluster.vq import *\n",
    "\n",
    "import nltk as n\n",
    "import nltk, nltk.classify.util, nltk.metrics, nltk.tokenize, nltk.stem\n",
    "from nltk.corpus import *\n",
    "from nltk.stem import *\n",
    "from nltk.classify import *\n",
    "from nltk.collocations import *\n",
    "from nltk.metrics import *\n",
    "from nltk.probability import *\n",
    "from nltk.classify.scikitlearn import *\n",
    "from nltk.tag.sequential import *\n",
    "from nltk.tag import *\n",
    "from nltk.tag.util import *\n",
    "# n.download()\n",
    "\n",
    "from sklearn_pandas import *\n",
    "\n",
    "import sklearn as sk\n",
    "from sklearn import *\n",
    "from sklearn.feature_extraction.text import *\n",
    "from sklearn.svm import *\n",
    "from sklearn.preprocessing import *\n",
    "from sklearn.cross_validation import *\n",
    "from sklearn.pipeline import *\n",
    "from sklearn.multiclass import *\n",
    "from sklearn.datasets import *\n",
    "from sklearn.naive_bayes import *\n",
    "from sklearn.neighbors import *\n",
    "from sklearn.feature_selection import *\n",
    "from sklearn.ensemble import *\n",
    "from sklearn.linear_model import *\n",
    "from sklearn.tree import *\n",
    "from sklearn.grid_search import *\n",
    "from sklearn.base import *\n",
    "from sklearn.datasets.twenty_newsgroups import *\n",
    "from sklearn.decomposition import *\n",
    "from sklearn.feature_extraction import *\n",
    "from sklearn.metrics import *\n",
    "from sklearn.utils import *\n",
    "\n",
    "sk.utils.check_random_state(5125)\n",
    "ran.seed(5125)"
   ]
  },
  {
   "cell_type": "markdown",
   "metadata": {},
   "source": [
    "### R script adding new features to dataset "
   ]
  },
  {
   "cell_type": "code",
   "execution_count": 2,
   "metadata": {
    "collapsed": false
   },
   "outputs": [
    {
     "data": {
      "text/plain": [
       "''"
      ]
     },
     "execution_count": 2,
     "metadata": {},
     "output_type": "execute_result"
    }
   ],
   "source": [
    "# http://www.mango-solutions.com/wp/2015/10/integrating-python-and-r-part-ii-executing-r-from-python-and-vice-versa/\n",
    "command = 'Rscript'\n",
    "path2script = 'insert_features.R'\n",
    "\n",
    "# Build subprocess command\n",
    "cmd = [command, path2script]\n",
    "\n",
    "subprocess.check_output(cmd, universal_newlines=True)"
   ]
  },
  {
   "cell_type": "code",
   "execution_count": 16,
   "metadata": {
    "collapsed": false
   },
   "outputs": [
    {
     "data": {
      "text/html": [
       "<div>\n",
       "<table border=\"1\" class=\"dataframe\">\n",
       "  <thead>\n",
       "    <tr style=\"text-align: right;\">\n",
       "      <th></th>\n",
       "      <th>Unnamed: 0</th>\n",
       "      <th>#AUTHID</th>\n",
       "      <th>STATUS</th>\n",
       "      <th>sEXT</th>\n",
       "      <th>sNEU</th>\n",
       "      <th>sAGR</th>\n",
       "      <th>sCON</th>\n",
       "      <th>sOPN</th>\n",
       "      <th>cEXT</th>\n",
       "      <th>cNEU</th>\n",
       "      <th>...</th>\n",
       "      <th>Number_of_Dots</th>\n",
       "      <th>Number_of_Commas</th>\n",
       "      <th>Number_of_Semicolons</th>\n",
       "      <th>Number_of_Colons</th>\n",
       "      <th>Average_Word_Length</th>\n",
       "      <th>Lexical_Diversity</th>\n",
       "      <th>Number_of_FunctionalWords</th>\n",
       "      <th>Number_of_Pronouns</th>\n",
       "      <th>Number_of_PROPNAMEs</th>\n",
       "      <th>SentimentNumeric</th>\n",
       "    </tr>\n",
       "  </thead>\n",
       "  <tbody>\n",
       "    <tr>\n",
       "      <th>0</th>\n",
       "      <td>1</td>\n",
       "      <td>b7b7764cfa1c523e4e93ab2a79a946c4</td>\n",
       "      <td>likes the sound of thunder.</td>\n",
       "      <td>2.65</td>\n",
       "      <td>3</td>\n",
       "      <td>3.15</td>\n",
       "      <td>3.25</td>\n",
       "      <td>4.4</td>\n",
       "      <td>n</td>\n",
       "      <td>y</td>\n",
       "      <td>...</td>\n",
       "      <td>1</td>\n",
       "      <td>0</td>\n",
       "      <td>0</td>\n",
       "      <td>0</td>\n",
       "      <td>4.400</td>\n",
       "      <td>0.700</td>\n",
       "      <td>2</td>\n",
       "      <td>0</td>\n",
       "      <td>0</td>\n",
       "      <td>2</td>\n",
       "    </tr>\n",
       "    <tr>\n",
       "      <th>1</th>\n",
       "      <td>2</td>\n",
       "      <td>b7b7764cfa1c523e4e93ab2a79a946c4</td>\n",
       "      <td>is so sleepy it's not even funny that's she ca...</td>\n",
       "      <td>2.65</td>\n",
       "      <td>3</td>\n",
       "      <td>3.15</td>\n",
       "      <td>3.25</td>\n",
       "      <td>4.4</td>\n",
       "      <td>n</td>\n",
       "      <td>y</td>\n",
       "      <td>...</td>\n",
       "      <td>1</td>\n",
       "      <td>0</td>\n",
       "      <td>0</td>\n",
       "      <td>0</td>\n",
       "      <td>3.615</td>\n",
       "      <td>0.577</td>\n",
       "      <td>10</td>\n",
       "      <td>1</td>\n",
       "      <td>0</td>\n",
       "      <td>0</td>\n",
       "    </tr>\n",
       "    <tr>\n",
       "      <th>2</th>\n",
       "      <td>3</td>\n",
       "      <td>b7b7764cfa1c523e4e93ab2a79a946c4</td>\n",
       "      <td>is sore and wants the knot of muscles at the b...</td>\n",
       "      <td>2.65</td>\n",
       "      <td>3</td>\n",
       "      <td>3.15</td>\n",
       "      <td>3.25</td>\n",
       "      <td>4.4</td>\n",
       "      <td>n</td>\n",
       "      <td>y</td>\n",
       "      <td>...</td>\n",
       "      <td>1</td>\n",
       "      <td>1</td>\n",
       "      <td>0</td>\n",
       "      <td>0</td>\n",
       "      <td>3.500</td>\n",
       "      <td>0.509</td>\n",
       "      <td>14</td>\n",
       "      <td>1</td>\n",
       "      <td>0</td>\n",
       "      <td>1</td>\n",
       "    </tr>\n",
       "    <tr>\n",
       "      <th>3</th>\n",
       "      <td>4</td>\n",
       "      <td>b7b7764cfa1c523e4e93ab2a79a946c4</td>\n",
       "      <td>likes how the day sounds in this new song.</td>\n",
       "      <td>2.65</td>\n",
       "      <td>3</td>\n",
       "      <td>3.15</td>\n",
       "      <td>3.25</td>\n",
       "      <td>4.4</td>\n",
       "      <td>n</td>\n",
       "      <td>y</td>\n",
       "      <td>...</td>\n",
       "      <td>1</td>\n",
       "      <td>0</td>\n",
       "      <td>0</td>\n",
       "      <td>0</td>\n",
       "      <td>3.667</td>\n",
       "      <td>0.611</td>\n",
       "      <td>4</td>\n",
       "      <td>0</td>\n",
       "      <td>0</td>\n",
       "      <td>2</td>\n",
       "    </tr>\n",
       "    <tr>\n",
       "      <th>4</th>\n",
       "      <td>5</td>\n",
       "      <td>b7b7764cfa1c523e4e93ab2a79a946c4</td>\n",
       "      <td>is home. &lt;3</td>\n",
       "      <td>2.65</td>\n",
       "      <td>3</td>\n",
       "      <td>3.15</td>\n",
       "      <td>3.25</td>\n",
       "      <td>4.4</td>\n",
       "      <td>n</td>\n",
       "      <td>y</td>\n",
       "      <td>...</td>\n",
       "      <td>1</td>\n",
       "      <td>0</td>\n",
       "      <td>0</td>\n",
       "      <td>0</td>\n",
       "      <td>2.333</td>\n",
       "      <td>0.857</td>\n",
       "      <td>1</td>\n",
       "      <td>0</td>\n",
       "      <td>0</td>\n",
       "      <td>2</td>\n",
       "    </tr>\n",
       "  </tbody>\n",
       "</table>\n",
       "<p>5 rows × 33 columns</p>\n",
       "</div>"
      ],
      "text/plain": [
       "   Unnamed: 0                           #AUTHID  \\\n",
       "0           1  b7b7764cfa1c523e4e93ab2a79a946c4   \n",
       "1           2  b7b7764cfa1c523e4e93ab2a79a946c4   \n",
       "2           3  b7b7764cfa1c523e4e93ab2a79a946c4   \n",
       "3           4  b7b7764cfa1c523e4e93ab2a79a946c4   \n",
       "4           5  b7b7764cfa1c523e4e93ab2a79a946c4   \n",
       "\n",
       "                                              STATUS  sEXT  sNEU  sAGR  sCON  \\\n",
       "0                        likes the sound of thunder.  2.65     3  3.15  3.25   \n",
       "1  is so sleepy it's not even funny that's she ca...  2.65     3  3.15  3.25   \n",
       "2  is sore and wants the knot of muscles at the b...  2.65     3  3.15  3.25   \n",
       "3         likes how the day sounds in this new song.  2.65     3  3.15  3.25   \n",
       "4                                        is home. <3  2.65     3  3.15  3.25   \n",
       "\n",
       "   sOPN cEXT cNEU        ...        Number_of_Dots Number_of_Commas  \\\n",
       "0   4.4    n    y        ...                     1                0   \n",
       "1   4.4    n    y        ...                     1                0   \n",
       "2   4.4    n    y        ...                     1                1   \n",
       "3   4.4    n    y        ...                     1                0   \n",
       "4   4.4    n    y        ...                     1                0   \n",
       "\n",
       "  Number_of_Semicolons Number_of_Colons  Average_Word_Length  \\\n",
       "0                    0                0                4.400   \n",
       "1                    0                0                3.615   \n",
       "2                    0                0                3.500   \n",
       "3                    0                0                3.667   \n",
       "4                    0                0                2.333   \n",
       "\n",
       "   Lexical_Diversity  Number_of_FunctionalWords  Number_of_Pronouns  \\\n",
       "0              0.700                          2                   0   \n",
       "1              0.577                         10                   1   \n",
       "2              0.509                         14                   1   \n",
       "3              0.611                          4                   0   \n",
       "4              0.857                          1                   0   \n",
       "\n",
       "   Number_of_PROPNAMEs  SentimentNumeric  \n",
       "0                    0                 2  \n",
       "1                    0                 0  \n",
       "2                    0                 1  \n",
       "3                    0                 2  \n",
       "4                    0                 2  \n",
       "\n",
       "[5 rows x 33 columns]"
      ]
     },
     "execution_count": 16,
     "metadata": {},
     "output_type": "execute_result"
    }
   ],
   "source": [
    "data_n = pd.read_csv(\"../raw_data/data_n.csv\", parse_dates=True, infer_datetime_format=True)\n",
    "data_n.head()"
   ]
  },
  {
   "cell_type": "markdown",
   "metadata": {},
   "source": [
    "### Replace 'y' and 'n'   AND easy split"
   ]
  },
  {
   "cell_type": "code",
   "execution_count": 17,
   "metadata": {
    "collapsed": false,
    "scrolled": false
   },
   "outputs": [
    {
     "data": {
      "text/html": [
       "<div>\n",
       "<table border=\"1\" class=\"dataframe\">\n",
       "  <thead>\n",
       "    <tr style=\"text-align: right;\">\n",
       "      <th></th>\n",
       "      <th>Unnamed: 0</th>\n",
       "      <th>#AUTHID</th>\n",
       "      <th>STATUS</th>\n",
       "      <th>sEXT</th>\n",
       "      <th>sNEU</th>\n",
       "      <th>sAGR</th>\n",
       "      <th>sCON</th>\n",
       "      <th>sOPN</th>\n",
       "      <th>cEXT</th>\n",
       "      <th>cNEU</th>\n",
       "      <th>...</th>\n",
       "      <th>Number_of_Dots</th>\n",
       "      <th>Number_of_Commas</th>\n",
       "      <th>Number_of_Semicolons</th>\n",
       "      <th>Number_of_Colons</th>\n",
       "      <th>Average_Word_Length</th>\n",
       "      <th>Lexical_Diversity</th>\n",
       "      <th>Number_of_FunctionalWords</th>\n",
       "      <th>Number_of_Pronouns</th>\n",
       "      <th>Number_of_PROPNAMEs</th>\n",
       "      <th>SentimentNumeric</th>\n",
       "    </tr>\n",
       "  </thead>\n",
       "  <tbody>\n",
       "    <tr>\n",
       "      <th>0</th>\n",
       "      <td>1</td>\n",
       "      <td>b7b7764cfa1c523e4e93ab2a79a946c4</td>\n",
       "      <td>likes the sound of thunder.</td>\n",
       "      <td>2.65</td>\n",
       "      <td>3</td>\n",
       "      <td>3.15</td>\n",
       "      <td>3.25</td>\n",
       "      <td>4.4</td>\n",
       "      <td>0</td>\n",
       "      <td>1</td>\n",
       "      <td>...</td>\n",
       "      <td>1</td>\n",
       "      <td>0</td>\n",
       "      <td>0</td>\n",
       "      <td>0</td>\n",
       "      <td>4.4</td>\n",
       "      <td>0.7</td>\n",
       "      <td>2</td>\n",
       "      <td>0</td>\n",
       "      <td>0</td>\n",
       "      <td>2</td>\n",
       "    </tr>\n",
       "  </tbody>\n",
       "</table>\n",
       "<p>1 rows × 33 columns</p>\n",
       "</div>"
      ],
      "text/plain": [
       "   Unnamed: 0                           #AUTHID                       STATUS  \\\n",
       "0           1  b7b7764cfa1c523e4e93ab2a79a946c4  likes the sound of thunder.   \n",
       "\n",
       "   sEXT  sNEU  sAGR  sCON  sOPN  cEXT  cNEU        ...         Number_of_Dots  \\\n",
       "0  2.65     3  3.15  3.25   4.4     0     1        ...                      1   \n",
       "\n",
       "   Number_of_Commas  Number_of_Semicolons Number_of_Colons  \\\n",
       "0                 0                     0                0   \n",
       "\n",
       "   Average_Word_Length  Lexical_Diversity  Number_of_FunctionalWords  \\\n",
       "0                  4.4                0.7                          2   \n",
       "\n",
       "   Number_of_Pronouns  Number_of_PROPNAMEs  SentimentNumeric  \n",
       "0                   0                    0                 2  \n",
       "\n",
       "[1 rows x 33 columns]"
      ]
     },
     "execution_count": 17,
     "metadata": {},
     "output_type": "execute_result"
    }
   ],
   "source": [
    "# http://stackoverflow.com/a/17702781\n",
    "d = {'n': 0, 'y': 1}\n",
    "data_n = data_n.replace(d)\n",
    "data_n.head(n=1)"
   ]
  },
  {
   "cell_type": "code",
   "execution_count": 18,
   "metadata": {
    "collapsed": true
   },
   "outputs": [],
   "source": [
    "#norm:http://blog.yhat.com/posts/predicting-customer-churn-with-sklearn.html\n",
    "# scaler = StandardScaler()\n",
    "# X = scaler.fit_transform(X)\n",
    "# to_drop = ['State','Area Code','Phone','Churn?']\n",
    "# churn_feat_space = data_n.drop(to_drop,axis=1)"
   ]
  },
  {
   "cell_type": "code",
   "execution_count": 33,
   "metadata": {
    "collapsed": false
   },
   "outputs": [],
   "source": [
    "neu = data_n[[\"#AUTHID\",\"STATUS\",\"cNEU\", \"sNEU\", \"StringLength\", \n",
    "                  \"Number_of_Words\", \"Number_of_Dots\", \"Number_of_Commas\", \"Number_of_Semicolons\", \n",
    "                  \"Number_of_Colons\", \"Average_Word_Length\", \"Lexical_Diversity\", \"Number_of_FunctionalWords\", \"Number_of_Pronouns\", \"Number_of_PROPNAMEs\", \"SentimentNumeric\"]]\n",
    "ext = data_n[[\"#AUTHID\",\"STATUS\",\"cEXT\", \"sEXT\", \"StringLength\", \n",
    "                  \"Number_of_Words\", \"Number_of_Dots\", \"Number_of_Commas\", \"Number_of_Semicolons\", \n",
    "                  \"Number_of_Colons\", \"Average_Word_Length\", \"Lexical_Diversity\", \"Number_of_FunctionalWords\", \"Number_of_Pronouns\", \"Number_of_PROPNAMEs\", \"SentimentNumeric\"]]\n",
    "agr = data_n[[\"#AUTHID\",\"STATUS\",\"cAGR\", \"sAGR\",\"StringLength\", \n",
    "                  \"Number_of_Words\", \"Number_of_Dots\", \"Number_of_Commas\", \"Number_of_Semicolons\", \n",
    "                  \"Number_of_Colons\", \"Average_Word_Length\", \"Lexical_Diversity\", \"Number_of_FunctionalWords\", \"Number_of_Pronouns\", \"Number_of_PROPNAMEs\", \"SentimentNumeric\"]]\n",
    "con = data_n[[\"#AUTHID\",\"STATUS\",\"cCON\", \"sCON\", \"StringLength\", \n",
    "                  \"Number_of_Words\", \"Number_of_Dots\", \"Number_of_Commas\", \"Number_of_Semicolons\", \n",
    "                  \"Number_of_Colons\", \"Average_Word_Length\", \"Lexical_Diversity\", \"Number_of_FunctionalWords\", \"Number_of_Pronouns\", \"Number_of_PROPNAMEs\", \"SentimentNumeric\"]]\n",
    "opn = data_n[[\"#AUTHID\",\"STATUS\",\"cOPN\", \"sOPN\", \"StringLength\", \n",
    "                  \"Number_of_Words\", \"Number_of_Dots\", \"Number_of_Commas\", \"Number_of_Semicolons\", \n",
    "                  \"Number_of_Colons\", \"Average_Word_Length\", \"Lexical_Diversity\", \"Number_of_FunctionalWords\", \"Number_of_Pronouns\", \"Number_of_PROPNAMEs\", \"SentimentNumeric\"]]"
   ]
  },
  {
   "cell_type": "markdown",
   "metadata": {},
   "source": [
    "### Split stra. k-fold + selection of columns"
   ]
  },
  {
   "cell_type": "code",
   "execution_count": 20,
   "metadata": {
    "collapsed": true
   },
   "outputs": [],
   "source": [
    "# neu = data_n[[\"#AUTHID\",\"STATUS\",\"cNEU\"]]\n",
    "# train_neu, test_neu, y_train, y_test = sk.cross_validation.train_test_split(neu, neu[\"cNEU\"], train_size = 0.66, stratify= neu[\"cNEU\"])\n",
    "# train_neu, test_neu, y_train, y_test "
   ]
  },
  {
   "cell_type": "code",
   "execution_count": 34,
   "metadata": {
    "collapsed": false
   },
   "outputs": [
    {
     "name": "stdout",
     "output_type": "stream",
     "text": [
      "(6545, 16) (3372, 16) (6545,) (3372,)\n"
     ]
    }
   ],
   "source": [
    "train_feat_neu, test_feat_neu, train_class_neu, test_class_neu = sk.cross_validation.train_test_split(neu, neu[\"cNEU\"], train_size = 0.66, stratify = neu[\"cNEU\"],random_state= 5152)\n",
    "print(train_feat_neu.shape, test_feat_neu.shape,train_class_neu.shape ,test_class_neu.shape)\n",
    "\n",
    "neu_X = train_feat_neu.append(test_feat_neu)\n",
    "neu_Y = train_class_neu.append(test_class_neu)\n",
    "\n",
    "train_feat_ext, test_feat_ext, train_class_ext, test_class_ext = sk.cross_validation.train_test_split(ext, ext[\"cEXT\"], train_size = 0.66, stratify = ext[\"cEXT\"],random_state= 5152)\n",
    "train_feat_agr, test_feat_agr, train_class_agr, test_class_agr = sk.cross_validation.train_test_split(agr, agr[\"cAGR\"], train_size = 0.66, stratify = agr[\"cAGR\"],random_state= 5152)\n",
    "train_feat_con, test_feat_con, train_class_con, test_class_con = sk.cross_validation.train_test_split(con, con[\"cCON\"], train_size = 0.66, stratify = con[\"cCON\"],random_state= 5152)\n",
    "train_feat_opn, test_feat_opn, train_class_opn, test_class_opn = sk.cross_validation.train_test_split(opn, opn[\"cOPN\"], train_size = 0.66, stratify = opn[\"cOPN\"],random_state= 5152)"
   ]
  },
  {
   "cell_type": "code",
   "execution_count": 22,
   "metadata": {
    "collapsed": false
   },
   "outputs": [],
   "source": [
    "# mku = sk.pipeline.make_pipeline(SGDClassifier(), LinearSVC(),\n",
    "#                                # BernoulliNB(), #MultinomialNB()\n",
    "#                                # KNeighborsClassifier(),\n",
    "#               RandomForestClassifier(n_jobs=-1),AdaBoostClassifier()) "
   ]
  },
  {
   "cell_type": "markdown",
   "metadata": {},
   "source": [
    "### Types of classifiers \n",
    "with their configuration"
   ]
  },
  {
   "cell_type": "code",
   "execution_count": 31,
   "metadata": {
    "collapsed": true
   },
   "outputs": [],
   "source": [
    "nick_names = [\"ttSVC\", \"ttLinearSVC\", \"ttMNB\", \"ttBNB\", \"ttRF\", \"ttAD\", \"ttKNN\"]\n",
    "classifiers = [\n",
    "    SVC(cache_size=500, kernel = \"rbf\", decision_function_shape = \"ovr\"),\n",
    "    LinearSVC(),\n",
    "    MultinomialNB(),\n",
    "    BernoulliNB(),\n",
    "    RandomForestClassifier(max_depth=5, n_estimators=10, max_features=1, n_jobs=-1),\n",
    "    AdaBoostClassifier(),\n",
    "    KNeighborsClassifier()]"
   ]
  },
  {
   "cell_type": "markdown",
   "metadata": {},
   "source": [
    "### Train + Test NEU"
   ]
  },
  {
   "cell_type": "code",
   "execution_count": 73,
   "metadata": {
    "collapsed": false
   },
   "outputs": [
    {
     "name": "stdout",
     "output_type": "stream",
     "text": [
      "\n",
      "FOR: ttSVC\n",
      "Accuracy score:  0.857354685647\n",
      "MAR:  0.142645314353\n",
      "             precision    recall  f1-score   support\n",
      "\n",
      "          0       0.84      0.95      0.89      2108\n",
      "          1       0.89      0.71      0.79      1264\n",
      "\n",
      "avg / total       0.86      0.86      0.85      3372\n",
      "\n",
      "\n",
      "FOR: ttLinearSVC\n",
      "Accuracy score:  0.95699881376\n",
      "MAR:  0.0430011862396\n",
      "             precision    recall  f1-score   support\n",
      "\n",
      "          0       0.94      1.00      0.97      2108\n",
      "          1       1.00      0.89      0.94      1264\n",
      "\n",
      "avg / total       0.96      0.96      0.96      3372\n",
      "\n",
      "\n",
      "FOR: ttMNB\n",
      "Accuracy score:  0.707591933571\n",
      "MAR:  0.292408066429\n",
      "             precision    recall  f1-score   support\n",
      "\n",
      "          0       0.75      0.80      0.77      2108\n",
      "          1       0.62      0.55      0.59      1264\n",
      "\n",
      "avg / total       0.70      0.71      0.70      3372\n",
      "\n",
      "\n",
      "FOR: ttBNB\n",
      "Accuracy score:  0.625741399763\n",
      "MAR:  0.374258600237\n",
      "             precision    recall  f1-score   support\n",
      "\n",
      "          0       0.63      1.00      0.77      2108\n",
      "          1       0.75      0.00      0.00      1264\n",
      "\n",
      "avg / total       0.67      0.63      0.48      3372\n",
      "\n",
      "\n",
      "FOR: ttRF\n",
      "Accuracy score:  1.0\n",
      "MAR:  0.0\n",
      "             precision    recall  f1-score   support\n",
      "\n",
      "          0       1.00      1.00      1.00      2108\n",
      "          1       1.00      1.00      1.00      1264\n",
      "\n",
      "avg / total       1.00      1.00      1.00      3372\n",
      "\n",
      "\n",
      "FOR: ttAD\n",
      "Accuracy score:  1.0\n",
      "MAR:  0.0\n",
      "             precision    recall  f1-score   support\n",
      "\n",
      "          0       1.00      1.00      1.00      2108\n",
      "          1       1.00      1.00      1.00      1264\n",
      "\n",
      "avg / total       1.00      1.00      1.00      3372\n",
      "\n",
      "\n",
      "FOR: ttKNN\n",
      "Accuracy score:  0.773131672598\n",
      "MAR:  0.226868327402\n",
      "             precision    recall  f1-score   support\n",
      "\n",
      "          0       0.78      0.88      0.83      2108\n",
      "          1       0.75      0.59      0.66      1264\n",
      "\n",
      "avg / total       0.77      0.77      0.77      3372\n",
      "\n"
     ]
    }
   ],
   "source": [
    "# print(classifiers, nick_names)\n",
    "for name, clf in zip(nick_names, classifiers):\n",
    "    clf.fit(train_feat_neu[[\"sNEU\", \"StringLength\", \n",
    "                  \"Number_of_Words\", \"Average_Word_Length\", \"Lexical_Diversity\", \"Number_of_FunctionalWords\", \"Number_of_Pronouns\", \"Number_of_PROPNAMEs\", \"SentimentNumeric\"]], train_class_neu)\n",
    "    y_pred = clf.predict(test_feat_neu[[\"sNEU\", \"StringLength\", \n",
    "                  \"Number_of_Words\", \"Average_Word_Length\", \"Lexical_Diversity\", \"Number_of_FunctionalWords\", \"Number_of_Pronouns\", \"Number_of_PROPNAMEs\", \"SentimentNumeric\"]])\n",
    "    print(\"\\nFOR:\", name)\n",
    "    print(\"Accuracy score: \", sk.metrics.accuracy_score(test_class_neu, y_pred))\n",
    "    print(\"MAR: \", sk.metrics.mean_absolute_error(test_class_neu, y_pred))\n",
    "    print(sk.metrics.classification_report(test_class_neu, y_pred))"
   ]
  },
  {
   "cell_type": "code",
   "execution_count": 25,
   "metadata": {
    "collapsed": false
   },
   "outputs": [
    {
     "ename": "NameError",
     "evalue": "name 'ttSVC' is not defined",
     "output_type": "error",
     "traceback": [
      "\u001b[1;31m---------------------------------------------------------------------------\u001b[0m",
      "\u001b[1;31mNameError\u001b[0m                                 Traceback (most recent call last)",
      "\u001b[1;32m<ipython-input-25-15f83439b000>\u001b[0m in \u001b[0;36m<module>\u001b[1;34m()\u001b[0m\n\u001b[0;32m      1\u001b[0m eclf = VotingClassifier(estimators=[\n\u001b[1;32m----> 2\u001b[1;33m         \u001b[1;33m(\u001b[0m\u001b[1;34m\"svc\"\u001b[0m\u001b[1;33m,\u001b[0m \u001b[0mttSVC\u001b[0m\u001b[1;33m)\u001b[0m\u001b[1;33m,\u001b[0m\u001b[1;33m\u001b[0m\u001b[0m\n\u001b[0m\u001b[0;32m      3\u001b[0m         (\"linear_svc\", ttLinearSVC)], voting='hard')\n\u001b[0;32m      4\u001b[0m \u001b[1;33m\u001b[0m\u001b[0m\n\u001b[0;32m      5\u001b[0m \u001b[1;33m\u001b[0m\u001b[0m\n",
      "\u001b[1;31mNameError\u001b[0m: name 'ttSVC' is not defined"
     ]
    }
   ],
   "source": [
    "eclf = VotingClassifier(estimators=[\n",
    "        (\"svc\", ttSVC),\n",
    "        (\"linear_svc\", ttLinearSVC)], voting='hard')\n",
    "\n",
    "\n",
    "for clf, label in zip([ttSVC, ttLinearSVC], [\"SVC\", \"LSVC\"]):\n",
    "    scores = cross_validation.cross_val_score(clf, neu_X[[\"StringLength\", \n",
    "                  \"Number_of_Words\", \"Number_of_Dots\", \"Number_of_Commas\", \"Number_of_Semicolons\", \n",
    "                  \"Number_of_Colons\", \"Average_Word_Length\", \"Lexical_Diversity\"]], neu_Y, cv=skf, scoring='accuracy')\n",
    "    print(\"Accuracy: %0.3f (+/- %0.2f) [%s]\" % (scores.mean(), scores.std()*2, label))\n",
    "    print(scores)"
   ]
  },
  {
   "cell_type": "code",
   "execution_count": 26,
   "metadata": {
    "collapsed": false
   },
   "outputs": [
    {
     "name": "stdout",
     "output_type": "stream",
     "text": [
      "sklearn.cross_validation.StratifiedKFold(labels=[1 1 1 ..., 1 1 1], n_folds=10, shuffle=True, random_state=5152)\n"
     ]
    }
   ],
   "source": [
    "skf = StratifiedKFold(neu[\"cNEU\"], n_folds=10, shuffle=True, random_state = 5152)\n",
    "print(skf) "
   ]
  },
  {
   "cell_type": "markdown",
   "metadata": {},
   "source": [
    "### Train + Test EXT"
   ]
  },
  {
   "cell_type": "code",
   "execution_count": 72,
   "metadata": {
    "collapsed": false
   },
   "outputs": [
    {
     "name": "stdout",
     "output_type": "stream",
     "text": [
      "\n",
      "FOR: ttSVC\n",
      "Accuracy score:  0.864768683274\n",
      "MAR:  0.135231316726\n",
      "             precision    recall  f1-score   support\n",
      "\n",
      "          0       0.84      0.94      0.89      1941\n",
      "          1       0.90      0.76      0.83      1431\n",
      "\n",
      "avg / total       0.87      0.86      0.86      3372\n",
      "\n",
      "\n",
      "FOR: ttLinearSVC\n",
      "Accuracy score:  0.863879003559\n",
      "MAR:  0.136120996441\n",
      "             precision    recall  f1-score   support\n",
      "\n",
      "          0       0.81      1.00      0.89      1941\n",
      "          1       1.00      0.68      0.81      1431\n",
      "\n",
      "avg / total       0.89      0.86      0.86      3372\n",
      "\n",
      "\n",
      "FOR: ttMNB\n",
      "Accuracy score:  0.635231316726\n",
      "MAR:  0.364768683274\n",
      "             precision    recall  f1-score   support\n",
      "\n",
      "          0       0.69      0.66      0.67      1941\n",
      "          1       0.57      0.61      0.58      1431\n",
      "\n",
      "avg / total       0.64      0.64      0.64      3372\n",
      "\n",
      "\n",
      "FOR: ttBNB\n",
      "Accuracy score:  0.586002372479\n",
      "MAR:  0.413997627521\n",
      "             precision    recall  f1-score   support\n",
      "\n",
      "          0       0.59      0.93      0.72      1941\n",
      "          1       0.56      0.12      0.20      1431\n",
      "\n",
      "avg / total       0.58      0.59      0.50      3372\n",
      "\n",
      "\n",
      "FOR: ttRF\n",
      "Accuracy score:  0.983985765125\n",
      "MAR:  0.0160142348754\n",
      "             precision    recall  f1-score   support\n",
      "\n",
      "          0       0.97      1.00      0.99      1941\n",
      "          1       1.00      0.96      0.98      1431\n",
      "\n",
      "avg / total       0.98      0.98      0.98      3372\n",
      "\n",
      "\n",
      "FOR: ttAD\n",
      "Accuracy score:  1.0\n",
      "MAR:  0.0\n",
      "             precision    recall  f1-score   support\n",
      "\n",
      "          0       1.00      1.00      1.00      1941\n",
      "          1       1.00      1.00      1.00      1431\n",
      "\n",
      "avg / total       1.00      1.00      1.00      3372\n",
      "\n",
      "\n",
      "FOR: ttKNN\n",
      "Accuracy score:  0.762455516014\n",
      "MAR:  0.237544483986\n",
      "             precision    recall  f1-score   support\n",
      "\n",
      "          0       0.77      0.83      0.80      1941\n",
      "          1       0.75      0.67      0.70      1431\n",
      "\n",
      "avg / total       0.76      0.76      0.76      3372\n",
      "\n"
     ]
    }
   ],
   "source": [
    "# print(classifiers, nick_names)\n",
    "for name, clf in zip(nick_names, classifiers):\n",
    "    clf.fit(train_feat_ext[[\"sEXT\", \"StringLength\", \n",
    "                  \"Number_of_Words\", \"Number_of_Dots\", \"Number_of_Commas\", \"Number_of_Semicolons\", \n",
    "                  \"Number_of_Colons\", \"Average_Word_Length\", \"Lexical_Diversity\", \"Number_of_FunctionalWords\", \"Number_of_Pronouns\", \"Number_of_PROPNAMEs\", \"SentimentNumeric\"]], train_class_ext)\n",
    "    y_pred_ext = clf.predict(test_feat_ext[[\"sEXT\", \"StringLength\", \n",
    "                  \"Number_of_Words\", \"Number_of_Dots\", \"Number_of_Commas\", \"Number_of_Semicolons\", \n",
    "                  \"Number_of_Colons\", \"Average_Word_Length\", \"Lexical_Diversity\", \"Number_of_FunctionalWords\", \"Number_of_Pronouns\", \"Number_of_PROPNAMEs\", \"SentimentNumeric\"]])\n",
    "    print(\"\\nFOR:\", name)\n",
    "    print(\"Accuracy score: \", sk.metrics.accuracy_score(test_class_ext, y_pred_ext))\n",
    "    print(\"MAR: \", sk.metrics.mean_absolute_error(test_class_ext, y_pred_ext))\n",
    "    print(sk.metrics.classification_report(test_class_ext, y_pred_ext))"
   ]
  },
  {
   "cell_type": "markdown",
   "metadata": {},
   "source": [
    "### Train + Test CON"
   ]
  },
  {
   "cell_type": "code",
   "execution_count": 75,
   "metadata": {
    "collapsed": false
   },
   "outputs": [
    {
     "name": "stdout",
     "output_type": "stream",
     "text": [
      "\n",
      "FOR: ttSVC\n",
      "Accuracy score:  0.867734282325\n",
      "MAR:  0.132265717675\n",
      "             precision    recall  f1-score   support\n",
      "\n",
      "          0       0.83      0.94      0.89      1823\n",
      "          1       0.92      0.78      0.84      1549\n",
      "\n",
      "avg / total       0.87      0.87      0.87      3372\n",
      "\n",
      "\n",
      "FOR: ttLinearSVC\n",
      "Accuracy score:  0.942170818505\n",
      "MAR:  0.0578291814947\n",
      "             precision    recall  f1-score   support\n",
      "\n",
      "          0       1.00      0.89      0.94      1823\n",
      "          1       0.89      1.00      0.94      1549\n",
      "\n",
      "avg / total       0.95      0.94      0.94      3372\n",
      "\n",
      "\n",
      "FOR: ttMNB\n",
      "Accuracy score:  0.585705812574\n",
      "MAR:  0.414294187426\n",
      "             precision    recall  f1-score   support\n",
      "\n",
      "          0       0.65      0.52      0.57      1823\n",
      "          1       0.54      0.67      0.60      1549\n",
      "\n",
      "avg / total       0.60      0.59      0.58      3372\n",
      "\n",
      "\n",
      "FOR: ttBNB\n",
      "Accuracy score:  0.527283511269\n",
      "MAR:  0.472716488731\n",
      "             precision    recall  f1-score   support\n",
      "\n",
      "          0       0.54      0.91      0.67      1823\n",
      "          1       0.42      0.08      0.14      1549\n",
      "\n",
      "avg / total       0.49      0.53      0.43      3372\n",
      "\n",
      "\n",
      "FOR: ttRF\n",
      "Accuracy score:  0.998517200474\n",
      "MAR:  0.0014827995255\n",
      "             precision    recall  f1-score   support\n",
      "\n",
      "          0       1.00      1.00      1.00      1823\n",
      "          1       1.00      1.00      1.00      1549\n",
      "\n",
      "avg / total       1.00      1.00      1.00      3372\n",
      "\n",
      "\n",
      "FOR: ttAD\n",
      "Accuracy score:  1.0\n",
      "MAR:  0.0\n",
      "             precision    recall  f1-score   support\n",
      "\n",
      "          0       1.00      1.00      1.00      1823\n",
      "          1       1.00      1.00      1.00      1549\n",
      "\n",
      "avg / total       1.00      1.00      1.00      3372\n",
      "\n",
      "\n",
      "FOR: ttKNN\n",
      "Accuracy score:  0.768090154211\n",
      "MAR:  0.231909845789\n",
      "             precision    recall  f1-score   support\n",
      "\n",
      "          0       0.77      0.82      0.79      1823\n",
      "          1       0.77      0.71      0.74      1549\n",
      "\n",
      "avg / total       0.77      0.77      0.77      3372\n",
      "\n"
     ]
    }
   ],
   "source": [
    "# print(classifiers, nick_names)\n",
    "for name, clf in zip(nick_names, classifiers):\n",
    "    clf.fit(train_feat_con[[\"sCON\", \"StringLength\", \n",
    "                  \"Number_of_Words\", \"Average_Word_Length\", \"Lexical_Diversity\", \"Number_of_FunctionalWords\", \"Number_of_Pronouns\", \"Number_of_PROPNAMEs\", \"SentimentNumeric\"]], train_class_con)\n",
    "    y_pred = clf.predict(test_feat_con[[\"sCON\", \"StringLength\", \n",
    "                  \"Number_of_Words\", \"Average_Word_Length\", \"Lexical_Diversity\", \"Number_of_FunctionalWords\", \"Number_of_Pronouns\", \"Number_of_PROPNAMEs\", \"SentimentNumeric\"]])\n",
    "    print(\"\\nFOR:\", name)\n",
    "    print(\"Accuracy score: \", sk.metrics.accuracy_score(test_class_con, y_pred))\n",
    "    print(\"MAR: \", sk.metrics.mean_absolute_error(test_class_con, y_pred))\n",
    "    print(sk.metrics.classification_report(test_class_con, y_pred))"
   ]
  }
 ],
 "metadata": {
  "hide_input": false,
  "kernelspec": {
   "display_name": "Python 3",
   "language": "python",
   "name": "python3"
  },
  "language_info": {
   "codemirror_mode": {
    "name": "ipython",
    "version": 3
   },
   "file_extension": ".py",
   "mimetype": "text/x-python",
   "name": "python",
   "nbconvert_exporter": "python",
   "pygments_lexer": "ipython3",
   "version": "3.4.3+"
  }
 },
 "nbformat": 4,
 "nbformat_minor": 0
}
