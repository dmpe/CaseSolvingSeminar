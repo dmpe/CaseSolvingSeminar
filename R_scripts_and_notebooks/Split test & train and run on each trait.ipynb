{
 "cells": [
  {
   "cell_type": "markdown",
   "metadata": {},
   "source": [
    "### Sources"
   ]
  },
  {
   "cell_type": "markdown",
   "metadata": {},
   "source": [
    "http://billchambers.me/tutorials/2015/01/14/python-nlp-cheatsheet-nltk-scikit-learn.html\n",
    "\n",
    "http://glowingpython.blogspot.de/2013/07/combining-scikit-learn-and-ntlk.html\n",
    "\n",
    "http://www.cs.duke.edu/courses/spring14/compsci290/assignments/lab02.html\n",
    "\n",
    "https://stackoverflow.com/questions/10526579/use-scikit-learn-to-classify-into-multiple-categories\n",
    "\n",
    "https://github.com/anuraagvak/IRE-PersonalityRecognition-Final/blob/master/ire_report.pdf\n",
    "\n",
    "https://github.com/Charudatt89/Personality_Recognition/blob/master/22-9-PersonalityRecognition/Report/Report.pdf\n",
    "\n",
    "http://stackoverflow.com/questions/2148543/how-to-write-a-confusion-matrix-in-python\n",
    "\n",
    "Lexical and syntactic features: http://www.aicbt.com/authorship-attribution/"
   ]
  },
  {
   "cell_type": "code",
   "execution_count": 22,
   "metadata": {
    "collapsed": false,
    "scrolled": true
   },
   "outputs": [
    {
     "name": "stdout",
     "output_type": "stream",
     "text": [
      "The cython extension is already loaded. To reload it, use:\n",
      "  %reload_ext cython\n",
      "The cythonmagic extension is already loaded. To reload it, use:\n",
      "  %reload_ext cythonmagic\n"
     ]
    }
   ],
   "source": [
    "import pandas as pd\n",
    "import numpy as np\n",
    "import re, reprlib, sys\n",
    "import matplotlib.pyplot as plt\n",
    "from itertools import *\n",
    "import random as ran\n",
    "from logging import *\n",
    "from pprint import *\n",
    "from time import *\n",
    "from rpy2 import *\n",
    "\n",
    "ran.seed(5125)\n",
    "\n",
    "%load_ext cython\n",
    "%load_ext cythonmagic\n",
    "%matplotlib inline\n",
    "\n",
    "from pandas_confusion import *\n",
    "from scipy.cluster.vq import *\n",
    "\n",
    "import nltk as n\n",
    "import nltk, nltk.classify.util, nltk.metrics, nltk.tokenize, nltk.stem\n",
    "from nltk.corpus import *\n",
    "from nltk.stem import *\n",
    "from nltk.classify import *\n",
    "from nltk.collocations import *\n",
    "from nltk.metrics import BigramAssocMeasures as BAM\n",
    "from nltk.probability import *\n",
    "from nltk.classify.scikitlearn import *\n",
    "from nltk.tag.sequential import *\n",
    "from nltk.tag import *\n",
    "from nltk.tag.util import *\n",
    "\n",
    "\n",
    "import sklearn as sk\n",
    "from sklearn import *\n",
    "from sklearn.feature_extraction.text import *\n",
    "from sklearn.svm import *\n",
    "from sklearn.pipeline import *\n",
    "from sklearn.multiclass import *\n",
    "from sklearn.naive_bayes import *\n",
    "from sklearn.neighbors import *\n",
    "from sklearn.feature_selection import *\n",
    "from sklearn.ensemble import *\n",
    "from sklearn.grid_search import *\n",
    "from sklearn.linear_model import *\n",
    "# n.download()"
   ]
  },
  {
   "cell_type": "markdown",
   "metadata": {},
   "source": [
    "### Read data and show them"
   ]
  },
  {
   "cell_type": "code",
   "execution_count": 2,
   "metadata": {
    "collapsed": false,
    "scrolled": true
   },
   "outputs": [
    {
     "data": {
      "text/html": [
       "<div>\n",
       "<table border=\"1\" class=\"dataframe\">\n",
       "  <thead>\n",
       "    <tr style=\"text-align: right;\">\n",
       "      <th></th>\n",
       "      <th>#AUTHID</th>\n",
       "      <th>STATUS</th>\n",
       "      <th>sEXT</th>\n",
       "      <th>sNEU</th>\n",
       "      <th>sAGR</th>\n",
       "      <th>sCON</th>\n",
       "      <th>sOPN</th>\n",
       "      <th>cEXT</th>\n",
       "      <th>cNEU</th>\n",
       "      <th>cAGR</th>\n",
       "      <th>cCON</th>\n",
       "      <th>cOPN</th>\n",
       "      <th>DATE</th>\n",
       "      <th>NETWORKSIZE</th>\n",
       "      <th>BETWEENNESS</th>\n",
       "      <th>NBETWEENNESS</th>\n",
       "      <th>DENSITY</th>\n",
       "      <th>BROKERAGE</th>\n",
       "      <th>NBROKERAGE</th>\n",
       "      <th>TRANSITIVITY</th>\n",
       "    </tr>\n",
       "  </thead>\n",
       "  <tbody>\n",
       "    <tr>\n",
       "      <th>0</th>\n",
       "      <td>b7b7764cfa1c523e4e93ab2a79a946c4</td>\n",
       "      <td>likes the sound of thunder.</td>\n",
       "      <td>2.65</td>\n",
       "      <td>3</td>\n",
       "      <td>3.15</td>\n",
       "      <td>3.25</td>\n",
       "      <td>4.4</td>\n",
       "      <td>n</td>\n",
       "      <td>y</td>\n",
       "      <td>n</td>\n",
       "      <td>n</td>\n",
       "      <td>y</td>\n",
       "      <td>06/19/09 03:21 PM</td>\n",
       "      <td>180</td>\n",
       "      <td>14861.6</td>\n",
       "      <td>93.29</td>\n",
       "      <td>0.03</td>\n",
       "      <td>15661</td>\n",
       "      <td>0.49</td>\n",
       "      <td>0.1</td>\n",
       "    </tr>\n",
       "    <tr>\n",
       "      <th>1</th>\n",
       "      <td>b7b7764cfa1c523e4e93ab2a79a946c4</td>\n",
       "      <td>is so sleepy it's not even funny that's she ca...</td>\n",
       "      <td>2.65</td>\n",
       "      <td>3</td>\n",
       "      <td>3.15</td>\n",
       "      <td>3.25</td>\n",
       "      <td>4.4</td>\n",
       "      <td>n</td>\n",
       "      <td>y</td>\n",
       "      <td>n</td>\n",
       "      <td>n</td>\n",
       "      <td>y</td>\n",
       "      <td>07/02/09 08:41 AM</td>\n",
       "      <td>180</td>\n",
       "      <td>14861.6</td>\n",
       "      <td>93.29</td>\n",
       "      <td>0.03</td>\n",
       "      <td>15661</td>\n",
       "      <td>0.49</td>\n",
       "      <td>0.1</td>\n",
       "    </tr>\n",
       "  </tbody>\n",
       "</table>\n",
       "</div>"
      ],
      "text/plain": [
       "                            #AUTHID  \\\n",
       "0  b7b7764cfa1c523e4e93ab2a79a946c4   \n",
       "1  b7b7764cfa1c523e4e93ab2a79a946c4   \n",
       "\n",
       "                                              STATUS  sEXT  sNEU  sAGR  sCON  \\\n",
       "0                        likes the sound of thunder.  2.65     3  3.15  3.25   \n",
       "1  is so sleepy it's not even funny that's she ca...  2.65     3  3.15  3.25   \n",
       "\n",
       "   sOPN cEXT cNEU cAGR cCON cOPN               DATE  NETWORKSIZE  BETWEENNESS  \\\n",
       "0   4.4    n    y    n    n    y  06/19/09 03:21 PM          180      14861.6   \n",
       "1   4.4    n    y    n    n    y  07/02/09 08:41 AM          180      14861.6   \n",
       "\n",
       "   NBETWEENNESS  DENSITY  BROKERAGE  NBROKERAGE  TRANSITIVITY  \n",
       "0         93.29     0.03      15661        0.49           0.1  \n",
       "1         93.29     0.03      15661        0.49           0.1  "
      ]
     },
     "execution_count": 2,
     "metadata": {},
     "output_type": "execute_result"
    }
   ],
   "source": [
    "data = pd.read_csv(\"../raw_data/data.csv\", parse_dates=True, infer_datetime_format=True, \n",
    "            sep = None, encoding = \"latin-1\", engine = \"python\")\n",
    "data.head(n=2)\n",
    "# data.describe()"
   ]
  },
  {
   "cell_type": "code",
   "execution_count": 3,
   "metadata": {
    "collapsed": false
   },
   "outputs": [],
   "source": [
    "d = {'n': \"no\", 'y': \"yes\"}\n",
    "\n",
    "# http://stackoverflow.com/a/17702781\n",
    "data = data.replace(d)\n",
    "\n",
    "neu = data[[\"#AUTHID\",\"STATUS\",\"cNEU\"]]\n",
    "ext = data[[\"#AUTHID\",\"STATUS\",\"cEXT\"]]\n",
    "agr = data[[\"#AUTHID\",\"STATUS\",\"cAGR\"]]\n",
    "con = data[[\"#AUTHID\",\"STATUS\",\"cCON\"]]\n",
    "opn = data[[\"#AUTHID\",\"STATUS\",\"cOPN\"]]"
   ]
  },
  {
   "cell_type": "markdown",
   "metadata": {},
   "source": [
    "### Split data into train + test\n"
   ]
  },
  {
   "cell_type": "code",
   "execution_count": 4,
   "metadata": {
    "collapsed": false
   },
   "outputs": [],
   "source": [
    "train_neu, test_neu = sk.cross_validation.train_test_split(neu, train_size = 0.66)\n",
    "train_ext, test_ext = sk.cross_validation.train_test_split(ext, train_size = 0.66)\n",
    "train_agr, test_agr = sk.cross_validation.train_test_split(agr, train_size = 0.66)\n",
    "train_con, test_con = sk.cross_validation.train_test_split(con, train_size = 0.66)\n",
    "train_opn, test_opn = sk.cross_validation.train_test_split(opn, train_size = 0.66)\n",
    "# print(len(train_neu))"
   ]
  },
  {
   "cell_type": "markdown",
   "metadata": {},
   "source": [
    "### Creates diff. pipelines here!\n",
    "\n",
    "with stop_words : ‘english’ in CountVecto or T.Vecto accuracy ussualy lower"
   ]
  },
  {
   "cell_type": "code",
   "execution_count": 27,
   "metadata": {
    "collapsed": true
   },
   "outputs": [],
   "source": [
    "parametersSVC = {\n",
    "    'tfidf__max_df': (0.5, 0.75, 1.0),\n",
    "    #'tfidf__max_features': (None, 5000, 10000, 50000),\n",
    "    'tfidf__ngram_range': ((1, 1), (1, 2)),  # unigrams or bigrams\n",
    "    'tfidf__use_idf': (True, False),\n",
    "    'tfidf__norm': ('l1', 'l2', None),\n",
    "    'tfidf__smooth_idf': (True, False),\n",
    "    #'clf__loss': (\"hinge\", \"squared_hinge\"),\n",
    "    #'clf__penalty': ('l1', 'l2'),\n",
    "    'clf__C': (0.5, 0.75, 1.0),\n",
    "    'clf__dual': (True, False),\n",
    "    'tfidf__stop_words' : (\"english\", None),\n",
    "    #'tfidf__lowercase' : (True, False),\n",
    "    'clf__multi_class': ('ovr', 'crammer_singer')\n",
    "}"
   ]
  },
  {
   "cell_type": "code",
   "execution_count": 18,
   "metadata": {
    "collapsed": false
   },
   "outputs": [],
   "source": [
    "target_names = ['yes', 'no']\n",
    "\n",
    "# 3 Support Vector Machines\n",
    "classifierLinearSVC = Pipeline([\n",
    "    ('tfidf', TfidfVectorizer()),\n",
    "    ('clf', LinearSVC())]) # OneVsRestClassifier already implemented, docs: http://scikit-learn.org/stable/modules/svm.html#multi-class-classification\n",
    "\n",
    "classifierNuSVC = Pipeline([\n",
    "    ('vectorizer_tfidf', TfidfVectorizer(ngram_range = (1,2))),\n",
    "    ('clf', NuSVC(cache_size=500))])\n",
    "\n",
    "classifierSVC = Pipeline([\n",
    "    ('vectorizer_tfidf', TfidfVectorizer(ngram_range = (1,2))),\n",
    "    ('clf', SVC(cache_size=500))]) # \"one-against-one\", docs: http://scikit-learn.org/stable/modules/svm.html#multi-class-classification\n",
    "\n",
    "# 2 Naive Bayes\n",
    "classifierNB = Pipeline([\n",
    "    ('vectorizer_tfidf', TfidfVectorizer(ngram_range = (1,2))),\n",
    "    ('nb', MultinomialNB())])\n",
    "\n",
    "classifierBNB = Pipeline([    \n",
    "    ('vectorizer_tfidf', TfidfVectorizer(ngram_range = (1,2))),\n",
    "    ('bnb', BernoulliNB())])\n",
    "\n",
    "\n",
    "# Nearest Neighboars\n",
    "classifier_kNN = Pipeline([\n",
    "    ('vectorizer_tfidf', TfidfVectorizer(ngram_range = (1,2))),\n",
    "    ('kNN', KNeighborsClassifier())]) # http://scikit-learn.org/stable/modules/neighbors.html#neighbors\n",
    "\n",
    "# 2 Ensamble methods\n",
    "classifierRF = Pipeline([    \n",
    "    ('vectorizer_tfidf', TfidfVectorizer(ngram_range = (1,2))),\n",
    "    ('rfc', RandomForestClassifier(n_jobs=-1))])\n",
    "\n",
    "classifierADC = Pipeline([    \n",
    "    ('vectorizer_tfidf', TfidfVectorizer(ngram_range = (1,2))),\n",
    "    ('adc', AdaBoostClassifier())])\n"
   ]
  },
  {
   "cell_type": "markdown",
   "metadata": {},
   "source": [
    "### cNEU"
   ]
  },
  {
   "cell_type": "code",
   "execution_count": 28,
   "metadata": {
    "collapsed": false,
    "scrolled": true
   },
   "outputs": [
    {
     "name": "stdout",
     "output_type": "stream",
     "text": [
      "Performing grid search...\n",
      "pipeline: ['tfidf', 'clf']\n",
      "parameters:\n",
      "{'clf__C': (0.5, 0.75, 1.0),\n",
      " 'clf__dual': (True, False),\n",
      " 'clf__multi_class': ('ovr', 'crammer_singer'),\n",
      " 'tfidf__max_df': (0.5, 0.75, 1.0),\n",
      " 'tfidf__ngram_range': ((1, 1), (1, 2)),\n",
      " 'tfidf__norm': ('l1', 'l2', None),\n",
      " 'tfidf__smooth_idf': (True, False),\n",
      " 'tfidf__stop_words': ('english', None),\n",
      " 'tfidf__use_idf': (True, False)}\n",
      "Fitting 3 folds for each of 1728 candidates, totalling 5184 fits"
     ]
    },
    {
     "name": "stderr",
     "output_type": "stream",
     "text": [
      "[Parallel(n_jobs=-1)]: Done  49 tasks       | elapsed:   26.4s\n",
      "[Parallel(n_jobs=-1)]: Done 199 tasks       | elapsed:  3.4min\n",
      "[Parallel(n_jobs=-1)]: Done 449 tasks       | elapsed:  9.2min\n",
      "[Parallel(n_jobs=-1)]: Done 799 tasks       | elapsed: 25.2min\n",
      "[Parallel(n_jobs=-1)]: Done 1249 tasks       | elapsed: 46.1min\n",
      "[Parallel(n_jobs=-1)]: Done 1799 tasks       | elapsed: 79.8min\n",
      "[Parallel(n_jobs=-1)]: Done 2449 tasks       | elapsed: 110.8min\n",
      "[Parallel(n_jobs=-1)]: Done 3199 tasks       | elapsed: 154.8min\n",
      "[Parallel(n_jobs=-1)]: Done 4049 tasks       | elapsed: 195.7min\n",
      "[Parallel(n_jobs=-1)]: Done 4999 tasks       | elapsed: 255.6min\n"
     ]
    },
    {
     "name": "stdout",
     "output_type": "stream",
     "text": [
      "\n",
      "done in 15906.388s\n",
      "\n",
      "Best score: 0.626\n",
      "Best parameters set:\n",
      "\tclf__C: 0.5\n",
      "\tclf__dual: True\n",
      "\tclf__multi_class: 'crammer_singer'\n",
      "\ttfidf__max_df: 0.5\n",
      "\ttfidf__ngram_range: (1, 2)\n",
      "\ttfidf__norm: 'l1'\n",
      "\ttfidf__smooth_idf: True\n",
      "\ttfidf__stop_words: None\n",
      "\ttfidf__use_idf: True\n"
     ]
    },
    {
     "name": "stderr",
     "output_type": "stream",
     "text": [
      "[Parallel(n_jobs=-1)]: Done 5184 out of 5184 | elapsed: 265.0min finished\n"
     ]
    }
   ],
   "source": [
    "# Display progress logs on stdout\n",
    "logging.basicConfig(level=logging.INFO,\n",
    "                    format='%(asctime)s %(levelname)s %(message)s')\n",
    "\n",
    "grid_search = GridSearchCV(classifierLinearSVC, parametersSVC, n_jobs=-1, verbose=1)\n",
    "\n",
    "print(\"Performing grid search...\")\n",
    "print(\"pipeline:\", [name for name, _ in classifierLinearSVC.steps])\n",
    "print(\"parameters:\")\n",
    "pprint(parametersSVC)\n",
    "t0 = time()\n",
    "grid_search.fit(neu[\"STATUS\"], neu[\"cNEU\"])\n",
    "print(\"done in %0.3fs\" % (time() - t0))\n",
    "print()\n",
    "\n",
    "print(\"Best score: %0.3f\" % grid_search.best_score_)\n",
    "print(\"Best parameters set:\")\n",
    "best_parameters = grid_search.best_estimator_.get_params()\n",
    "for param_name in sorted(parametersSVC.keys()):\n",
    "    print(\"\\t%s: %r\" % (param_name, best_parameters[param_name]))"
   ]
  },
  {
   "cell_type": "code",
   "execution_count": 11,
   "metadata": {
    "collapsed": false
   },
   "outputs": [
    {
     "name": "stdout",
     "output_type": "stream",
     "text": [
      "Accuracy rbf kernel SVC: 0.625 (+/- 0.00)\n",
      "Accuracy LinearSVC: 0.571 (+/- 0.02)\n",
      "Accuracy NuSVC: 0.472 (+/- 0.08)\n",
      "\n",
      "Accuracy of bernuli NB: 0.625 (+/- 0.00)\n",
      "Accuracy NB: 0.624 (+/- 0.00)\n",
      "\n",
      "Accuracy of kNN: 0.421 (+/- 0.05)\n",
      "\n",
      "Accuracy of AdaBoost: 0.607 (+/- 0.02)\n",
      "Accuracy of random Forest: 0.590 (+/- 0.03)\n"
     ]
    }
   ],
   "source": [
    "clas_fit_SVC = classifierSVC.fit(train_neu[\"STATUS\"], train_neu[\"cNEU\"])\n",
    "predicted_SVC = classifierSVC.predict(test_neu[\"cNEU\"])\n",
    "scores_SVC = cross_validation.cross_val_score(classifierSVC, neu[\"STATUS\"], neu[\"cNEU\"], cv = 5)\n",
    "print(\"Accuracy rbf kernel SVC: %0.3f (+/- %0.2f)\" % (scores_SVC.mean(), scores_SVC.std() * 2))\n",
    "\n",
    "clas_fit_LSVC = classifierLinearSVC.fit(train_neu[\"STATUS\"], train_neu[\"cNEU\"])\n",
    "predicted_LSVC = classifierLinearSVC.predict(test_neu[\"cNEU\"])\n",
    "scores_LSVC = cross_validation.cross_val_score(classifierLinearSVC, neu[\"STATUS\"], neu[\"cNEU\"], cv = 5)\n",
    "print(\"Accuracy LinearSVC: %0.3f (+/- %0.2f)\" % (scores_LSVC.mean(), scores_LSVC.std() * 2))\n",
    "\n",
    "clas_fit_NuSVC = classifierNuSVC.fit(train_neu[\"STATUS\"], train_neu[\"cNEU\"])\n",
    "predicted_NuSVC = classifierNuSVC.predict(test_neu[\"cNEU\"])\n",
    "scores_NuSVC = cross_validation.cross_val_score(classifierNuSVC, neu[\"STATUS\"], neu[\"cNEU\"], cv = 5)\n",
    "print(\"Accuracy NuSVC: %0.3f (+/- %0.2f)\" % (scores_NuSVC.mean(), scores_NuSVC.std() * 2))\n",
    "\n",
    "print(\"\")\n",
    "\n",
    "clas_fit_BNB = classifierBNB.fit(train_neu[\"STATUS\"], train_neu[\"cNEU\"])\n",
    "predicted_BNB = classifierBNB.predict(test_neu[\"cNEU\"])\n",
    "scores_BNB = cross_validation.cross_val_score(classifierBNB, neu[\"STATUS\"], neu[\"cNEU\"], cv = 5)\n",
    "print(\"Accuracy of bernuli NB: %0.3f (+/- %0.2f)\" % (scores_BNB.mean(), scores_BNB.std() * 2))\n",
    "\n",
    "clas_fit_NB = classifierNB.fit(train_neu[\"STATUS\"], train_neu[\"cNEU\"])\n",
    "predicted_NB = classifierNB.predict(test_neu[\"cNEU\"])\n",
    "scores_NB = cross_validation.cross_val_score(classifierNB, neu[\"STATUS\"], neu[\"cNEU\"], cv = 5)\n",
    "print(\"Accuracy NB: %0.3f (+/- %0.2f)\" % (scores_NB.mean(), scores_NB.std() * 2))\n",
    "\n",
    "print(\"\")\n",
    "\n",
    "clas_fit_kNN = classifier_kNN.fit(train_neu[\"STATUS\"], train_neu[\"cNEU\"])\n",
    "predicted_kNN = classifier_kNN.predict(test_neu[\"cNEU\"])\n",
    "scores_kNN = cross_validation.cross_val_score(classifier_kNN, neu[\"STATUS\"], neu[\"cNEU\"], cv = 5)\n",
    "print(\"Accuracy of kNN: %0.3f (+/- %0.2f)\" % (scores_kNN.mean(), scores_kNN.std() * 2))\n",
    "\n",
    "print(\"\")\n",
    "\n",
    "clas_fit_ADC = classifierADC.fit(train_neu[\"STATUS\"], train_neu[\"cNEU\"])\n",
    "predicted_ADC = classifierADC.predict(test_neu[\"cNEU\"])\n",
    "scores_ADC = cross_validation.cross_val_score(classifierADC, neu[\"STATUS\"], neu[\"cNEU\"], cv = 5)\n",
    "print(\"Accuracy of AdaBoost: %0.3f (+/- %0.2f)\" % (scores_ADC.mean(), scores_ADC.std() * 2))\n",
    "\n",
    "clas_fit_RF = classifierRF.fit(train_neu[\"STATUS\"], train_neu[\"cNEU\"])\n",
    "predicted_RF = classifierRF.predict(test_neu[\"cNEU\"])\n",
    "scores_RF = cross_validation.cross_val_score(classifierRF, neu[\"STATUS\"], neu[\"cNEU\"], cv = 5)\n",
    "print(\"Accuracy of random Forest: %0.3f (+/- %0.2f)\" % (scores_RF.mean(), scores_RF.std() * 2))"
   ]
  },
  {
   "cell_type": "markdown",
   "metadata": {},
   "source": [
    "#### VotingClassifier cNUE\n",
    "\n",
    "http://scikit-learn.org/stable/modules/ensemble.html#votingclassifier"
   ]
  },
  {
   "cell_type": "code",
   "execution_count": 12,
   "metadata": {
    "collapsed": false
   },
   "outputs": [
    {
     "name": "stdout",
     "output_type": "stream",
     "text": [
      "Accuracy: 0.625 (+/- 0.00) [SVC]\n",
      "Accuracy: 0.571 (+/- 0.01) [LSVC]\n",
      "Accuracy: 0.472 (+/- 0.04) [NuSVC]\n",
      "Accuracy: 0.625 (+/- 0.00) [BNB]\n",
      "Accuracy: 0.624 (+/- 0.00) [NB]\n",
      "Accuracy: 0.421 (+/- 0.03) [kNN]\n",
      "Accuracy: 0.593 (+/- 0.02) [Random Forest]\n",
      "Accuracy: 0.607 (+/- 0.01) [ADC]\n",
      "Accuracy: 0.623 (+/- 0.00) [Ensemble]\n"
     ]
    }
   ],
   "source": [
    "eclf = VotingClassifier(estimators=[\n",
    "        (\"svc\", clas_fit_SVC),\n",
    "        (\"linear_svc\", clas_fit_LSVC), \n",
    "        (\"nu_svc\", clas_fit_NuSVC),\n",
    "        (\"bnb\", clas_fit_BNB),\n",
    "        (\"nb\", clas_fit_NB),\n",
    "        (\"kNN\", clas_fit_kNN), \n",
    "        (\"rf\", clas_fit_RF), \n",
    "        (\"adc\", clas_fit_ADC)], voting='hard')\n",
    "\n",
    "\n",
    "for clf, label in zip([clas_fit_SVC, clas_fit_LSVC, clas_fit_NuSVC, clas_fit_BNB, clas_fit_NB, clas_fit_kNN, clas_fit_RF, clas_fit_ADC, eclf], [\"SVC\", \"LSVC\",\"NuSVC\",\"BNB\",\"NB\", 'kNN', 'Random Forest', 'ADC', 'Ensemble']):\n",
    "    scores = cross_validation.cross_val_score(clf, neu[\"STATUS\"], neu[\"cNEU\"], cv=5, scoring='accuracy')\n",
    "    print(\"Accuracy: %0.3f (+/- %0.2f) [%s]\" % (scores.mean(), scores.std(), label))"
   ]
  },
  {
   "cell_type": "markdown",
   "metadata": {
    "collapsed": false
   },
   "source": [
    "### cAGR\n"
   ]
  },
  {
   "cell_type": "code",
   "execution_count": 13,
   "metadata": {
    "collapsed": false
   },
   "outputs": [
    {
     "name": "stdout",
     "output_type": "stream",
     "text": [
      "Accuracy rbf kernel SVC: 0.531 (+/- 0.00)\n",
      "Accuracy LinearSVC: 0.511 (+/- 0.02)\n",
      "Accuracy LinearSVC: 0.492 (+/- 0.04)\n",
      "\n",
      "Accuracy of bernuli NB: 0.524 (+/- 0.03)\n",
      "Accuracy NB: 0.525 (+/- 0.02)\n",
      "\n",
      "Accuracy of kNN: 0.472 (+/- 0.02)\n",
      "\n",
      "Accuracy of AdaBoost: 0.512 (+/- 0.04)\n",
      "Accuracy of random Forest: 0.503 (+/- 0.02)\n"
     ]
    }
   ],
   "source": [
    "clas_fit_SVC = classifierSVC.fit(train_agr[\"STATUS\"], train_agr[\"cAGR\"])\n",
    "predicted_SVC = classifierSVC.predict(test_agr[\"cAGR\"])\n",
    "scores_SVC = cross_validation.cross_val_score(classifierSVC, agr[\"STATUS\"], agr[\"cAGR\"], cv = 5)\n",
    "print(\"Accuracy rbf kernel SVC: %0.3f (+/- %0.2f)\" % (scores_SVC.mean(), scores_SVC.std() * 2))\n",
    "\n",
    "clas_fit_LSVC = classifierLinearSVC.fit(train_agr[\"STATUS\"], train_agr[\"cAGR\"])\n",
    "predicted_LSVC = classifierLinearSVC.predict(test_agr[\"cAGR\"])\n",
    "scores_LSVC = cross_validation.cross_val_score(classifierLinearSVC, agr[\"STATUS\"], agr[\"cAGR\"], cv = 5)\n",
    "print(\"Accuracy LinearSVC: %0.3f (+/- %0.2f)\" % (scores_LSVC.mean(), scores_LSVC.std() * 2))\n",
    "\n",
    "clas_fit_NuSVC = classifierNuSVC.fit(train_agr[\"STATUS\"], train_agr[\"cAGR\"])\n",
    "predicted_NuSVC = classifierNuSVC.predict(test_agr[\"cAGR\"])\n",
    "scores_NuSVC = cross_validation.cross_val_score(classifierNuSVC, agr[\"STATUS\"], agr[\"cAGR\"], cv = 5)\n",
    "print(\"Accuracy NuSVC: %0.3f (+/- %0.2f)\" % (scores_NuSVC.mean(), scores_NuSVC.std() * 2))\n",
    "\n",
    "print(\"\")\n",
    "\n",
    "clas_fit_BNB = classifierBNB.fit(train_agr[\"STATUS\"], train_agr[\"cAGR\"])\n",
    "predicted_BNB = classifierBNB.predict(test_agr[\"cAGR\"])\n",
    "scores_BNB = cross_validation.cross_val_score(classifierBNB, agr[\"STATUS\"], agr[\"cAGR\"], cv = 5)\n",
    "print(\"Accuracy of bernuli NB: %0.3f (+/- %0.2f)\" % (scores_BNB.mean(), scores_BNB.std() * 2))\n",
    "\n",
    "clas_fit_NB = classifierNB.fit(train_agr[\"STATUS\"], train_agr[\"cAGR\"])\n",
    "predicted_NB = classifierNB.predict(test_agr[\"cAGR\"])\n",
    "scores_NB = cross_validation.cross_val_score(classifierNB, agr[\"STATUS\"], agr[\"cAGR\"], cv = 5)\n",
    "print(\"Accuracy NB: %0.3f (+/- %0.2f)\" % (scores_NB.mean(), scores_NB.std() * 2))\n",
    "\n",
    "print(\"\")\n",
    "\n",
    "clas_fit_kNN = classifier_kNN.fit(train_agr[\"STATUS\"], train_agr[\"cAGR\"])\n",
    "predicted_kNN = classifier_kNN.predict(test_agr[\"cAGR\"])\n",
    "scores_kNN = cross_validation.cross_val_score(classifier_kNN, agr[\"STATUS\"], agr[\"cAGR\"], cv = 5)\n",
    "print(\"Accuracy of kNN: %0.3f (+/- %0.2f)\" % (scores_kNN.mean(), scores_kNN.std() * 2))\n",
    "\n",
    "print(\"\")\n",
    "\n",
    "clas_fit_ADC = classifierADC.fit(train_agr[\"STATUS\"], train_agr[\"cAGR\"])\n",
    "predicted_ADC = classifierADC.predict(test_agr[\"cAGR\"])\n",
    "scores_ADC = cross_validation.cross_val_score(classifierADC, agr[\"STATUS\"], agr[\"cAGR\"], cv = 5)\n",
    "print(\"Accuracy of AdaBoost: %0.3f (+/- %0.2f)\" % (scores_ADC.mean(), scores_ADC.std() * 2))\n",
    "\n",
    "clas_fit_RF = classifierRF.fit(train_agr[\"STATUS\"], train_agr[\"cAGR\"])\n",
    "predicted_RF = classifierRF.predict(test_agr[\"cAGR\"])\n",
    "scores_RF = cross_validation.cross_val_score(classifierRF, agr[\"STATUS\"], agr[\"cAGR\"], cv = 5)\n",
    "print(\"Accuracy of random Forest: %0.3f (+/- %0.2f)\" % (scores_RF.mean(), scores_RF.std() * 2))"
   ]
  },
  {
   "cell_type": "markdown",
   "metadata": {},
   "source": [
    "#### VotingClassifier cAGR\n",
    "\n",
    "http://scikit-learn.org/stable/modules/ensemble.html#votingclassifier"
   ]
  },
  {
   "cell_type": "code",
   "execution_count": 14,
   "metadata": {
    "collapsed": false
   },
   "outputs": [
    {
     "name": "stdout",
     "output_type": "stream",
     "text": [
      "Accuracy: 0.531 (+/- 0.00) [SVC]\n",
      "Accuracy: 0.511 (+/- 0.01) [LSVC]\n",
      "Accuracy: 0.492 (+/- 0.02) [NuSVC]\n",
      "Accuracy: 0.524 (+/- 0.02) [BNB]\n",
      "Accuracy: 0.525 (+/- 0.01) [NB]\n",
      "Accuracy: 0.472 (+/- 0.01) [kNN]\n",
      "Accuracy: 0.507 (+/- 0.01) [Random Forest]\n",
      "Accuracy: 0.512 (+/- 0.02) [ADC]\n",
      "Accuracy: 0.511 (+/- 0.02) [Ensemble]\n"
     ]
    }
   ],
   "source": [
    "eclf = VotingClassifier(estimators=[\n",
    "        (\"svc\", clas_fit_SVC),\n",
    "        (\"linear_svc\", clas_fit_LSVC),\n",
    "        (\"nu_svc\", clas_fit_NuSVC),\n",
    "        (\"bnb\", clas_fit_BNB),\n",
    "        (\"nb\", clas_fit_NB),\n",
    "        (\"kNN\", clas_fit_kNN), \n",
    "        (\"rf\", clas_fit_RF), \n",
    "        (\"adc\", clas_fit_ADC)], voting='hard')\n",
    "\n",
    "\n",
    "for clf, label in zip([clas_fit_SVC, clas_fit_LSVC, clas_fit_NuSVC, clas_fit_BNB, clas_fit_NB, clas_fit_kNN, clas_fit_RF, clas_fit_ADC, eclf], [\"SVC\", \"LSVC\",\"NuSVC\", \"BNB\",\"NB\", 'kNN', 'Random Forest', 'ADC', 'Ensemble']):\n",
    "    scores = cross_validation.cross_val_score(clf, agr[\"STATUS\"], agr[\"cAGR\"], cv=5, scoring='accuracy')\n",
    "    print(\"Accuracy: %0.3f (+/- %0.2f) [%s]\" % (scores.mean(), scores.std(), label))"
   ]
  },
  {
   "cell_type": "markdown",
   "metadata": {},
   "source": [
    "### cOPN"
   ]
  },
  {
   "cell_type": "code",
   "execution_count": 16,
   "metadata": {
    "collapsed": false
   },
   "outputs": [
    {
     "name": "stdout",
     "output_type": "stream",
     "text": [
      "Accuracy rbf kernel SVC: 0.743 (+/- 0.00)\n",
      "0.738434163701\n",
      "Accuracy LinearSVC: 0.700 (+/- 0.03)\n",
      "Accuracy NuSVC: 0.502 (+/- 0.10)\n",
      "\n",
      "Accuracy of bernuli NB: 0.743 (+/- 0.00)\n",
      "Accuracy NB: 0.744 (+/- 0.00)\n",
      "\n",
      "Accuracy of kNN: 0.672 (+/- 0.04)\n",
      "\n",
      "Accuracy of AdaBoost: 0.707 (+/- 0.04)\n",
      "Accuracy of random Forest: 0.705 (+/- 0.02)\n"
     ]
    }
   ],
   "source": [
    "clas_fit_SVC = classifierSVC.fit(train_opn[\"STATUS\"], train_opn[\"cOPN\"])\n",
    "predicted_SVC = classifierSVC.predict(test_opn[\"cOPN\"])\n",
    "scores_SVC = cross_validation.cross_val_score(classifierSVC, opn[\"STATUS\"], opn[\"cOPN\"], cv = 5)\n",
    "print(\"Accuracy rbf kernel SVC: %0.3f (+/- %0.2f)\" % (scores_SVC.mean(), scores_SVC.std() * 2))\n",
    "print(sk.metrics.accuracy_score(predicted_SVC, test_opn[\"cOPN\"]))\n",
    "\n",
    "clas_fit_LSVC = classifierLinearSVC.fit(train_opn[\"STATUS\"], train_opn[\"cOPN\"])\n",
    "predicted_LSVC = classifierLinearSVC.predict(test_opn[\"cOPN\"])\n",
    "scores_LSVC = cross_validation.cross_val_score(classifierLinearSVC, opn[\"STATUS\"], opn[\"cOPN\"], cv = 5)\n",
    "print(\"Accuracy LinearSVC: %0.3f (+/- %0.2f)\" % (scores_LSVC.mean(), scores_LSVC.std() * 2))\n",
    "\n",
    "clas_fit_NuSVC = classifierNuSVC.fit(train_opn[\"STATUS\"], train_opn[\"cOPN\"])\n",
    "predicted_NuSVC = classifierNuSVC.predict(test_opn[\"cOPN\"])\n",
    "scores_NuSVC = cross_validation.cross_val_score(classifierNuSVC, opn[\"STATUS\"], opn[\"cOPN\"], cv = 5)\n",
    "print(\"Accuracy NuSVC: %0.3f (+/- %0.2f)\" % (scores_NuSVC.mean(), scores_NuSVC.std() * 2))\n",
    "\n",
    "\n",
    "print(\"\")\n",
    "\n",
    "clas_fit_BNB = classifierBNB.fit(train_opn[\"STATUS\"], train_opn[\"cOPN\"])\n",
    "predicted_BNB = classifierBNB.predict(test_opn[\"cOPN\"])\n",
    "scores_BNB = cross_validation.cross_val_score(classifierBNB, opn[\"STATUS\"], opn[\"cOPN\"], cv = 5)\n",
    "print(\"Accuracy of bernuli NB: %0.3f (+/- %0.2f)\" % (scores_BNB.mean(), scores_BNB.std() * 2))\n",
    "\n",
    "clas_fit_NB = classifierNB.fit(train_opn[\"STATUS\"], train_opn[\"cOPN\"])\n",
    "predicted_NB = classifierNB.predict(test_opn[\"cOPN\"])\n",
    "scores_NB = cross_validation.cross_val_score(classifierNB, opn[\"STATUS\"], opn[\"cOPN\"], cv = 5)\n",
    "print(\"Accuracy NB: %0.3f (+/- %0.2f)\" % (scores_NB.mean(), scores_NB.std() * 2))\n",
    "\n",
    "print(\"\")\n",
    "\n",
    "clas_fit_kNN = classifier_kNN.fit(train_opn[\"STATUS\"], train_opn[\"cOPN\"])\n",
    "predicted_kNN = classifier_kNN.predict(test_opn[\"cOPN\"])\n",
    "scores_kNN = cross_validation.cross_val_score(classifier_kNN, opn[\"STATUS\"], opn[\"cOPN\"], cv = 5)\n",
    "print(\"Accuracy of kNN: %0.3f (+/- %0.2f)\" % (scores_kNN.mean(), scores_kNN.std() * 2))\n",
    "\n",
    "print(\"\")\n",
    "\n",
    "clas_fit_ADC = classifierADC.fit(train_opn[\"STATUS\"], train_opn[\"cOPN\"])\n",
    "predicted_ADC = classifierADC.predict(test_opn[\"cOPN\"])\n",
    "scores_ADC = cross_validation.cross_val_score(classifierADC, opn[\"STATUS\"], opn[\"cOPN\"], cv = 5)\n",
    "print(\"Accuracy of AdaBoost: %0.3f (+/- %0.2f)\" % (scores_ADC.mean(), scores_ADC.std() * 2))\n",
    "\n",
    "clas_fit_RF = classifierRF.fit(train_opn[\"STATUS\"], train_opn[\"cOPN\"])\n",
    "predicted_RF = classifierRF.predict(test_opn[\"cOPN\"])\n",
    "scores_RF = cross_validation.cross_val_score(classifierRF, opn[\"STATUS\"], opn[\"cOPN\"], cv = 5)\n",
    "print(\"Accuracy of random Forest: %0.3f (+/- %0.2f)\" % (scores_RF.mean(), scores_RF.std() * 2))"
   ]
  },
  {
   "cell_type": "markdown",
   "metadata": {},
   "source": [
    "#### VotingClassifier cOPN\n",
    "\n",
    "http://scikit-learn.org/stable/modules/ensemble.html#votingclassifier"
   ]
  },
  {
   "cell_type": "code",
   "execution_count": 17,
   "metadata": {
    "collapsed": false
   },
   "outputs": [
    {
     "name": "stdout",
     "output_type": "stream",
     "text": [
      "Accuracy: 0.743 (+/- 0.00) [SVC]\n",
      "Accuracy: 0.700 (+/- 0.02) [LSVC]\n",
      "Accuracy: 0.502 (+/- 0.05) [NuSVC]\n",
      "Accuracy: 0.743 (+/- 0.00) [BNB]\n",
      "Accuracy: 0.744 (+/- 0.00) [NB]\n",
      "Accuracy: 0.672 (+/- 0.02) [kNN]\n",
      "Accuracy: 0.705 (+/- 0.01) [Random Forest]\n",
      "Accuracy: 0.707 (+/- 0.02) [ADC]\n",
      "Accuracy: 0.737 (+/- 0.01) [Ensemble]\n"
     ]
    }
   ],
   "source": [
    "eclf = VotingClassifier(estimators=[\n",
    "        (\"svc\", clas_fit_SVC),\n",
    "        (\"linear_svc\", clas_fit_LSVC),\n",
    "        (\"nu_svc\", clas_fit_NuSVC),\n",
    "        (\"bnb\", clas_fit_BNB),\n",
    "        (\"nb\", clas_fit_NB),\n",
    "        (\"kNN\", clas_fit_kNN), \n",
    "        (\"rf\", clas_fit_RF), \n",
    "        (\"adc\", clas_fit_ADC)], voting='hard')\n",
    "\n",
    "\n",
    "for clf, label in zip([clas_fit_SVC, clas_fit_LSVC, clas_fit_NuSVC, clas_fit_BNB, clas_fit_NB, clas_fit_kNN, clas_fit_RF, clas_fit_ADC, eclf], [\"SVC\", \"LSVC\",\"NuSVC\", \"BNB\",\"NB\",'kNN', 'Random Forest', 'ADC', 'Ensemble']):\n",
    "    scores = cross_validation.cross_val_score(clf, opn[\"STATUS\"], opn[\"cOPN\"], cv=5, scoring='accuracy')\n",
    "    print(\"Accuracy: %0.3f (+/- %0.2f) [%s]\" % (scores.mean(), scores.std(), label))"
   ]
  },
  {
   "cell_type": "markdown",
   "metadata": {},
   "source": [
    "### cCON"
   ]
  },
  {
   "cell_type": "code",
   "execution_count": 18,
   "metadata": {
    "collapsed": false,
    "scrolled": false
   },
   "outputs": [
    {
     "name": "stdout",
     "output_type": "stream",
     "text": [
      "Accuracy rbf kernel SVC: 0.541 (+/- 0.00)\n",
      "Accuracy LinearSVC: 0.526 (+/- 0.05)\n",
      "Accuracy LinearSVC: 0.500 (+/- 0.05)\n",
      "\n",
      "Accuracy of bernuli NB: 0.539 (+/- 0.04)\n",
      "Accuracy NB: 0.543 (+/- 0.04)\n",
      "\n",
      "Accuracy of kNN: 0.512 (+/- 0.02)\n",
      "\n",
      "Accuracy of AdaBoost: 0.533 (+/- 0.03)\n",
      "Accuracy of random Forest: 0.527 (+/- 0.03)\n"
     ]
    }
   ],
   "source": [
    "clas_fit_SVC = classifierSVC.fit(train_con[\"STATUS\"], train_con[\"cCON\"])\n",
    "predicted_SVC = classifierSVC.predict(test_con[\"cCON\"])\n",
    "scores_SVC = cross_validation.cross_val_score(classifierSVC, con[\"STATUS\"], con[\"cCON\"], cv = 5)\n",
    "print(\"Accuracy rbf kernel SVC: %0.3f (+/- %0.2f)\" % (scores_SVC.mean(), scores_SVC.std() * 2))\n",
    "\n",
    "clas_fit_LSVC = classifierLinearSVC.fit(train_con[\"STATUS\"], train_con[\"cCON\"])\n",
    "predicted_LSVC = classifierLinearSVC.predict(test_con[\"cCON\"])\n",
    "scores_LSVC = cross_validation.cross_val_score(classifierLinearSVC, con[\"STATUS\"], con[\"cCON\"], cv = 5)\n",
    "print(\"Accuracy LinearSVC: %0.3f (+/- %0.2f)\" % (scores_LSVC.mean(), scores_LSVC.std() * 2))\n",
    "\n",
    "clas_fit_NuSVC = classifierNuSVC.fit(train_con[\"STATUS\"], train_con[\"cCON\"])\n",
    "predicted_NuSVC = classifierNuSVC.predict(test_con[\"cCON\"])\n",
    "scores_NuSVC = cross_validation.cross_val_score(classifierNuSVC, con[\"STATUS\"], con[\"cCON\"], cv = 5)\n",
    "print(\"Accuracy NuSVC: %0.3f (+/- %0.2f)\" % (scores_NuSVC.mean(), scores_NuSVC.std() * 2))\n",
    "\n",
    "print(\"\")\n",
    "\n",
    "clas_fit_BNB = classifierBNB.fit(train_con[\"STATUS\"], train_con[\"cCON\"])\n",
    "predicted_BNB = classifierBNB.predict(test_con[\"cCON\"])\n",
    "scores_BNB = cross_validation.cross_val_score(classifierBNB, con[\"STATUS\"], con[\"cCON\"], cv = 5)\n",
    "print(\"Accuracy of bernuli NB: %0.3f (+/- %0.2f)\" % (scores_BNB.mean(), scores_BNB.std() * 2))\n",
    "\n",
    "clas_fit_NB = classifierNB.fit(train_con[\"STATUS\"], train_con[\"cCON\"])\n",
    "predicted_NB = classifierNB.predict(test_con[\"cCON\"])\n",
    "scores_NB = cross_validation.cross_val_score(classifierNB, con[\"STATUS\"], con[\"cCON\"], cv = 5)\n",
    "print(\"Accuracy NB: %0.3f (+/- %0.2f)\" % (scores_NB.mean(), scores_NB.std() * 2))\n",
    "\n",
    "print(\"\")\n",
    "\n",
    "clas_fit_kNN = classifier_kNN.fit(train_con[\"STATUS\"], train_con[\"cCON\"])\n",
    "predicted_kNN = classifier_kNN.predict(test_con[\"cCON\"])\n",
    "scores_kNN = cross_validation.cross_val_score(classifier_kNN, con[\"STATUS\"], con[\"cCON\"], cv = 5)\n",
    "print(\"Accuracy of kNN: %0.3f (+/- %0.2f)\" % (scores_kNN.mean(), scores_kNN.std() * 2))\n",
    "\n",
    "print(\"\")\n",
    "\n",
    "clas_fit_ADC = classifierADC.fit(train_con[\"STATUS\"], train_con[\"cCON\"])\n",
    "predicted_ADC = classifierADC.predict(test_con[\"cCON\"])\n",
    "scores_ADC = cross_validation.cross_val_score(classifierADC, con[\"STATUS\"], con[\"cCON\"], cv = 5)\n",
    "print(\"Accuracy of AdaBoost: %0.3f (+/- %0.2f)\" % (scores_ADC.mean(), scores_ADC.std() * 2))\n",
    "\n",
    "clas_fit_RF = classifierRF.fit(train_con[\"STATUS\"], train_con[\"cCON\"])\n",
    "predicted_RF = classifierRF.predict(test_con[\"cCON\"])\n",
    "scores_RF = cross_validation.cross_val_score(classifierRF, con[\"STATUS\"], con[\"cCON\"], cv = 5)\n",
    "print(\"Accuracy of random Forest: %0.3f (+/- %0.2f)\" % (scores_RF.mean(), scores_RF.std() * 2))"
   ]
  },
  {
   "cell_type": "markdown",
   "metadata": {},
   "source": [
    "#### VotingClassifier cCON\n",
    "\n",
    "http://scikit-learn.org/stable/modules/ensemble.html#votingclassifier"
   ]
  },
  {
   "cell_type": "code",
   "execution_count": 19,
   "metadata": {
    "collapsed": false
   },
   "outputs": [
    {
     "name": "stdout",
     "output_type": "stream",
     "text": [
      "Accuracy: 0.541 (+/- 0.00) [SVC]\n",
      "Accuracy: 0.526 (+/- 0.02) [LSVC]\n",
      "Accuracy: 0.500 (+/- 0.02) [NuSVC]\n",
      "Accuracy: 0.539 (+/- 0.02) [BNB]\n",
      "Accuracy: 0.543 (+/- 0.02) [NB]\n",
      "Accuracy: 0.512 (+/- 0.01) [kNN]\n",
      "Accuracy: 0.534 (+/- 0.01) [Random Forest]\n",
      "Accuracy: 0.533 (+/- 0.02) [ADC]\n",
      "Accuracy: 0.543 (+/- 0.01) [Ensemble]\n"
     ]
    }
   ],
   "source": [
    "eclf = VotingClassifier(estimators=[\n",
    "        (\"svc\", clas_fit_SVC),\n",
    "        (\"linear_svc\", clas_fit_LSVC), \n",
    "        (\"nu_svc\", clas_fit_NuSVC),\n",
    "        (\"bnb\", clas_fit_BNB),\n",
    "        (\"nb\", clas_fit_NB),\n",
    "        (\"kNN\", clas_fit_kNN), \n",
    "        (\"rf\", clas_fit_RF), \n",
    "        (\"adc\", clas_fit_ADC)], voting='hard')\n",
    "\n",
    "\n",
    "for clf, label in zip([clas_fit_SVC, clas_fit_LSVC, clas_fit_NuSVC, clas_fit_BNB, clas_fit_NB, clas_fit_kNN, clas_fit_RF, clas_fit_ADC, eclf], [\"SVC\", \"LSVC\",\"NuSVC\",\"BNB\",\"NB\",'kNN', 'Random Forest', 'ADC', 'Ensemble']):\n",
    "    scores = cross_validation.cross_val_score(clf, con[\"STATUS\"], con[\"cCON\"], cv=5, scoring='accuracy')\n",
    "    print(\"Accuracy: %0.3f (+/- %0.2f) [%s]\" % (scores.mean(), scores.std(), label))"
   ]
  },
  {
   "cell_type": "markdown",
   "metadata": {},
   "source": [
    "### cEXT"
   ]
  },
  {
   "cell_type": "code",
   "execution_count": 20,
   "metadata": {
    "collapsed": false
   },
   "outputs": [
    {
     "name": "stdout",
     "output_type": "stream",
     "text": [
      "Accuracy rbf kernel SVC: 0.575 (+/- 0.00)\n",
      "Accuracy LinearSVC: 0.538 (+/- 0.01)\n",
      "Accuracy NuSVC: 0.522 (+/- 0.10)\n",
      "\n",
      "Accuracy of bernuli NB: 0.571 (+/- 0.03)\n",
      "Accuracy NB: 0.568 (+/- 0.01)\n",
      "\n",
      "Accuracy of kNN: 0.523 (+/- 0.02)\n",
      "\n",
      "Accuracy of AdaBoost: 0.557 (+/- 0.02)\n",
      "Accuracy of random Forest: 0.551 (+/- 0.01)\n"
     ]
    }
   ],
   "source": [
    "clas_fit_SVC = classifierSVC.fit(train_ext[\"STATUS\"], train_ext[\"cEXT\"])\n",
    "predicted_SVC = classifierSVC.predict(test_ext[\"cEXT\"])\n",
    "scores_SVC = cross_validation.cross_val_score(classifierSVC, ext[\"STATUS\"], ext[\"cEXT\"], cv = 5)\n",
    "print(\"Accuracy rbf kernel SVC: %0.3f (+/- %0.2f)\" % (scores_SVC.mean(), scores_SVC.std() * 2))\n",
    "\n",
    "clas_fit_LSVC = classifierLinearSVC.fit(train_ext[\"STATUS\"], train_ext[\"cEXT\"])\n",
    "predicted_LSVC = classifierLinearSVC.predict(test_ext[\"cEXT\"])\n",
    "scores_LSVC = cross_validation.cross_val_score(classifierLinearSVC, ext[\"STATUS\"], ext[\"cEXT\"], cv = 5)\n",
    "print(\"Accuracy LinearSVC: %0.3f (+/- %0.2f)\" % (scores_LSVC.mean(), scores_LSVC.std() * 2))\n",
    "\n",
    "clas_fit_NuSVC = classifierNuSVC.fit(train_ext[\"STATUS\"], train_ext[\"cEXT\"])\n",
    "predicted_NuVC = classifierNuSVC.predict(test_ext[\"cEXT\"])\n",
    "scores_NuSVC = cross_validation.cross_val_score(classifierNuSVC, ext[\"STATUS\"], ext[\"cEXT\"], cv = 5)\n",
    "print(\"Accuracy NuSVC: %0.3f (+/- %0.2f)\" % (scores_NuSVC.mean(), scores_NuSVC.std() * 2))\n",
    "\n",
    "print(\"\")\n",
    "\n",
    "clas_fit_BNB = classifierBNB.fit(train_ext[\"STATUS\"], train_ext[\"cEXT\"])\n",
    "predicted_BNB = classifierBNB.predict(test_ext[\"cEXT\"])\n",
    "scores_BNB = cross_validation.cross_val_score(classifierBNB, ext[\"STATUS\"], ext[\"cEXT\"], cv = 5)\n",
    "print(\"Accuracy of bernuli NB: %0.3f (+/- %0.2f)\" % (scores_BNB.mean(), scores_BNB.std() * 2))\n",
    "\n",
    "clas_fit_NB = classifierNB.fit(train_ext[\"STATUS\"], train_ext[\"cEXT\"])\n",
    "predicted_NB = classifierNB.predict(test_ext[\"cEXT\"])\n",
    "scores_NB = cross_validation.cross_val_score(classifierNB, ext[\"STATUS\"], ext[\"cEXT\"], cv = 5)\n",
    "print(\"Accuracy NB: %0.3f (+/- %0.2f)\" % (scores_NB.mean(), scores_NB.std() * 2))\n",
    "\n",
    "print(\"\")\n",
    "\n",
    "clas_fit_kNN = classifier_kNN.fit(train_ext[\"STATUS\"], train_ext[\"cEXT\"])\n",
    "predicted_kNN = classifier_kNN.predict(test_ext[\"cEXT\"])\n",
    "scores_kNN = cross_validation.cross_val_score(classifier_kNN, ext[\"STATUS\"], ext[\"cEXT\"], cv = 5)\n",
    "print(\"Accuracy of kNN: %0.3f (+/- %0.2f)\" % (scores_kNN.mean(), scores_kNN.std() * 2))\n",
    "\n",
    "print(\"\")\n",
    "\n",
    "clas_fit_ADC = classifierADC.fit(train_ext[\"STATUS\"], train_ext[\"cEXT\"])\n",
    "predicted_ADC = classifierADC.predict(test_ext[\"cEXT\"])\n",
    "scores_ADC = cross_validation.cross_val_score(classifierADC, ext[\"STATUS\"], ext[\"cEXT\"], cv = 5)\n",
    "print(\"Accuracy of AdaBoost: %0.3f (+/- %0.2f)\" % (scores_ADC.mean(), scores_ADC.std() * 2))\n",
    "\n",
    "clas_fit_RF = classifierRF.fit(train_ext[\"STATUS\"], train_ext[\"cEXT\"])\n",
    "predicted_RF = classifierRF.predict(test_ext[\"cEXT\"])\n",
    "scores_RF = cross_validation.cross_val_score(classifierRF, ext[\"STATUS\"], ext[\"cEXT\"], cv = 5)\n",
    "print(\"Accuracy of random Forest: %0.3f (+/- %0.2f)\" % (scores_RF.mean(), scores_RF.std() * 2))"
   ]
  },
  {
   "cell_type": "markdown",
   "metadata": {},
   "source": [
    "#### VotingClassifier cEXT\n",
    "\n",
    "http://scikit-learn.org/stable/modules/ensemble.html#votingclassifier"
   ]
  },
  {
   "cell_type": "code",
   "execution_count": 21,
   "metadata": {
    "collapsed": false
   },
   "outputs": [
    {
     "name": "stdout",
     "output_type": "stream",
     "text": [
      "Accuracy: 0.575 (+/- 0.00) [SVC]\n",
      "Accuracy: 0.538 (+/- 0.01) [LSVC]\n",
      "Accuracy: 0.522 (+/- 0.05) [NuSVC]\n",
      "Accuracy: 0.571 (+/- 0.01) [BNB]\n",
      "Accuracy: 0.568 (+/- 0.00) [NB]\n",
      "Accuracy: 0.523 (+/- 0.01) [kNN]\n",
      "Accuracy: 0.546 (+/- 0.01) [Random Forest]\n",
      "Accuracy: 0.557 (+/- 0.01) [ADC]\n",
      "Accuracy: 0.571 (+/- 0.01) [Ensemble]\n"
     ]
    }
   ],
   "source": [
    "eclf = VotingClassifier(estimators=[\n",
    "        (\"svc\", clas_fit_SVC),\n",
    "        (\"linear_svc\", clas_fit_LSVC), \n",
    "        (\"nu_svc\", clas_fit_NuSVC),\n",
    "        (\"bnb\", clas_fit_BNB),\n",
    "        (\"nb\", clas_fit_NB),\n",
    "        (\"kNN\", clas_fit_kNN), \n",
    "        (\"rf\", clas_fit_RF), \n",
    "        (\"adc\", clas_fit_ADC)], voting='hard')\n",
    "\n",
    "\n",
    "for clf, label in zip([clas_fit_SVC, clas_fit_LSVC, clas_fit_NuSVC, clas_fit_BNB, clas_fit_NB, clas_fit_kNN, clas_fit_RF, clas_fit_ADC, eclf], [\"SVC\", \"LSVC\", \"NuSVC\", \"BNB\", \"NB\", 'kNN', 'Random Forest', 'ADC', 'Ensemble']):\n",
    "    scores = cross_validation.cross_val_score(clf, ext[\"STATUS\"], ext[\"cEXT\"], cv=5, scoring='accuracy')\n",
    "    print(\"Accuracy: %0.3f (+/- %0.2f) [%s]\" % (scores.mean(), scores.std(), label))"
   ]
  }
 ],
 "metadata": {
  "celltoolbar": "Edit Metadata",
  "hide_input": false,
  "kernelspec": {
   "display_name": "Python 3",
   "language": "python",
   "name": "python3"
  },
  "language_info": {
   "codemirror_mode": {
    "name": "ipython",
    "version": 3
   },
   "file_extension": ".py",
   "mimetype": "text/x-python",
   "name": "python",
   "nbconvert_exporter": "python",
   "pygments_lexer": "ipython3",
   "version": "3.4.3+"
  }
 },
 "nbformat": 4,
 "nbformat_minor": 0
}
