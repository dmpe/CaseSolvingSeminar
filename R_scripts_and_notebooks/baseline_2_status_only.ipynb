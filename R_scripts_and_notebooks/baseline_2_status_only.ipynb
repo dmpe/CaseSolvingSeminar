{
 "cells": [
  {
   "cell_type": "markdown",
   "metadata": {},
   "source": [
    "### Sources"
   ]
  },
  {
   "cell_type": "markdown",
   "metadata": {},
   "source": [
    "http://billchambers.me/tutorials/2015/01/14/python-nlp-cheatsheet-nltk-scikit-learn.html\n",
    "\n",
    "http://glowingpython.blogspot.de/2013/07/combining-scikit-learn-and-ntlk.html\n",
    "\n",
    "http://www.cs.duke.edu/courses/spring14/compsci290/assignments/lab02.html\n",
    "\n",
    "https://stackoverflow.com/questions/10526579/use-scikit-learn-to-classify-into-multiple-categories\n",
    "\n",
    "https://github.com/anuraagvak/IRE-PersonalityRecognition-Final/blob/master/ire_report.pdf\n",
    "\n",
    "https://github.com/Charudatt89/Personality_Recognition/blob/master/22-9-PersonalityRecognition/Report/Report.pdf\n",
    "\n",
    "http://stackoverflow.com/questions/2148543/how-to-write-a-confusion-matrix-in-python\n",
    "\n",
    "Lexical and syntactic features: http://www.aicbt.com/authorship-attribution/"
   ]
  },
  {
   "cell_type": "code",
   "execution_count": 65,
   "metadata": {
    "collapsed": false
   },
   "outputs": [
    {
     "data": {
      "text/html": [
       "<style>.container { width:75% !important; }</style>"
      ],
      "text/plain": [
       "<IPython.core.display.HTML object>"
      ]
     },
     "execution_count": 65,
     "metadata": {},
     "output_type": "execute_result"
    }
   ],
   "source": [
    "from IPython.core.display import HTML\n",
    "HTML(\"<style>.container { width:75% !important; }</style>\")\n",
    "# HTML(\"<style>div.cell.selected {border-left-width: 1px !important;}</style>\")"
   ]
  },
  {
   "cell_type": "code",
   "execution_count": 58,
   "metadata": {
    "collapsed": false,
    "scrolled": true
   },
   "outputs": [
    {
     "name": "stdout",
     "output_type": "stream",
     "text": [
      "The cython extension is already loaded. To reload it, use:\n",
      "  %reload_ext cython\n",
      "The cythonmagic extension is already loaded. To reload it, use:\n",
      "  %reload_ext cythonmagic\n"
     ]
    }
   ],
   "source": [
    "import pandas as pd\n",
    "import numpy as np\n",
    "import re, reprlib, sys\n",
    "import matplotlib.pyplot as plt\n",
    "from itertools import *\n",
    "import random as ran\n",
    "from logging import *\n",
    "from pprint import *\n",
    "from time import *\n",
    "from rpy2 import *\n",
    "\n",
    "ran.seed(5125)\n",
    "\n",
    "%load_ext cython\n",
    "%load_ext cythonmagic\n",
    "%matplotlib inline\n",
    "\n",
    "from pandas_confusion import *\n",
    "from scipy.cluster.vq import *\n",
    "\n",
    "import nltk as n\n",
    "import nltk, nltk.classify.util, nltk.metrics, nltk.tokenize, nltk.stem\n",
    "from nltk.corpus import *\n",
    "from nltk.stem import *\n",
    "from nltk.classify import *\n",
    "from nltk.collocations import *\n",
    "from nltk.metrics import BigramAssocMeasures as BAM\n",
    "from nltk.probability import *\n",
    "from nltk.classify.scikitlearn import *\n",
    "from nltk.tag.sequential import *\n",
    "from nltk.tag import *\n",
    "from nltk.tag.util import *\n",
    "\n",
    "\n",
    "import sklearn as sk\n",
    "from sklearn import *\n",
    "from sklearn.feature_extraction.text import *\n",
    "from sklearn.svm import *\n",
    "from sklearn.pipeline import *\n",
    "from sklearn.multiclass import *\n",
    "from sklearn.naive_bayes import *\n",
    "from sklearn.neighbors import *\n",
    "from sklearn.feature_selection import *\n",
    "from sklearn.ensemble import *\n",
    "from sklearn.grid_search import *\n",
    "from sklearn.linear_model import *\n",
    "from sklearn.cross_validation import *\n",
    "# n.download()"
   ]
  },
  {
   "cell_type": "markdown",
   "metadata": {},
   "source": [
    "### Read data and show them"
   ]
  },
  {
   "cell_type": "code",
   "execution_count": 59,
   "metadata": {
    "collapsed": false,
    "scrolled": true
   },
   "outputs": [
    {
     "data": {
      "text/html": [
       "<div>\n",
       "<table border=\"1\" class=\"dataframe\">\n",
       "  <thead>\n",
       "    <tr style=\"text-align: right;\">\n",
       "      <th></th>\n",
       "      <th>#AUTHID</th>\n",
       "      <th>STATUS</th>\n",
       "      <th>sEXT</th>\n",
       "      <th>sNEU</th>\n",
       "      <th>sAGR</th>\n",
       "      <th>sCON</th>\n",
       "      <th>sOPN</th>\n",
       "      <th>cEXT</th>\n",
       "      <th>cNEU</th>\n",
       "      <th>cAGR</th>\n",
       "      <th>cCON</th>\n",
       "      <th>cOPN</th>\n",
       "      <th>DATE</th>\n",
       "      <th>NETWORKSIZE</th>\n",
       "      <th>BETWEENNESS</th>\n",
       "      <th>NBETWEENNESS</th>\n",
       "      <th>DENSITY</th>\n",
       "      <th>BROKERAGE</th>\n",
       "      <th>NBROKERAGE</th>\n",
       "      <th>TRANSITIVITY</th>\n",
       "    </tr>\n",
       "  </thead>\n",
       "  <tbody>\n",
       "    <tr>\n",
       "      <th>0</th>\n",
       "      <td>b7b7764cfa1c523e4e93ab2a79a946c4</td>\n",
       "      <td>likes the sound of thunder.</td>\n",
       "      <td>2.65</td>\n",
       "      <td>3</td>\n",
       "      <td>3.15</td>\n",
       "      <td>3.25</td>\n",
       "      <td>4.4</td>\n",
       "      <td>n</td>\n",
       "      <td>y</td>\n",
       "      <td>n</td>\n",
       "      <td>n</td>\n",
       "      <td>y</td>\n",
       "      <td>06/19/09 03:21 PM</td>\n",
       "      <td>180</td>\n",
       "      <td>14861.6</td>\n",
       "      <td>93.29</td>\n",
       "      <td>0.03</td>\n",
       "      <td>15661</td>\n",
       "      <td>0.49</td>\n",
       "      <td>0.1</td>\n",
       "    </tr>\n",
       "    <tr>\n",
       "      <th>1</th>\n",
       "      <td>b7b7764cfa1c523e4e93ab2a79a946c4</td>\n",
       "      <td>is so sleepy it's not even funny that's she ca...</td>\n",
       "      <td>2.65</td>\n",
       "      <td>3</td>\n",
       "      <td>3.15</td>\n",
       "      <td>3.25</td>\n",
       "      <td>4.4</td>\n",
       "      <td>n</td>\n",
       "      <td>y</td>\n",
       "      <td>n</td>\n",
       "      <td>n</td>\n",
       "      <td>y</td>\n",
       "      <td>07/02/09 08:41 AM</td>\n",
       "      <td>180</td>\n",
       "      <td>14861.6</td>\n",
       "      <td>93.29</td>\n",
       "      <td>0.03</td>\n",
       "      <td>15661</td>\n",
       "      <td>0.49</td>\n",
       "      <td>0.1</td>\n",
       "    </tr>\n",
       "  </tbody>\n",
       "</table>\n",
       "</div>"
      ],
      "text/plain": [
       "                            #AUTHID  \\\n",
       "0  b7b7764cfa1c523e4e93ab2a79a946c4   \n",
       "1  b7b7764cfa1c523e4e93ab2a79a946c4   \n",
       "\n",
       "                                              STATUS  sEXT  sNEU  sAGR  sCON  \\\n",
       "0                        likes the sound of thunder.  2.65     3  3.15  3.25   \n",
       "1  is so sleepy it's not even funny that's she ca...  2.65     3  3.15  3.25   \n",
       "\n",
       "   sOPN cEXT cNEU cAGR cCON cOPN               DATE  NETWORKSIZE  BETWEENNESS  \\\n",
       "0   4.4    n    y    n    n    y  06/19/09 03:21 PM          180      14861.6   \n",
       "1   4.4    n    y    n    n    y  07/02/09 08:41 AM          180      14861.6   \n",
       "\n",
       "   NBETWEENNESS  DENSITY  BROKERAGE  NBROKERAGE  TRANSITIVITY  \n",
       "0         93.29     0.03      15661        0.49           0.1  \n",
       "1         93.29     0.03      15661        0.49           0.1  "
      ]
     },
     "execution_count": 59,
     "metadata": {},
     "output_type": "execute_result"
    }
   ],
   "source": [
    "data = pd.read_csv(\"../raw_data/data.csv\", parse_dates=True, infer_datetime_format=True, \n",
    "            sep = None, encoding = \"latin-1\", engine = \"python\")\n",
    "data.head(n=2)\n",
    "# data.describe()"
   ]
  },
  {
   "cell_type": "code",
   "execution_count": 60,
   "metadata": {
    "collapsed": false
   },
   "outputs": [],
   "source": [
    "d = {'n': 0, 'y': 1}\n",
    "\n",
    "# http://stackoverflow.com/a/17702781\n",
    "data = data.replace(d)\n",
    "\n",
    "neu = data[[\"#AUTHID\",\"STATUS\",\"cNEU\"]]\n",
    "ext = data[[\"#AUTHID\",\"STATUS\",\"cEXT\"]]\n",
    "agr = data[[\"#AUTHID\",\"STATUS\",\"cAGR\"]]\n",
    "con = data[[\"#AUTHID\",\"STATUS\",\"cCON\"]]\n",
    "opn = data[[\"#AUTHID\",\"STATUS\",\"cOPN\"]]"
   ]
  },
  {
   "cell_type": "markdown",
   "metadata": {},
   "source": [
    "### Split data into train + test\n"
   ]
  },
  {
   "cell_type": "code",
   "execution_count": 61,
   "metadata": {
    "collapsed": false
   },
   "outputs": [
    {
     "name": "stdout",
     "output_type": "stream",
     "text": [
      "(6545, 3) (3372, 3) (6545,) (3372,)\n"
     ]
    }
   ],
   "source": [
    "train_feat_neu, test_feat_neu, train_class_neu, test_class_neu = sk.cross_validation.train_test_split(neu, neu[\"cNEU\"], train_size = 0.66, stratify = neu[\"cNEU\"],random_state= 5152)\n",
    "print(train_feat_neu.shape, test_feat_neu.shape,train_class_neu.shape ,test_class_neu.shape)\n",
    "# print(train_class_neu)\n",
    "# print(train_feat_neu.iloc[:,1])\n",
    "\n",
    "neu_X = train_feat_neu.append(test_feat_neu)\n",
    "neu_Y = train_class_neu.append(test_class_neu)\n",
    "\n",
    "train_feat_ext, test_feat_ext, train_class_ext, test_class_ext = sk.cross_validation.train_test_split(ext, ext[\"cEXT\"], train_size = 0.66, stratify = ext[\"cEXT\"],random_state= 5152)\n",
    "\n",
    "ext_X = train_feat_ext.append(test_feat_ext)\n",
    "ext_Y = train_class_ext.append(test_class_ext)\n",
    "\n",
    "train_feat_agr, test_feat_agr, train_class_agr, test_class_agr = sk.cross_validation.train_test_split(agr, agr[\"cAGR\"], train_size = 0.66, stratify = agr[\"cAGR\"],random_state= 5152)\n",
    "\n",
    "agr_X = train_feat_agr.append(test_feat_agr)\n",
    "agr_Y = train_class_agr.append(test_class_agr)\n",
    "\n",
    "train_feat_con, test_feat_con, train_class_con, test_class_con = sk.cross_validation.train_test_split(con, con[\"cCON\"], train_size = 0.66, stratify = con[\"cCON\"],random_state= 5152)\n",
    "\n",
    "con_X = train_feat_con.append(test_feat_con)\n",
    "con_Y = train_class_con.append(test_class_con)\n",
    "\n",
    "train_feat_opn, test_feat_opn, train_class_opn, test_class_opn = sk.cross_validation.train_test_split(opn, opn[\"cOPN\"], train_size = 0.66, stratify = opn[\"cOPN\"],random_state= 5152)\n",
    "\n",
    "opn_X = train_feat_opn.append(test_feat_opn)\n",
    "opn_Y = train_class_opn.append(test_class_opn)"
   ]
  },
  {
   "cell_type": "markdown",
   "metadata": {},
   "source": [
    "### Creates diff. pipelines here!\n",
    "\n",
    "with stop_words : ‘english’ in CountVecto or T.Vecto accuracy ussualy lower"
   ]
  },
  {
   "cell_type": "code",
   "execution_count": 62,
   "metadata": {
    "collapsed": false
   },
   "outputs": [],
   "source": [
    "target_names = ['yes', 'no']\n",
    "\n",
    "# 3 Support Vector Machines\n",
    "classifierLinearSVC = Pipeline([\n",
    "    ('tfidf', TfidfVectorizer()),\n",
    "    ('clf', LinearSVC(random_state = 5152))]) # OneVsRestClassifier already implemented, docs: http://scikit-learn.org/stable/modules/svm.html#multi-class-classification\n",
    "\n",
    "classifierSVC = Pipeline([\n",
    "    ('vectorizer_tfidf', TfidfVectorizer(ngram_range = (1,2))),\n",
    "    ('clf', SVC(cache_size=500, random_state = 5152, kernel = \"rbf\", decision_function_shape = \"ovr\"))]) # \"one-against-one\", docs: http://scikit-learn.org/stable/modules/svm.html#multi-class-classification\n",
    "\n",
    "# 2 Naive Bayes\n",
    "classifierNB = Pipeline([\n",
    "    ('vectorizer_tfidf', TfidfVectorizer(ngram_range = (1,2))),\n",
    "    ('nb', MultinomialNB())])\n",
    "\n",
    "classifierBNB = Pipeline([    \n",
    "    ('vectorizer_tfidf', TfidfVectorizer(ngram_range = (1,2))),\n",
    "    ('bnb', BernoulliNB())])\n",
    "\n",
    "\n",
    "# Nearest Neighboars\n",
    "classifier_kNN = Pipeline([\n",
    "    ('vectorizer_tfidf', TfidfVectorizer(ngram_range = (1,2))),\n",
    "    ('kNN', KNeighborsClassifier(n_jobs=-1))]) # http://scikit-learn.org/stable/modules/neighbors.html#neighbors\n",
    "\n",
    "# 2 Ensamble methods\n",
    "classifierRF = Pipeline([    \n",
    "    ('vectorizer_tfidf', TfidfVectorizer(ngram_range = (1,2))),\n",
    "    ('rfc', RandomForestClassifier(n_estimators=10, n_jobs=-1, random_state = 5152))])\n",
    "\n",
    "classifierADC = Pipeline([    \n",
    "    ('vectorizer_tfidf', TfidfVectorizer(ngram_range = (1,2))),\n",
    "    ('adc', AdaBoostClassifier(random_state = 5152))])\n"
   ]
  },
  {
   "cell_type": "markdown",
   "metadata": {},
   "source": [
    "#### Grid Search"
   ]
  },
  {
   "cell_type": "code",
   "execution_count": 63,
   "metadata": {
    "collapsed": true
   },
   "outputs": [],
   "source": [
    "# parametersSVC = {\n",
    "#     'tfidf__max_df': (0.5, 0.75, 1.0),\n",
    "#     #'tfidf__max_features': (None, 5000, 10000, 50000),\n",
    "#     'tfidf__ngram_range': ((1, 1), (1, 2)),  # unigrams or bigrams\n",
    "#     'tfidf__use_idf': (True, False),\n",
    "#     'tfidf__norm': ('l1', 'l2', None),\n",
    "#     'tfidf__smooth_idf': (True, False),\n",
    "#     #'clf__loss': (\"hinge\", \"squared_hinge\"),\n",
    "#     #'clf__penalty': ('l1', 'l2'),\n",
    "#     'clf__C': (0.5, 0.75, 1.0),\n",
    "#     'clf__dual': (True, False),\n",
    "#     'tfidf__stop_words' : (\"english\", None),\n",
    "#     #'tfidf__lowercase' : (True, False),\n",
    "#     'clf__multi_class': ('ovr', 'crammer_singer')\n",
    "# }"
   ]
  },
  {
   "cell_type": "code",
   "execution_count": 64,
   "metadata": {
    "collapsed": false,
    "scrolled": false
   },
   "outputs": [],
   "source": [
    "# Display progress logs on stdout\n",
    "# logging.basicConfig(level=logging.INFO,\n",
    "#                     format='%(asctime)s %(levelname)s %(message)s')\n",
    "\n",
    "# grid_search = GridSearchCV(classifierLinearSVC, parametersSVC, n_jobs=-1, verbose=1)\n",
    "\n",
    "# print(\"Performing grid search...\")\n",
    "# print(\"pipeline:\", [name for name, _ in classifierLinearSVC.steps])\n",
    "# print(\"parameters:\")\n",
    "# pprint(parametersSVC)\n",
    "# t0 = time()\n",
    "# grid_search.fit(neu[\"STATUS\"], neu[\"cNEU\"])\n",
    "# print(\"done in %0.3fs\" % (time() - t0))\n",
    "# print()\n",
    "\n",
    "# print(\"Best score: %0.3f\" % grid_search.best_score_)\n",
    "# print(\"Best parameters set:\")\n",
    "# best_parameters = grid_search.best_estimator_.get_params()\n",
    "# for param_name in sorted(parametersSVC.keys()):\n",
    "#     print(\"\\t%s: %r\" % (param_name, best_parameters[param_name]))"
   ]
  },
  {
   "cell_type": "markdown",
   "metadata": {},
   "source": [
    "### cNEU"
   ]
  },
  {
   "cell_type": "code",
   "execution_count": 56,
   "metadata": {
    "collapsed": false
   },
   "outputs": [],
   "source": [
    "# cv = cross_validation.StratifiedKFold(range(neu.shape[0]), 2, shuffle=False, random_state=None)\n",
    "\n",
    "# clas_fit_SVC = classifierSVC.fit(train_feat_neu.iloc[:,1], train_class_neu)\n",
    "# predicted_SVC = classifierSVC.predict(test_feat_neu.iloc[:,1])\n",
    "# scores_SVC = cross_validation.cross_val_score(classifierSVC, neu_X.iloc[:,1], neu_Y, cv = 10,  scoring='accuracy')\n",
    "# print(\"Accuracy rbf kernel SVC: %0.3f (+/- %0.2f)\" % (scores_SVC.mean(), scores_SVC.std() * 2))\n",
    "# print(\"Precision: \", sk.metrics.average_precision_score(test_class_neu, predicted_SVC, average='micro'))\n",
    "# print(\"Recall: \", sk.metrics.recall_score(test_class_neu, predicted_SVC, labels=[0, 1], average='binary'))\n",
    "# print(\"F1: \", sk.metrics.f1_score(test_class_neu, predicted_SVC, labels=[0, 1], average='binary'))"
   ]
  },
  {
   "cell_type": "code",
   "execution_count": 66,
   "metadata": {
    "collapsed": false
   },
   "outputs": [
    {
     "name": "stdout",
     "output_type": "stream",
     "text": [
      "Accuracy rbf kernel SVC: 0.625 (+/- 0.00)\n",
      "Precision:  0.687425860024\n",
      "Recall:  0.0\n",
      "F1:  0.0\n",
      "Accuracy rbf kernel SVC: 0.628 (+/- 0.03)\n",
      "Precision:  0.55101578895\n",
      "Recall:  0.378955696203\n",
      "F1:  0.427487728693\n",
      "\n",
      "Accuracy rbf kernel SVC: 0.631 (+/- 0.01)\n",
      "Precision:  0.61594315579\n",
      "Recall:  0.0174050632911\n",
      "F1:  0.0341085271318\n",
      "Accuracy rbf kernel SVC: 0.634 (+/- 0.01)\n",
      "Precision:  0.61594315579\n",
      "Recall:  0.0174050632911\n",
      "F1:  0.0341085271318\n",
      "\n",
      "Accuracy rbf kernel SVC: 0.426 (+/- 0.03)\n",
      "Precision:  0.627747677215\n",
      "Recall:  0.808544303797\n",
      "F1:  0.512537612839\n",
      "\n",
      "Accuracy rbf kernel SVC: 0.628 (+/- 0.01)\n",
      "Precision:  0.445617362108\n",
      "Recall:  0.100474683544\n",
      "F1:  0.164507772021\n",
      "Accuracy rbf kernel SVC: 0.610 (+/- 0.02)\n",
      "Precision:  0.479450855218\n",
      "Recall:  0.197784810127\n",
      "F1:  0.276701715551\n"
     ]
    },
    {
     "name": "stderr",
     "output_type": "stream",
     "text": [
      "/usr/local/lib/python3.4/dist-packages/sklearn/metrics/classification.py:1074: UndefinedMetricWarning: F-score is ill-defined and being set to 0.0 due to no predicted samples.\n",
      "  'precision', 'predicted', average, warn_for)\n"
     ]
    }
   ],
   "source": [
    "clas_fit_SVC = classifierSVC.fit(train_feat_neu.iloc[:,1], train_class_neu)\n",
    "predicted_SVC = classifierSVC.predict(test_feat_neu.iloc[:,1])\n",
    "scores_SVC = cross_validation.cross_val_score(classifierSVC, neu_X.iloc[:,1], neu_Y, cv = 10,  scoring='accuracy')\n",
    "print(\"Accuracy rbf kernel SVC: %0.3f (+/- %0.2f)\" % (scores_SVC.mean(), scores_SVC.std() * 2))\n",
    "print(\"Precision: \", sk.metrics.average_precision_score(test_class_neu, predicted_SVC, average='micro'))\n",
    "print(\"Recall: \", sk.metrics.recall_score(test_class_neu, predicted_SVC, labels=[0, 1], average='binary'))\n",
    "print(\"F1: \", sk.metrics.f1_score(test_class_neu, predicted_SVC, labels=[0, 1], average='binary'))\n",
    "\n",
    "\n",
    "clas_fit_LSVC = classifierLinearSVC.fit(train_feat_neu.iloc[:,1], train_class_neu)\n",
    "predicted_LSVC = classifierLinearSVC.predict(test_feat_neu.iloc[:,1])\n",
    "scores_LSVC = cross_validation.cross_val_score(classifierLinearSVC, neu_X.iloc[:,1], neu_Y, cv = 10,  scoring='accuracy')\n",
    "print(\"Accuracy LinearSVC: %0.3f (+/- %0.2f)\" % (scores_LSVC.mean(), scores_LSVC.std() * 2))\n",
    "print(\"Precision: \", sk.metrics.average_precision_score(test_class_neu, predicted_LSVC, average='micro'))\n",
    "print(\"Recall: \", sk.metrics.recall_score(test_class_neu, predicted_LSVC, labels=[0, 1], average='binary'))\n",
    "print(\"F1: \", sk.metrics.f1_score(test_class_neu, predicted_LSVC, labels=[0, 1], average='binary'))\n",
    "\n",
    "\n",
    "print(\"\")\n",
    "\n",
    "clas_fit_BNB = classifierBNB.fit(train_feat_neu.iloc[:,1], train_class_neu)\n",
    "predicted_BNB = classifierBNB.predict(test_feat_neu.iloc[:,1])\n",
    "scores_BNB = cross_validation.cross_val_score(classifierBNB, neu_X.iloc[:,1], neu_Y, cv = 10,  scoring='accuracy')\n",
    "print(\"Accuracy bernuli NBC: %0.3f (+/- %0.2f)\" % (scores_BNB.mean(), scores_BNB.std() * 2))\n",
    "print(\"Precision: \", sk.metrics.average_precision_score(test_class_neu, predicted_BNB, average='micro'))\n",
    "print(\"Recall: \", sk.metrics.recall_score(test_class_neu, predicted_BNB, labels=[0, 1], average='binary'))\n",
    "print(\"F1: \", sk.metrics.f1_score(test_class_neu, predicted_BNB, labels=[0, 1], average='binary'))\n",
    "\n",
    "clas_fit_NB = classifierNB.fit(train_feat_neu.iloc[:,1], train_class_neu)\n",
    "predicted_NB = classifierNB.predict(test_feat_neu.iloc[:,1])\n",
    "scores_NB = cross_validation.cross_val_score(classifierNB, neu_X.iloc[:,1], neu_Y, cv = 10,  scoring='accuracy')\n",
    "print(\"Accuracy Multi-NB: %0.3f (+/- %0.2f)\" % (scores_NB.mean(), scores_NB.std() * 2))\n",
    "print(\"Precision: \", sk.metrics.average_precision_score(test_class_neu, predicted_NB, average='micro'))\n",
    "print(\"Recall: \", sk.metrics.recall_score(test_class_neu, predicted_NB, labels=[0, 1], average='binary'))\n",
    "print(\"F1: \", sk.metrics.f1_score(test_class_neu, predicted_NB, labels=[0, 1], average='binary'))\n",
    "\n",
    "print(\"\")\n",
    "\n",
    "clas_fit_kNN = classifier_kNN.fit(train_feat_neu.iloc[:,1], train_class_neu)\n",
    "predicted_kNN = classifier_kNN.predict(test_feat_neu.iloc[:,1])\n",
    "scores_kNN = cross_validation.cross_val_score(classifier_kNN, neu_X.iloc[:,1], neu_Y, cv = 10,  scoring='accuracy')\n",
    "print(\"Accuracy kNN: %0.3f (+/- %0.2f)\" % (scores_kNN.mean(), scores_kNN.std() * 2))\n",
    "print(\"Precision: \", sk.metrics.average_precision_score(test_class_neu, predicted_kNN, average='micro'))\n",
    "print(\"Recall: \", sk.metrics.recall_score(test_class_neu, predicted_kNN, labels=[0, 1], average='binary'))\n",
    "print(\"F1: \", sk.metrics.f1_score(test_class_neu, predicted_kNN, labels=[0, 1], average='binary'))\n",
    "\n",
    "\n",
    "print(\"\")\n",
    "\n",
    "clas_fit_ADC = classifierADC.fit(train_feat_neu.iloc[:,1], train_class_neu)\n",
    "predicted_ADC = classifierADC.predict(test_feat_neu.iloc[:,1])\n",
    "scores_ADC = cross_validation.cross_val_score(classifierADC, neu_X.iloc[:,1], neu_Y, cv = 10,  scoring='accuracy')\n",
    "print(\"Accuracy AdaB: %0.3f (+/- %0.2f)\" % (scores_ADC.mean(), scores_ADC.std() * 2))\n",
    "print(\"Precision: \", sk.metrics.average_precision_score(test_class_neu, predicted_ADC, average='micro'))\n",
    "print(\"Recall: \", sk.metrics.recall_score(test_class_neu, predicted_ADC, labels=[0, 1], average='binary'))\n",
    "print(\"F1: \", sk.metrics.f1_score(test_class_neu, predicted_ADC, labels=[0, 1], average='binary'))\n",
    "\n",
    "\n",
    "\n",
    "clas_fit_RF = classifierRF.fit(train_feat_neu.iloc[:,1], train_class_neu)\n",
    "predicted_RF = classifierRF.predict(test_feat_neu.iloc[:,1])\n",
    "scores_RF = cross_validation.cross_val_score(classifierRF, neu_X.iloc[:,1], neu_Y, cv = 10,  scoring='accuracy')\n",
    "print(\"Accuracy RF: %0.3f (+/- %0.2f)\" % (scores_RF.mean(), scores_RF.std() * 2))\n",
    "print(\"Precision: \", sk.metrics.average_precision_score(test_class_neu, predicted_RF, average='micro'))\n",
    "print(\"Recall: \", sk.metrics.recall_score(test_class_neu, predicted_RF, labels=[0, 1], average='binary'))\n",
    "print(\"F1: \", sk.metrics.f1_score(test_class_neu, predicted_RF, labels=[0, 1], average='binary'))"
   ]
  },
  {
   "cell_type": "markdown",
   "metadata": {},
   "source": [
    "#### VotingClassifier cNUE\n",
    "\n",
    "http://scikit-learn.org/stable/modules/ensemble.html#votingclassifier"
   ]
  },
  {
   "cell_type": "code",
   "execution_count": 12,
   "metadata": {
    "collapsed": false
   },
   "outputs": [
    {
     "name": "stdout",
     "output_type": "stream",
     "text": [
      "Accuracy: 0.625 (+/- 0.00) [SVC]\n",
      "Accuracy: 0.555 (+/- 0.00) [LSVC]\n",
      "Accuracy: 0.625 (+/- 0.00) [BNB]\n",
      "Accuracy: 0.624 (+/- 0.00) [NB]\n",
      "Accuracy: 0.421 (+/- 0.03) [kNN]\n",
      "Accuracy: 0.598 (+/- 0.01) [Random Forest]\n",
      "Accuracy: 0.607 (+/- 0.01) [ADC]\n",
      "Accuracy: 0.623 (+/- 0.00) [Ensemble]\n"
     ]
    }
   ],
   "source": [
    "# eclf = VotingClassifier(estimators=[\n",
    "#         (\"svc\", clas_fit_SVC),\n",
    "#         (\"linear_svc\", clas_fit_LSVC), \n",
    "#         (\"bnb\", clas_fit_BNB),\n",
    "#         (\"nb\", clas_fit_NB),\n",
    "#         (\"kNN\", clas_fit_kNN), \n",
    "#         (\"rf\", clas_fit_RF), \n",
    "#         (\"adc\", clas_fit_ADC)], voting='hard')\n",
    "\n",
    "\n",
    "# for clf, label in zip([clas_fit_SVC, clas_fit_LSVC, clas_fit_BNB, clas_fit_NB, clas_fit_kNN, clas_fit_RF, clas_fit_ADC, eclf], [\"SVC\", \"LSVC\",\"BNB\",\"NB\", 'kNN', 'Random Forest', 'ADC', 'Ensemble']):\n",
    "#     scores = cross_validation.cross_val_score(clf, neu[\"STATUS\"], neu[\"cNEU\"], cv=5, scoring='accuracy')\n",
    "#     print(\"Accuracy: %0.3f (+/- %0.2f) [%s]\" % (scores.mean(), scores.std(), label))"
   ]
  },
  {
   "cell_type": "markdown",
   "metadata": {
    "collapsed": false
   },
   "source": [
    "### cAGR\n"
   ]
  },
  {
   "cell_type": "code",
   "execution_count": 67,
   "metadata": {
    "collapsed": false
   },
   "outputs": [
    {
     "name": "stdout",
     "output_type": "stream",
     "text": [
      "Accuracy rbf kernel SVC: 0.531 (+/- 0.00)\n",
      "Precision:  0.765569395018\n",
      "Recall:  1.0\n",
      "F1:  0.693782684486\n",
      "Accuracy LinearSVC: 0.596 (+/- 0.02)\n",
      "Precision:  0.716005283038\n",
      "Recall:  0.632607481854\n",
      "F1:  0.61811238407\n",
      "\n",
      "Accuracy bernuli NBC: 0.585 (+/- 0.03)\n",
      "Precision:  0.762189232181\n",
      "Recall:  0.908989391401\n",
      "F1:  0.698412698413\n",
      "Accuracy Multi-NB: 0.595 (+/- 0.03)\n",
      "Precision:  0.760705049227\n",
      "Recall:  0.881630374093\n",
      "F1:  0.697438162544\n",
      "\n",
      "Accuracy kNN: 0.487 (+/- 0.02)\n",
      "Precision:  0.557983677194\n",
      "Recall:  0.104969290899\n",
      "F1:  0.175536881419\n",
      "\n",
      "Accuracy AdaB: 0.539 (+/- 0.03)\n",
      "Precision:  0.745601326357\n",
      "Recall:  0.898380792853\n",
      "F1:  0.673644546787\n",
      "Accuracy RF: 0.549 (+/- 0.03)\n",
      "Precision:  0.694049152049\n",
      "Recall:  0.569514237856\n",
      "F1:  0.579545454545\n"
     ]
    }
   ],
   "source": [
    "clas_fit_SVC = classifierSVC.fit(train_feat_agr.iloc[:,1], train_class_agr)\n",
    "predicted_SVC = classifierSVC.predict(test_feat_agr.iloc[:,1])\n",
    "scores_SVC = cross_validation.cross_val_score(classifierSVC, agr_X.iloc[:,1], agr_Y, cv = 10,  scoring='accuracy')\n",
    "print(\"Accuracy rbf kernel SVC: %0.3f (+/- %0.2f)\" % (scores_SVC.mean(), scores_SVC.std() * 2))\n",
    "print(\"Precision: \", sk.metrics.average_precision_score(test_class_agr, predicted_SVC, average='micro'))\n",
    "print(\"Recall: \", sk.metrics.recall_score(test_class_agr, predicted_SVC, labels=[0, 1], average='binary'))\n",
    "print(\"F1: \", sk.metrics.f1_score(test_class_agr, predicted_SVC, labels=[0, 1], average='binary'))\n",
    "\n",
    "\n",
    "clas_fit_LSVC = classifierLinearSVC.fit(train_feat_agr.iloc[:,1], train_class_agr)\n",
    "predicted_LSVC = classifierLinearSVC.predict(test_feat_agr.iloc[:,1])\n",
    "scores_LSVC = cross_validation.cross_val_score(classifierLinearSVC, agr_X.iloc[:,1], agr_Y, cv = 10,  scoring='accuracy')\n",
    "print(\"Accuracy LinearSVC: %0.3f (+/- %0.2f)\" % (scores_LSVC.mean(), scores_LSVC.std() * 2))\n",
    "print(\"Precision: \", sk.metrics.average_precision_score(test_class_agr, predicted_LSVC, average='micro'))\n",
    "print(\"Recall: \", sk.metrics.recall_score(test_class_agr, predicted_LSVC, labels=[0, 1], average='binary'))\n",
    "print(\"F1: \", sk.metrics.f1_score(test_class_agr, predicted_LSVC, labels=[0, 1], average='binary'))\n",
    "\n",
    "\n",
    "print(\"\")\n",
    "\n",
    "clas_fit_BNB = classifierBNB.fit(train_feat_agr.iloc[:,1], train_class_agr)\n",
    "predicted_BNB = classifierBNB.predict(test_feat_agr.iloc[:,1])\n",
    "scores_BNB = cross_validation.cross_val_score(classifierBNB, agr_X.iloc[:,1], agr_Y, cv = 10,  scoring='accuracy')\n",
    "print(\"Accuracy bernuli NBC: %0.3f (+/- %0.2f)\" % (scores_BNB.mean(), scores_BNB.std() * 2))\n",
    "print(\"Precision: \", sk.metrics.average_precision_score(test_class_agr, predicted_BNB, average='micro'))\n",
    "print(\"Recall: \", sk.metrics.recall_score(test_class_agr, predicted_BNB, labels=[0, 1], average='binary'))\n",
    "print(\"F1: \", sk.metrics.f1_score(test_class_agr, predicted_BNB, labels=[0, 1], average='binary'))\n",
    "\n",
    "clas_fit_NB = classifierNB.fit(train_feat_agr.iloc[:,1], train_class_agr)\n",
    "predicted_NB = classifierNB.predict(test_feat_agr.iloc[:,1])\n",
    "scores_NB = cross_validation.cross_val_score(classifierNB, agr_X.iloc[:,1], agr_Y, cv = 10,  scoring='accuracy')\n",
    "print(\"Accuracy Multi-NB: %0.3f (+/- %0.2f)\" % (scores_NB.mean(), scores_NB.std() * 2))\n",
    "print(\"Precision: \", sk.metrics.average_precision_score(test_class_agr, predicted_NB, average='micro'))\n",
    "print(\"Recall: \", sk.metrics.recall_score(test_class_agr, predicted_NB, labels=[0, 1], average='binary'))\n",
    "print(\"F1: \", sk.metrics.f1_score(test_class_agr, predicted_NB, labels=[0, 1], average='binary'))\n",
    "\n",
    "print(\"\")\n",
    "\n",
    "clas_fit_kNN = classifier_kNN.fit(train_feat_agr.iloc[:,1], train_class_agr)\n",
    "predicted_kNN = classifier_kNN.predict(test_feat_agr.iloc[:,1])\n",
    "scores_kNN = cross_validation.cross_val_score(classifier_kNN, agr_X.iloc[:,1], agr_Y, cv = 10,  scoring='accuracy')\n",
    "print(\"Accuracy kNN: %0.3f (+/- %0.2f)\" % (scores_kNN.mean(), scores_kNN.std() * 2))\n",
    "print(\"Precision: \", sk.metrics.average_precision_score(test_class_agr, predicted_kNN, average='micro'))\n",
    "print(\"Recall: \", sk.metrics.recall_score(test_class_agr, predicted_kNN, labels=[0, 1], average='binary'))\n",
    "print(\"F1: \", sk.metrics.f1_score(test_class_agr, predicted_kNN, labels=[0, 1], average='binary'))\n",
    "\n",
    "\n",
    "print(\"\")\n",
    "\n",
    "clas_fit_ADC = classifierADC.fit(train_feat_agr.iloc[:,1], train_class_agr)\n",
    "predicted_ADC = classifierADC.predict(test_feat_agr.iloc[:,1])\n",
    "scores_ADC = cross_validation.cross_val_score(classifierADC, agr_X.iloc[:,1], agr_Y, cv = 10,  scoring='accuracy')\n",
    "print(\"Accuracy AdaB: %0.3f (+/- %0.2f)\" % (scores_ADC.mean(), scores_ADC.std() * 2))\n",
    "print(\"Precision: \", sk.metrics.average_precision_score(test_class_agr, predicted_ADC, average='micro'))\n",
    "print(\"Recall: \", sk.metrics.recall_score(test_class_agr, predicted_ADC, labels=[0, 1], average='binary'))\n",
    "print(\"F1: \", sk.metrics.f1_score(test_class_agr, predicted_ADC, labels=[0, 1], average='binary'))\n",
    "\n",
    "\n",
    "\n",
    "clas_fit_RF = classifierRF.fit(train_feat_agr.iloc[:,1], train_class_agr)\n",
    "predicted_RF = classifierRF.predict(test_feat_agr.iloc[:,1])\n",
    "scores_RF = cross_validation.cross_val_score(classifierRF, agr_X.iloc[:,1], agr_Y, cv = 10,  scoring='accuracy')\n",
    "print(\"Accuracy RF: %0.3f (+/- %0.2f)\" % (scores_RF.mean(), scores_RF.std() * 2))\n",
    "print(\"Precision: \", sk.metrics.average_precision_score(test_class_agr, predicted_RF, average='micro'))\n",
    "print(\"Recall: \", sk.metrics.recall_score(test_class_agr, predicted_RF, labels=[0, 1], average='binary'))\n",
    "print(\"F1: \", sk.metrics.f1_score(test_class_agr, predicted_RF, labels=[0, 1], average='binary'))"
   ]
  },
  {
   "cell_type": "markdown",
   "metadata": {},
   "source": [
    "#### VotingClassifier cAGR\n",
    "\n",
    "http://scikit-learn.org/stable/modules/ensemble.html#votingclassifier"
   ]
  },
  {
   "cell_type": "code",
   "execution_count": 14,
   "metadata": {
    "collapsed": false
   },
   "outputs": [
    {
     "name": "stdout",
     "output_type": "stream",
     "text": [
      "Accuracy: 0.531 (+/- 0.00) [SVC]\n",
      "Accuracy: 0.513 (+/- 0.01) [LSVC]\n",
      "Accuracy: 0.524 (+/- 0.02) [BNB]\n",
      "Accuracy: 0.525 (+/- 0.01) [NB]\n",
      "Accuracy: 0.472 (+/- 0.01) [kNN]\n",
      "Accuracy: 0.506 (+/- 0.01) [Random Forest]\n",
      "Accuracy: 0.512 (+/- 0.02) [ADC]\n",
      "Accuracy: 0.522 (+/- 0.02) [Ensemble]\n"
     ]
    }
   ],
   "source": [
    "# eclf = VotingClassifier(estimators=[\n",
    "#         (\"svc\", clas_fit_SVC),\n",
    "#         (\"linear_svc\", clas_fit_LSVC),\n",
    "#         (\"bnb\", clas_fit_BNB),\n",
    "#         (\"nb\", clas_fit_NB),\n",
    "#         (\"kNN\", clas_fit_kNN), \n",
    "#         (\"rf\", clas_fit_RF), \n",
    "#         (\"adc\", clas_fit_ADC)], voting='hard')\n",
    "\n",
    "\n",
    "# for clf, label in zip([clas_fit_SVC, clas_fit_LSVC, clas_fit_BNB, clas_fit_NB, clas_fit_kNN, clas_fit_RF, clas_fit_ADC, eclf], [\"SVC\", \"LSVC\", \"BNB\",\"NB\", 'kNN', 'Random Forest', 'ADC', 'Ensemble']):\n",
    "#     scores = cross_validation.cross_val_score(clf, agr[\"STATUS\"], agr[\"cAGR\"], cv=5, scoring='accuracy')\n",
    "#     print(\"Accuracy: %0.3f (+/- %0.2f) [%s]\" % (scores.mean(), scores.std(), label))"
   ]
  },
  {
   "cell_type": "markdown",
   "metadata": {},
   "source": [
    "### cOPN"
   ]
  },
  {
   "cell_type": "code",
   "execution_count": 69,
   "metadata": {
    "collapsed": false
   },
   "outputs": [
    {
     "name": "stdout",
     "output_type": "stream",
     "text": [
      "Accuracy rbf kernel SVC: 0.743 (+/- 0.00)\n",
      "Precision:  0.871589561091\n",
      "Recall:  1.0\n",
      "F1:  0.852670976523\n",
      "Accuracy LinearSVC: 0.732 (+/- 0.03)\n",
      "Precision:  0.874319677538\n",
      "Recall:  0.896249002394\n",
      "F1:  0.831389968536\n",
      "\n",
      "Accuracy bernuli NBC: 0.747 (+/- 0.00)\n",
      "Precision:  0.87287161173\n",
      "Recall:  0.998802873105\n",
      "F1:  0.85412045726\n",
      "Accuracy Multi-NB: 0.746 (+/- 0.00)\n",
      "Precision:  0.871920451172\n",
      "Recall:  1.0\n",
      "F1:  0.853106382979\n",
      "\n",
      "Accuracy kNN: 0.670 (+/- 0.07)\n",
      "Precision:  0.833460939208\n",
      "Recall:  0.706703910615\n",
      "F1:  0.724039247751\n",
      "\n",
      "Accuracy AdaB: 0.740 (+/- 0.01)\n",
      "Precision:  0.871812293797\n",
      "Recall:  0.959297685555\n",
      "F1:  0.844397611521\n",
      "Accuracy RF: 0.726 (+/- 0.01)\n",
      "Precision:  0.866237009533\n",
      "Recall:  0.898643256185\n",
      "F1:  0.822648401826\n"
     ]
    }
   ],
   "source": [
    "clas_fit_SVC = classifierSVC.fit(train_feat_opn.iloc[:,1], train_class_opn)\n",
    "predicted_SVC = classifierSVC.predict(test_feat_opn.iloc[:,1])\n",
    "scores_SVC = cross_validation.cross_val_score(classifierSVC, opn_X.iloc[:,1], opn_Y, cv = 10,  scoring='accuracy')\n",
    "print(\"Accuracy rbf kernel SVC: %0.3f (+/- %0.2f)\" % (scores_SVC.mean(), scores_SVC.std() * 2))\n",
    "print(\"Precision: \", sk.metrics.average_precision_score(test_class_opn, predicted_SVC, average='micro'))\n",
    "print(\"Recall: \", sk.metrics.recall_score(test_class_opn, predicted_SVC, labels=[0, 1], average='binary'))\n",
    "print(\"F1: \", sk.metrics.f1_score(test_class_opn, predicted_SVC, labels=[0, 1], average='binary'))\n",
    "\n",
    "\n",
    "clas_fit_LSVC = classifierLinearSVC.fit(train_feat_opn.iloc[:,1], train_class_opn)\n",
    "predicted_LSVC = classifierLinearSVC.predict(test_feat_opn.iloc[:,1])\n",
    "scores_LSVC = cross_validation.cross_val_score(classifierLinearSVC, opn_X.iloc[:,1], opn_Y, cv = 10,  scoring='accuracy')\n",
    "print(\"Accuracy LinearSVC: %0.3f (+/- %0.2f)\" % (scores_LSVC.mean(), scores_LSVC.std() * 2))\n",
    "print(\"Precision: \", sk.metrics.average_precision_score(test_class_opn, predicted_LSVC, average='micro'))\n",
    "print(\"Recall: \", sk.metrics.recall_score(test_class_opn, predicted_LSVC, labels=[0, 1], average='binary'))\n",
    "print(\"F1: \", sk.metrics.f1_score(test_class_opn, predicted_LSVC, labels=[0, 1], average='binary'))\n",
    "\n",
    "\n",
    "print(\"\")\n",
    "\n",
    "clas_fit_BNB = classifierBNB.fit(train_feat_opn.iloc[:,1], train_class_opn)\n",
    "predicted_BNB = classifierBNB.predict(test_feat_opn.iloc[:,1])\n",
    "scores_BNB = cross_validation.cross_val_score(classifierBNB, opn_X.iloc[:,1], opn_Y, cv = 10,  scoring='accuracy')\n",
    "print(\"Accuracy bernuli NBC: %0.3f (+/- %0.2f)\" % (scores_BNB.mean(), scores_BNB.std() * 2))\n",
    "print(\"Precision: \", sk.metrics.average_precision_score(test_class_opn, predicted_BNB, average='micro'))\n",
    "print(\"Recall: \", sk.metrics.recall_score(test_class_opn, predicted_BNB, labels=[0, 1], average='binary'))\n",
    "print(\"F1: \", sk.metrics.f1_score(test_class_opn, predicted_BNB, labels=[0, 1], average='binary'))\n",
    "\n",
    "clas_fit_NB = classifierNB.fit(train_feat_opn.iloc[:,1], train_class_opn)\n",
    "predicted_NB = classifierNB.predict(test_feat_opn.iloc[:,1])\n",
    "scores_NB = cross_validation.cross_val_score(classifierNB, opn_X.iloc[:,1], opn_Y, cv = 10,  scoring='accuracy')\n",
    "print(\"Accuracy Multi-NB: %0.3f (+/- %0.2f)\" % (scores_NB.mean(), scores_NB.std() * 2))\n",
    "print(\"Precision: \", sk.metrics.average_precision_score(test_class_opn, predicted_NB, average='micro'))\n",
    "print(\"Recall: \", sk.metrics.recall_score(test_class_opn, predicted_NB, labels=[0, 1], average='binary'))\n",
    "print(\"F1: \", sk.metrics.f1_score(test_class_opn, predicted_NB, labels=[0, 1], average='binary'))\n",
    "\n",
    "print(\"\")\n",
    "\n",
    "clas_fit_kNN = classifier_kNN.fit(train_feat_opn.iloc[:,1], train_class_opn)\n",
    "predicted_kNN = classifier_kNN.predict(test_feat_opn.iloc[:,1])\n",
    "scores_kNN = cross_validation.cross_val_score(classifier_kNN, opn_X.iloc[:,1], opn_Y, cv = 10,  scoring='accuracy')\n",
    "print(\"Accuracy kNN: %0.3f (+/- %0.2f)\" % (scores_kNN.mean(), scores_kNN.std() * 2))\n",
    "print(\"Precision: \", sk.metrics.average_precision_score(test_class_opn, predicted_kNN, average='micro'))\n",
    "print(\"Recall: \", sk.metrics.recall_score(test_class_opn, predicted_kNN, labels=[0, 1], average='binary'))\n",
    "print(\"F1: \", sk.metrics.f1_score(test_class_opn, predicted_kNN, labels=[0, 1], average='binary'))\n",
    "\n",
    "\n",
    "print(\"\")\n",
    "\n",
    "clas_fit_ADC = classifierADC.fit(train_feat_opn.iloc[:,1], train_class_opn)\n",
    "predicted_ADC = classifierADC.predict(test_feat_opn.iloc[:,1])\n",
    "scores_ADC = cross_validation.cross_val_score(classifierADC, opn_X.iloc[:,1], opn_Y, cv = 10,  scoring='accuracy')\n",
    "print(\"Accuracy AdaB: %0.3f (+/- %0.2f)\" % (scores_ADC.mean(), scores_ADC.std() * 2))\n",
    "print(\"Precision: \", sk.metrics.average_precision_score(test_class_opn, predicted_ADC, average='micro'))\n",
    "print(\"Recall: \", sk.metrics.recall_score(test_class_opn, predicted_ADC, labels=[0, 1], average='binary'))\n",
    "print(\"F1: \", sk.metrics.f1_score(test_class_opn, predicted_ADC, labels=[0, 1], average='binary'))\n",
    "\n",
    "\n",
    "\n",
    "clas_fit_RF = classifierRF.fit(train_feat_opn.iloc[:,1], train_class_opn)\n",
    "predicted_RF = classifierRF.predict(test_feat_opn.iloc[:,1])\n",
    "scores_RF = cross_validation.cross_val_score(classifierRF, opn_X.iloc[:,1], opn_Y, cv = 10,  scoring='accuracy')\n",
    "print(\"Accuracy RF: %0.3f (+/- %0.2f)\" % (scores_RF.mean(), scores_RF.std() * 2))\n",
    "print(\"Precision: \", sk.metrics.average_precision_score(test_class_opn, predicted_RF, average='micro'))\n",
    "print(\"Recall: \", sk.metrics.recall_score(test_class_opn, predicted_RF, labels=[0, 1], average='binary'))\n",
    "print(\"F1: \", sk.metrics.f1_score(test_class_opn, predicted_RF, labels=[0, 1], average='binary'))"
   ]
  },
  {
   "cell_type": "markdown",
   "metadata": {},
   "source": [
    "#### VotingClassifier cOPN\n",
    "\n",
    "http://scikit-learn.org/stable/modules/ensemble.html#votingclassifier"
   ]
  },
  {
   "cell_type": "code",
   "execution_count": 16,
   "metadata": {
    "collapsed": false
   },
   "outputs": [
    {
     "name": "stdout",
     "output_type": "stream",
     "text": [
      "Accuracy: 0.743 (+/- 0.00) [SVC]\n",
      "Accuracy: 0.682 (+/- 0.01) [LSVC]\n",
      "Accuracy: 0.743 (+/- 0.00) [BNB]\n",
      "Accuracy: 0.744 (+/- 0.00) [NB]\n",
      "Accuracy: 0.672 (+/- 0.02) [kNN]\n",
      "Accuracy: 0.705 (+/- 0.01) [Random Forest]\n",
      "Accuracy: 0.707 (+/- 0.02) [ADC]\n",
      "Accuracy: 0.743 (+/- 0.00) [Ensemble]\n"
     ]
    }
   ],
   "source": [
    "# eclf = VotingClassifier(estimators=[\n",
    "#         (\"svc\", clas_fit_SVC),\n",
    "#         (\"linear_svc\", clas_fit_LSVC),\n",
    "#         (\"bnb\", clas_fit_BNB),\n",
    "#         (\"nb\", clas_fit_NB),\n",
    "#         (\"kNN\", clas_fit_kNN), \n",
    "#         (\"rf\", clas_fit_RF), \n",
    "#         (\"adc\", clas_fit_ADC)], voting='hard')\n",
    "\n",
    "\n",
    "# for clf, label in zip([clas_fit_SVC, clas_fit_LSVC, clas_fit_BNB, clas_fit_NB, clas_fit_kNN, clas_fit_RF, clas_fit_ADC, eclf], [\"SVC\", \"LSVC\", \"BNB\",\"NB\",'kNN', 'Random Forest', 'ADC', 'Ensemble']):\n",
    "#     scores = cross_validation.cross_val_score(clf, opn[\"STATUS\"], opn[\"cOPN\"], cv=5, scoring='accuracy')\n",
    "#     print(\"Accuracy: %0.3f (+/- %0.2f) [%s]\" % (scores.mean(), scores.std(), label))"
   ]
  },
  {
   "cell_type": "markdown",
   "metadata": {},
   "source": [
    "### cCON"
   ]
  },
  {
   "cell_type": "code",
   "execution_count": 68,
   "metadata": {
    "collapsed": false,
    "scrolled": false
   },
   "outputs": [
    {
     "name": "stdout",
     "output_type": "stream",
     "text": [
      "Accuracy rbf kernel SVC: 0.541 (+/- 0.00)\n",
      "Precision:  0.729685646501\n",
      "Recall:  0.0\n",
      "F1:  0.0\n",
      "Accuracy LinearSVC: 0.596 (+/- 0.02)\n",
      "Precision:  0.64975311824\n",
      "Recall:  0.520981278244\n",
      "F1:  0.539078156313\n",
      "\n",
      "Accuracy bernuli NBC: 0.601 (+/- 0.02)\n",
      "Precision:  0.607496933616\n",
      "Recall:  0.223369916075\n",
      "F1:  0.33046800382\n",
      "Accuracy Multi-NB: 0.604 (+/- 0.01)\n",
      "Precision:  0.614616679188\n",
      "Recall:  0.255003227889\n",
      "F1:  0.363385464581\n",
      "\n",
      "Accuracy kNN: 0.514 (+/- 0.04)\n",
      "Precision:  0.704681744282\n",
      "Recall:  0.903163331181\n",
      "F1:  0.611050447696\n",
      "\n",
      "Accuracy AdaB: 0.562 (+/- 0.02)\n",
      "Precision:  0.56427053283\n",
      "Recall:  0.287282117495\n",
      "F1:  0.368530020704\n",
      "Accuracy RF: 0.567 (+/- 0.04)\n",
      "Precision:  0.606571873384\n",
      "Recall:  0.414460942544\n",
      "F1:  0.465048895328\n"
     ]
    },
    {
     "name": "stderr",
     "output_type": "stream",
     "text": [
      "/usr/local/lib/python3.4/dist-packages/sklearn/metrics/classification.py:1074: UndefinedMetricWarning: F-score is ill-defined and being set to 0.0 due to no predicted samples.\n",
      "  'precision', 'predicted', average, warn_for)\n"
     ]
    }
   ],
   "source": [
    "clas_fit_SVC = classifierSVC.fit(train_feat_con.iloc[:,1], train_class_con)\n",
    "predicted_SVC = classifierSVC.predict(test_feat_con.iloc[:,1])\n",
    "scores_SVC = cross_validation.cross_val_score(classifierSVC, con_X.iloc[:,1], con_Y, cv = 10,  scoring='accuracy')\n",
    "print(\"Accuracy rbf kernel SVC: %0.3f (+/- %0.2f)\" % (scores_SVC.mean(), scores_SVC.std() * 2))\n",
    "print(\"Precision: \", sk.metrics.average_precision_score(test_class_con, predicted_SVC, average='micro'))\n",
    "print(\"Recall: \", sk.metrics.recall_score(test_class_con, predicted_SVC, labels=[0, 1], average='binary'))\n",
    "print(\"F1: \", sk.metrics.f1_score(test_class_con, predicted_SVC, labels=[0, 1], average='binary'))\n",
    "\n",
    "\n",
    "clas_fit_LSVC = classifierLinearSVC.fit(train_feat_con.iloc[:,1], train_class_con)\n",
    "predicted_LSVC = classifierLinearSVC.predict(test_feat_con.iloc[:,1])\n",
    "scores_LSVC = cross_validation.cross_val_score(classifierLinearSVC, con_X.iloc[:,1], con_Y, cv = 10,  scoring='accuracy')\n",
    "print(\"Accuracy LinearSVC: %0.3f (+/- %0.2f)\" % (scores_LSVC.mean(), scores_LSVC.std() * 2))\n",
    "print(\"Precision: \", sk.metrics.average_precision_score(test_class_con, predicted_LSVC, average='micro'))\n",
    "print(\"Recall: \", sk.metrics.recall_score(test_class_con, predicted_LSVC, labels=[0, 1], average='binary'))\n",
    "print(\"F1: \", sk.metrics.f1_score(test_class_con, predicted_LSVC, labels=[0, 1], average='binary'))\n",
    "\n",
    "\n",
    "print(\"\")\n",
    "\n",
    "clas_fit_BNB = classifierBNB.fit(train_feat_con.iloc[:,1], train_class_con)\n",
    "predicted_BNB = classifierBNB.predict(test_feat_con.iloc[:,1])\n",
    "scores_BNB = cross_validation.cross_val_score(classifierBNB, con_X.iloc[:,1], con_Y, cv = 10,  scoring='accuracy')\n",
    "print(\"Accuracy bernuli NBC: %0.3f (+/- %0.2f)\" % (scores_BNB.mean(), scores_BNB.std() * 2))\n",
    "print(\"Precision: \", sk.metrics.average_precision_score(test_class_con, predicted_BNB, average='micro'))\n",
    "print(\"Recall: \", sk.metrics.recall_score(test_class_con, predicted_BNB, labels=[0, 1], average='binary'))\n",
    "print(\"F1: \", sk.metrics.f1_score(test_class_con, predicted_BNB, labels=[0, 1], average='binary'))\n",
    "\n",
    "clas_fit_NB = classifierNB.fit(train_feat_con.iloc[:,1], train_class_con)\n",
    "predicted_NB = classifierNB.predict(test_feat_con.iloc[:,1])\n",
    "scores_NB = cross_validation.cross_val_score(classifierNB, con_X.iloc[:,1], con_Y, cv = 10,  scoring='accuracy')\n",
    "print(\"Accuracy Multi-NB: %0.3f (+/- %0.2f)\" % (scores_NB.mean(), scores_NB.std() * 2))\n",
    "print(\"Precision: \", sk.metrics.average_precision_score(test_class_con, predicted_NB, average='micro'))\n",
    "print(\"Recall: \", sk.metrics.recall_score(test_class_con, predicted_NB, labels=[0, 1], average='binary'))\n",
    "print(\"F1: \", sk.metrics.f1_score(test_class_con, predicted_NB, labels=[0, 1], average='binary'))\n",
    "\n",
    "print(\"\")\n",
    "\n",
    "clas_fit_kNN = classifier_kNN.fit(train_feat_con.iloc[:,1], train_class_con)\n",
    "predicted_kNN = classifier_kNN.predict(test_feat_con.iloc[:,1])\n",
    "scores_kNN = cross_validation.cross_val_score(classifier_kNN, con_X.iloc[:,1], con_Y, cv = 10,  scoring='accuracy')\n",
    "print(\"Accuracy kNN: %0.3f (+/- %0.2f)\" % (scores_kNN.mean(), scores_kNN.std() * 2))\n",
    "print(\"Precision: \", sk.metrics.average_precision_score(test_class_con, predicted_kNN, average='micro'))\n",
    "print(\"Recall: \", sk.metrics.recall_score(test_class_con, predicted_kNN, labels=[0, 1], average='binary'))\n",
    "print(\"F1: \", sk.metrics.f1_score(test_class_con, predicted_kNN, labels=[0, 1], average='binary'))\n",
    "\n",
    "\n",
    "print(\"\")\n",
    "\n",
    "clas_fit_ADC = classifierADC.fit(train_feat_con.iloc[:,1], train_class_con)\n",
    "predicted_ADC = classifierADC.predict(test_feat_con.iloc[:,1])\n",
    "scores_ADC = cross_validation.cross_val_score(classifierADC, con_X.iloc[:,1], con_Y, cv = 10,  scoring='accuracy')\n",
    "print(\"Accuracy AdaB: %0.3f (+/- %0.2f)\" % (scores_ADC.mean(), scores_ADC.std() * 2))\n",
    "print(\"Precision: \", sk.metrics.average_precision_score(test_class_con, predicted_ADC, average='micro'))\n",
    "print(\"Recall: \", sk.metrics.recall_score(test_class_con, predicted_ADC, labels=[0, 1], average='binary'))\n",
    "print(\"F1: \", sk.metrics.f1_score(test_class_con, predicted_ADC, labels=[0, 1], average='binary'))\n",
    "\n",
    "\n",
    "\n",
    "clas_fit_RF = classifierRF.fit(train_feat_con.iloc[:,1], train_class_con)\n",
    "predicted_RF = classifierRF.predict(test_feat_con.iloc[:,1])\n",
    "scores_RF = cross_validation.cross_val_score(classifierRF, con_X.iloc[:,1], con_Y, cv = 10,  scoring='accuracy')\n",
    "print(\"Accuracy RF: %0.3f (+/- %0.2f)\" % (scores_RF.mean(), scores_RF.std() * 2))\n",
    "print(\"Precision: \", sk.metrics.average_precision_score(test_class_con, predicted_RF, average='micro'))\n",
    "print(\"Recall: \", sk.metrics.recall_score(test_class_con, predicted_RF, labels=[0, 1], average='binary'))\n",
    "print(\"F1: \", sk.metrics.f1_score(test_class_con, predicted_RF, labels=[0, 1], average='binary'))"
   ]
  },
  {
   "cell_type": "markdown",
   "metadata": {},
   "source": [
    "#### VotingClassifier cCON\n",
    "\n",
    "http://scikit-learn.org/stable/modules/ensemble.html#votingclassifier"
   ]
  },
  {
   "cell_type": "code",
   "execution_count": 18,
   "metadata": {
    "collapsed": false
   },
   "outputs": [
    {
     "name": "stdout",
     "output_type": "stream",
     "text": [
      "Accuracy: 0.541 (+/- 0.00) [SVC]\n",
      "Accuracy: 0.528 (+/- 0.02) [LSVC]\n",
      "Accuracy: 0.539 (+/- 0.02) [BNB]\n",
      "Accuracy: 0.543 (+/- 0.02) [NB]\n",
      "Accuracy: 0.512 (+/- 0.01) [kNN]\n",
      "Accuracy: 0.529 (+/- 0.02) [Random Forest]\n",
      "Accuracy: 0.533 (+/- 0.02) [ADC]\n",
      "Accuracy: 0.542 (+/- 0.02) [Ensemble]\n"
     ]
    }
   ],
   "source": [
    "# eclf = VotingClassifier(estimators=[\n",
    "#         (\"svc\", clas_fit_SVC),\n",
    "#         (\"linear_svc\", clas_fit_LSVC), \n",
    "#         (\"bnb\", clas_fit_BNB),\n",
    "#         (\"nb\", clas_fit_NB),\n",
    "#         (\"kNN\", clas_fit_kNN), \n",
    "#         (\"rf\", clas_fit_RF), \n",
    "#         (\"adc\", clas_fit_ADC)], voting='hard')\n",
    "\n",
    "\n",
    "# for clf, label in zip([clas_fit_SVC, clas_fit_LSVC, clas_fit_BNB, clas_fit_NB, clas_fit_kNN, clas_fit_RF, clas_fit_ADC, eclf], [\"SVC\", \"LSVC\",\"BNB\",\"NB\",'kNN', 'Random Forest', 'ADC', 'Ensemble']):\n",
    "#     scores = cross_validation.cross_val_score(clf, con[\"STATUS\"], con[\"cCON\"], cv=5, scoring='accuracy')\n",
    "#     print(\"Accuracy: %0.3f (+/- %0.2f) [%s]\" % (scores.mean(), scores.std(), label))"
   ]
  },
  {
   "cell_type": "markdown",
   "metadata": {},
   "source": [
    "### cEXT"
   ]
  },
  {
   "cell_type": "code",
   "execution_count": 70,
   "metadata": {
    "collapsed": false
   },
   "outputs": [
    {
     "name": "stdout",
     "output_type": "stream",
     "text": [
      "Accuracy rbf kernel SVC: 0.575 (+/- 0.00)\n",
      "Precision:  0.7121886121\n",
      "Recall:  0.0\n",
      "F1:  0.0\n",
      "Accuracy LinearSVC: 0.600 (+/- 0.03)\n",
      "Precision:  0.603414830532\n",
      "Recall:  0.45213137666\n",
      "F1:  0.484644194757\n",
      "\n",
      "Accuracy bernuli NBC: 0.605 (+/- 0.01)\n",
      "Precision:  0.611361725991\n",
      "Recall:  0.0936408106219\n",
      "F1:  0.166356300435\n",
      "Accuracy Multi-NB: 0.610 (+/- 0.01)\n",
      "Precision:  0.578035701866\n",
      "Recall:  0.115303983229\n",
      "F1:  0.196545562835\n",
      "\n",
      "Accuracy kNN: 0.528 (+/- 0.03)\n",
      "Precision:  0.475125956234\n",
      "Recall:  0.143955276031\n",
      "F1:  0.217299578059\n",
      "\n",
      "Accuracy AdaB: 0.576 (+/- 0.03)\n",
      "Precision:  0.54159084921\n",
      "Recall:  0.25786163522\n",
      "F1:  0.342618384401\n",
      "Accuracy RF: 0.574 (+/- 0.04)\n",
      "Precision:  0.541389522014\n",
      "Recall:  0.268343815514\n",
      "F1:  0.350205198358\n"
     ]
    },
    {
     "name": "stderr",
     "output_type": "stream",
     "text": [
      "/usr/local/lib/python3.4/dist-packages/sklearn/metrics/classification.py:1074: UndefinedMetricWarning: F-score is ill-defined and being set to 0.0 due to no predicted samples.\n",
      "  'precision', 'predicted', average, warn_for)\n"
     ]
    }
   ],
   "source": [
    "clas_fit_SVC = classifierSVC.fit(train_feat_ext.iloc[:,1], train_class_ext)\n",
    "predicted_SVC = classifierSVC.predict(test_feat_ext.iloc[:,1])\n",
    "scores_SVC = cross_validation.cross_val_score(classifierSVC, ext_X.iloc[:,1], ext_Y, cv = 10,  scoring='accuracy')\n",
    "print(\"Accuracy rbf kernel SVC: %0.3f (+/- %0.2f)\" % (scores_SVC.mean(), scores_SVC.std() * 2))\n",
    "print(\"Precision: \", sk.metrics.average_precision_score(test_class_ext, predicted_SVC, average='micro'))\n",
    "print(\"Recall: \", sk.metrics.recall_score(test_class_ext, predicted_SVC, labels=[0, 1], average='binary'))\n",
    "print(\"F1: \", sk.metrics.f1_score(test_class_ext, predicted_SVC, labels=[0, 1], average='binary'))\n",
    "\n",
    "\n",
    "clas_fit_LSVC = classifierLinearSVC.fit(train_feat_ext.iloc[:,1], train_class_ext)\n",
    "predicted_LSVC = classifierLinearSVC.predict(test_feat_ext.iloc[:,1])\n",
    "scores_LSVC = cross_validation.cross_val_score(classifierLinearSVC, ext_X.iloc[:,1], ext_Y, cv = 10,  scoring='accuracy')\n",
    "print(\"Accuracy LinearSVC: %0.3f (+/- %0.2f)\" % (scores_LSVC.mean(), scores_LSVC.std() * 2))\n",
    "print(\"Precision: \", sk.metrics.average_precision_score(test_class_ext, predicted_LSVC, average='micro'))\n",
    "print(\"Recall: \", sk.metrics.recall_score(test_class_ext, predicted_LSVC, labels=[0, 1], average='binary'))\n",
    "print(\"F1: \", sk.metrics.f1_score(test_class_ext, predicted_LSVC, labels=[0, 1], average='binary'))\n",
    "\n",
    "\n",
    "print(\"\")\n",
    "\n",
    "clas_fit_BNB = classifierBNB.fit(train_feat_ext.iloc[:,1], train_class_ext)\n",
    "predicted_BNB = classifierBNB.predict(test_feat_ext.iloc[:,1])\n",
    "scores_BNB = cross_validation.cross_val_score(classifierBNB, ext_X.iloc[:,1], ext_Y, cv = 10,  scoring='accuracy')\n",
    "print(\"Accuracy bernuli NBC: %0.3f (+/- %0.2f)\" % (scores_BNB.mean(), scores_BNB.std() * 2))\n",
    "print(\"Precision: \", sk.metrics.average_precision_score(test_class_ext, predicted_BNB, average='micro'))\n",
    "print(\"Recall: \", sk.metrics.recall_score(test_class_ext, predicted_BNB, labels=[0, 1], average='binary'))\n",
    "print(\"F1: \", sk.metrics.f1_score(test_class_ext, predicted_BNB, labels=[0, 1], average='binary'))\n",
    "\n",
    "clas_fit_NB = classifierNB.fit(train_feat_ext.iloc[:,1], train_class_ext)\n",
    "predicted_NB = classifierNB.predict(test_feat_ext.iloc[:,1])\n",
    "scores_NB = cross_validation.cross_val_score(classifierNB, ext_X.iloc[:,1], ext_Y, cv = 10,  scoring='accuracy')\n",
    "print(\"Accuracy Multi-NB: %0.3f (+/- %0.2f)\" % (scores_NB.mean(), scores_NB.std() * 2))\n",
    "print(\"Precision: \", sk.metrics.average_precision_score(test_class_ext, predicted_NB, average='micro'))\n",
    "print(\"Recall: \", sk.metrics.recall_score(test_class_ext, predicted_NB, labels=[0, 1], average='binary'))\n",
    "print(\"F1: \", sk.metrics.f1_score(test_class_ext, predicted_NB, labels=[0, 1], average='binary'))\n",
    "\n",
    "print(\"\")\n",
    "\n",
    "clas_fit_kNN = classifier_kNN.fit(train_feat_ext.iloc[:,1], train_class_ext)\n",
    "predicted_kNN = classifier_kNN.predict(test_feat_ext.iloc[:,1])\n",
    "scores_kNN = cross_validation.cross_val_score(classifier_kNN, ext_X.iloc[:,1], ext_Y, cv = 10,  scoring='accuracy')\n",
    "print(\"Accuracy kNN: %0.3f (+/- %0.2f)\" % (scores_kNN.mean(), scores_kNN.std() * 2))\n",
    "print(\"Precision: \", sk.metrics.average_precision_score(test_class_ext, predicted_kNN, average='micro'))\n",
    "print(\"Recall: \", sk.metrics.recall_score(test_class_ext, predicted_kNN, labels=[0, 1], average='binary'))\n",
    "print(\"F1: \", sk.metrics.f1_score(test_class_ext, predicted_kNN, labels=[0, 1], average='binary'))\n",
    "\n",
    "\n",
    "print(\"\")\n",
    "\n",
    "clas_fit_ADC = classifierADC.fit(train_feat_ext.iloc[:,1], train_class_ext)\n",
    "predicted_ADC = classifierADC.predict(test_feat_ext.iloc[:,1])\n",
    "scores_ADC = cross_validation.cross_val_score(classifierADC, ext_X.iloc[:,1], ext_Y, cv = 10,  scoring='accuracy')\n",
    "print(\"Accuracy AdaB: %0.3f (+/- %0.2f)\" % (scores_ADC.mean(), scores_ADC.std() * 2))\n",
    "print(\"Precision: \", sk.metrics.average_precision_score(test_class_ext, predicted_ADC, average='micro'))\n",
    "print(\"Recall: \", sk.metrics.recall_score(test_class_ext, predicted_ADC, labels=[0, 1], average='binary'))\n",
    "print(\"F1: \", sk.metrics.f1_score(test_class_ext, predicted_ADC, labels=[0, 1], average='binary'))\n",
    "\n",
    "\n",
    "\n",
    "clas_fit_RF = classifierRF.fit(train_feat_ext.iloc[:,1], train_class_ext)\n",
    "predicted_RF = classifierRF.predict(test_feat_ext.iloc[:,1])\n",
    "scores_RF = cross_validation.cross_val_score(classifierRF, ext_X.iloc[:,1], ext_Y, cv = 10,  scoring='accuracy')\n",
    "print(\"Accuracy RF: %0.3f (+/- %0.2f)\" % (scores_RF.mean(), scores_RF.std() * 2))\n",
    "print(\"Precision: \", sk.metrics.average_precision_score(test_class_ext, predicted_RF, average='micro'))\n",
    "print(\"Recall: \", sk.metrics.recall_score(test_class_ext, predicted_RF, labels=[0, 1], average='binary'))\n",
    "print(\"F1: \", sk.metrics.f1_score(test_class_ext, predicted_RF, labels=[0, 1], average='binary'))\n"
   ]
  },
  {
   "cell_type": "markdown",
   "metadata": {},
   "source": [
    "#### VotingClassifier cEXT\n",
    "\n",
    "http://scikit-learn.org/stable/modules/ensemble.html#votingclassifier"
   ]
  },
  {
   "cell_type": "code",
   "execution_count": 20,
   "metadata": {
    "collapsed": false
   },
   "outputs": [
    {
     "name": "stdout",
     "output_type": "stream",
     "text": [
      "Accuracy: 0.575 (+/- 0.00) [SVC]\n",
      "Accuracy: 0.537 (+/- 0.01) [LSVC]\n",
      "Accuracy: 0.571 (+/- 0.01) [BNB]\n",
      "Accuracy: 0.568 (+/- 0.00) [NB]\n",
      "Accuracy: 0.523 (+/- 0.01) [kNN]\n",
      "Accuracy: 0.542 (+/- 0.01) [Random Forest]\n",
      "Accuracy: 0.557 (+/- 0.01) [ADC]\n",
      "Accuracy: 0.569 (+/- 0.01) [Ensemble]\n"
     ]
    }
   ],
   "source": [
    "# eclf = VotingClassifier(estimators=[\n",
    "#         (\"svc\", clas_fit_SVC),\n",
    "#         (\"linear_svc\", clas_fit_LSVC), \n",
    "#         (\"bnb\", clas_fit_BNB),\n",
    "#         (\"nb\", clas_fit_NB),\n",
    "#         (\"kNN\", clas_fit_kNN), \n",
    "#         (\"rf\", clas_fit_RF), \n",
    "#         (\"adc\", clas_fit_ADC)], voting='hard')\n",
    "\n",
    "\n",
    "# for clf, label in zip([clas_fit_SVC, clas_fit_LSVC, clas_fit_BNB, clas_fit_NB, clas_fit_kNN, clas_fit_RF, clas_fit_ADC, eclf], [\"SVC\", \"LSVC\", \"BNB\", \"NB\", 'kNN', 'Random Forest', 'ADC', 'Ensemble']):\n",
    "#     scores = cross_validation.cross_val_score(clf, ext[\"STATUS\"], ext[\"cEXT\"], cv=5, scoring='accuracy')\n",
    "#     print(\"Accuracy: %0.3f (+/- %0.2f) [%s]\" % (scores.mean(), scores.std(), label))"
   ]
  }
 ],
 "metadata": {
  "celltoolbar": "Edit Metadata",
  "hide_input": false,
  "kernelspec": {
   "display_name": "Python 3",
   "language": "python",
   "name": "python3"
  },
  "language_info": {
   "codemirror_mode": {
    "name": "ipython",
    "version": 3
   },
   "file_extension": ".py",
   "mimetype": "text/x-python",
   "name": "python",
   "nbconvert_exporter": "python",
   "pygments_lexer": "ipython3",
   "version": "3.4.3+"
  }
 },
 "nbformat": 4,
 "nbformat_minor": 0
}
