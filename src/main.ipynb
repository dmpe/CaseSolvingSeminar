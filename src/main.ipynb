{
 "cells": [
  {
   "cell_type": "code",
   "execution_count": 19,
   "metadata": {
    "collapsed": false
   },
   "outputs": [],
   "source": [
    "import nltk\n",
    "\n",
    "import numpy as np\n",
    "\n",
    "import pandas as pd\n",
    "\n",
    "import sklearn as sk\n",
    "\n",
    "import csspipe\n",
    "import cssfeature\n",
    "\n",
    "import helper\n",
    "\n",
    "import sqlite3\n",
    "\n"
   ]
  },
  {
   "cell_type": "code",
   "execution_count": 20,
   "metadata": {
    "collapsed": true
   },
   "outputs": [],
   "source": [
    "### Load data\n",
    "\n",
    "# (run bash ./src/init.sh first!)"
   ]
  },
  {
   "cell_type": "code",
   "execution_count": 21,
   "metadata": {
    "collapsed": false,
    "scrolled": true
   },
   "outputs": [
    {
     "data": {
      "text/html": [
       "<div>\n",
       "<table border=\"1\" class=\"dataframe\">\n",
       "  <thead>\n",
       "    <tr style=\"text-align: right;\">\n",
       "      <th></th>\n",
       "      <th>sentence</th>\n",
       "      <th>cNeu</th>\n",
       "    </tr>\n",
       "  </thead>\n",
       "  <tbody>\n",
       "    <tr>\n",
       "      <th>0</th>\n",
       "      <td>likes the sound of thunder.</td>\n",
       "      <td>True</td>\n",
       "    </tr>\n",
       "    <tr>\n",
       "      <th>1</th>\n",
       "      <td>is so sleepy it's not even funny that's she ca...</td>\n",
       "      <td>True</td>\n",
       "    </tr>\n",
       "    <tr>\n",
       "      <th>2</th>\n",
       "      <td>is sore and wants the knot of muscles at the b...</td>\n",
       "      <td>True</td>\n",
       "    </tr>\n",
       "    <tr>\n",
       "      <th>3</th>\n",
       "      <td>likes how the day sounds in this new song.</td>\n",
       "      <td>True</td>\n",
       "    </tr>\n",
       "    <tr>\n",
       "      <th>4</th>\n",
       "      <td>is home. &lt;3</td>\n",
       "      <td>True</td>\n",
       "    </tr>\n",
       "  </tbody>\n",
       "</table>\n",
       "</div>"
      ],
      "text/plain": [
       "                                            sentence  cNeu\n",
       "0                        likes the sound of thunder.  True\n",
       "1  is so sleepy it's not even funny that's she ca...  True\n",
       "2  is sore and wants the knot of muscles at the b...  True\n",
       "3         likes how the day sounds in this new song.  True\n",
       "4                                        is home. <3  True"
      ]
     },
     "execution_count": 21,
     "metadata": {},
     "output_type": "execute_result"
    }
   ],
   "source": [
    "#data = pd.read_csv(\"../raw_data/data_n.csv\", parse_dates=True, infer_datetime_format=True)\n",
    "#help(data.head)\n",
    "#data.head(1)\n",
    "db_path = './data.sqlite3'\n",
    "sqlite_connection = sqlite3.connect(db_path)\n",
    "data_reader = helper.CNeuReader(sqlite_connection)\n",
    "\n",
    "data = data_reader.get_results()\n",
    "data.head()\n"
   ]
  },
  {
   "cell_type": "code",
   "execution_count": 22,
   "metadata": {
    "collapsed": false,
    "scrolled": false
   },
   "outputs": [],
   "source": [
    "#help(data)"
   ]
  },
  {
   "cell_type": "code",
   "execution_count": 23,
   "metadata": {
    "collapsed": false
   },
   "outputs": [
    {
     "name": "stdout",
     "output_type": "stream",
     "text": [
      "                                            sentence  cNeu\n",
      "0                        likes the sound of thunder.  True\n",
      "1  is so sleepy it's not even funny that's she ca...  True\n",
      "  sentence  cNeu\n",
      "0       27  True\n",
      "1       63  True\n"
     ]
    }
   ],
   "source": [
    "\n",
    "print(data.head(2))\n",
    "\n",
    "cssfeature.CharacterFeatures.string_length(data, 0)\n",
    "\n",
    "print(data.head(2))\n"
   ]
  },
  {
   "cell_type": "code",
   "execution_count": 6,
   "metadata": {
    "collapsed": true
   },
   "outputs": [],
   "source": [
    "### Split Data in train and test sets\n",
    "# http://scikit-learn.org/stable/modules/cross_validation.html"
   ]
  },
  {
   "cell_type": "code",
   "execution_count": 44,
   "metadata": {
    "collapsed": false
   },
   "outputs": [
    {
     "name": "stdout",
     "output_type": "stream",
     "text": [
      "train_feat\n",
      "                                                 STATUS\n",
      "8771  Merry Christmas & All The Love...  *PROPNAME* ...\n",
      "\n",
      "train_label\n",
      "     cNEU\n",
      "8771    n\n",
      "\n",
      "test_feat\n",
      "                                                 STATUS\n",
      "7586  Cos all of the stars are fading away Just try ...\n",
      "\n",
      "test_label\n",
      "     cNEU\n",
      "7586    n\n",
      "\n"
     ]
    }
   ],
   "source": [
    "\n",
    "test_data = neu[[\"STATUS\"]]\n",
    "test_target = neu[[\"cNEU\"]]\n",
    "\n",
    "split = sk.cross_validation.train_test_split(test_data, test_target, train_size = 0.66, random_state= 6432119)\n",
    "train_feat, test_feat, train_label, test_label = split\n",
    "\n",
    "print(\"train_feat\\n%s\\n\" %train_feat.head(1))\n",
    "print(\"train_label\\n%s\\n\" %train_label.head(1))\n",
    "print(\"test_feat\\n%s\\n\" %test_feat.head(1))\n",
    "print(\"test_label\\n%s\\n\" %test_label.head(1))\n",
    "\n"
   ]
  },
  {
   "cell_type": "code",
   "execution_count": 8,
   "metadata": {
    "collapsed": true
   },
   "outputs": [],
   "source": [
    "### Create classifiers"
   ]
  },
  {
   "cell_type": "code",
   "execution_count": 9,
   "metadata": {
    "collapsed": false
   },
   "outputs": [],
   "source": [
    "## Support Vector Machines\n",
    "# http://scikit-learn.org/stable/modules/svm.html\n",
    "\n",
    "classifier_svc = (\"support vector classifier\", sk.svm.SVC(kernel='linear', C=1))\n",
    "classifier_l_svc = (\"linear svc\", sk.svm.LinearSVC(random_state = 9974))\n"
   ]
  },
  {
   "cell_type": "code",
   "execution_count": 10,
   "metadata": {
    "collapsed": true
   },
   "outputs": [],
   "source": [
    "## Naive Bayes\n",
    "# http://scikit-learn.org/stable/modules/naive_bayes.html\n",
    "classifier_m_nb = (\"Naive Bayes classifier for multinomial models\", sk.naive_bayes.MultinomialNB())\n",
    "classifier_b_nb = (\"Naive Bayes classifier for multivariate Bernoulli models\", sk.naive_bayes.BernoulliNB())"
   ]
  },
  {
   "cell_type": "code",
   "execution_count": 11,
   "metadata": {
    "collapsed": false
   },
   "outputs": [],
   "source": [
    "## Ensemble methods\n",
    "# http://scikit-learn.org/stable/modules/ensemble.html\n",
    "classifier_rfc = (\"random forest classifier\",\n",
    "                  sk.ensemble.RandomForestClassifier(\n",
    "                        max_depth=5\n",
    "                        , n_estimators=10 \n",
    "                        , max_features=1 \n",
    "                        , n_jobs=-1\n",
    "                        , random_state=32414343))\n",
    "classifier_abc = (\"Ada boost classifier\", sk.ensemble.AdaBoostClassifier(random_state=67294))\n"
   ]
  },
  {
   "cell_type": "code",
   "execution_count": 12,
   "metadata": {
    "collapsed": false
   },
   "outputs": [],
   "source": [
    "## Neighbour methods\n",
    "# http://scikit-learn.org/stable/modules/neighbors.html\n",
    "\n",
    "classifier_knc = (\"K nearest keighbours\", sk.neighbors.KNeighborsClassifier())"
   ]
  },
  {
   "cell_type": "code",
   "execution_count": 13,
   "metadata": {
    "collapsed": false
   },
   "outputs": [
    {
     "data": {
      "text/plain": [
       "Pipeline(steps=[('linear svc', LinearSVC(C=1.0, class_weight=None, dual=True, fit_intercept=True,\n",
       "     intercept_scaling=1, loss='squared_hinge', max_iter=1000,\n",
       "     multi_class='ovr', penalty='l2', random_state=9974, tol=0.0001,\n",
       "     verbose=0))])"
      ]
     },
     "execution_count": 13,
     "metadata": {},
     "output_type": "execute_result"
    }
   ],
   "source": [
    "## Pipelineing\n",
    "# http://scikit-learn.org/stable/modules/pipeline.html\n",
    "# http://zacstewart.com/2014/08/05/pipelines-of-featureunions-of-pipelines.html\n",
    "\n",
    "pipeline = sk.pipeline.Pipeline([\n",
    "        classifier_l_svc\n",
    "    ])\n",
    "\n",
    "\n",
    "pipeline"
   ]
  },
  {
   "cell_type": "code",
   "execution_count": 14,
   "metadata": {
    "collapsed": false
   },
   "outputs": [
    {
     "data": {
      "text/plain": [
       "array([ 0.62482822,  0.62494269,  0.62494269])"
      ]
     },
     "execution_count": 14,
     "metadata": {},
     "output_type": "execute_result"
    }
   ],
   "source": [
    "\n",
    "classifier = classifier_svc[1]\n",
    "\n",
    "#help(train_feat[\"StringLength\"])\n",
    "\n",
    "sk.cross_validation.cross_val_score(classifier, train_feat[[\"StringLength\"]], train_label[\"cNEU\"])\n",
    "\n",
    "\n",
    "#help(classifier)\n",
    "\n",
    "#trained_classifier = classifier.fit(train_feat, train_label)\n",
    "\n",
    "#predicted = sk.cross_validation.cross_val_predict(trained_classifier, test_feat, test_label)\n",
    "\n",
    "#print(predicted)\n",
    "\n",
    "#predicted = sk.cross_validation.cross_val_predict(pipeline, train_feat, test_label, cv=10)\n",
    "#metrics.accuracy_score(iris.target, predicted) "
   ]
  },
  {
   "cell_type": "code",
   "execution_count": 32,
   "metadata": {
    "collapsed": false
   },
   "outputs": [
    {
     "name": "stdout",
     "output_type": "stream",
     "text": [
      "  (0, 6)\t0.377964473009\n",
      "  (0, 4)\t0.377964473009\n",
      "  (0, 2)\t0.377964473009\n",
      "  (0, 5)\t0.377964473009\n",
      "  (0, 0)\t0.377964473009\n",
      "  (0, 1)\t0.377964473009\n",
      "  (0, 3)\t0.377964473009\n",
      "[ 0.63078333  0.62998624  0.62906923]\n"
     ]
    }
   ],
   "source": [
    "tfidf_vectorizer = sk.feature_extraction.text.TfidfVectorizer()\n",
    "\n",
    "pipeline = sk.pipeline.Pipeline([('tfidf', tfidf_vectorizer),\n",
    "                     ('chi2', sk.feature_selection.SelectKBest(sk.feature_selection.chi2, k=1000)),\n",
    "                     ('nb', sk.naive_bayes.MultinomialNB())\n",
    "                    ])\n",
    "\n",
    "#pipeline.fit(train_feat[[\"STATUS\"]], train_label[[\"cNEU\"]])\n",
    "data = train_feat.STATUS\n",
    "target = train_label.cNEU.apply(lambda x: x == 'y')\n",
    "\n",
    "foo = tfidf_vectorizer.fit_transform(data[:1], target[:1])\n",
    "print(foo)\n",
    "#idf = foo.idf_\n",
    "\n",
    "#print(len(idf))\n",
    "#print(len(data))\n",
    "\n",
    "result = sk.cross_validation.cross_val_score(pipeline, data, target)\n",
    "print(result)"
   ]
  },
  {
   "cell_type": "code",
   "execution_count": 16,
   "metadata": {
    "collapsed": true
   },
   "outputs": [],
   "source": [
    "pipe_factory = csspipe.PipeFactory()\n"
   ]
  },
  {
   "cell_type": "code",
   "execution_count": 17,
   "metadata": {
    "collapsed": true
   },
   "outputs": [],
   "source": [
    "tfidf_nb_pipe = pipe_factory.create_tfidf_nb()"
   ]
  },
  {
   "cell_type": "code",
   "execution_count": 18,
   "metadata": {
    "collapsed": false
   },
   "outputs": [
    {
     "data": {
      "text/plain": [
       "Pipeline(steps=[('tfidf', TfidfVectorizer(analyzer='word', binary=False, decode_error='strict',\n",
       "        dtype=<class 'numpy.int64'>, encoding='utf-8', input='content',\n",
       "        lowercase=True, max_df=1.0, max_features=None, min_df=1,\n",
       "        ngram_range=(1, 1), norm='l2', preprocessor=None, smooth_idf=True,\n",
       " ...yes classifier for multinomial models', MultinomialNB(alpha=1.0, class_prior=None, fit_prior=True))])"
      ]
     },
     "execution_count": 18,
     "metadata": {},
     "output_type": "execute_result"
    }
   ],
   "source": [
    "tfidf_nb_pipe"
   ]
  },
  {
   "cell_type": "code",
   "execution_count": 22,
   "metadata": {
    "collapsed": false
   },
   "outputs": [
    {
     "name": "stdout",
     "output_type": "stream",
     "text": [
      "[ 0.63078333  0.62998624  0.62906923]\n"
     ]
    }
   ],
   "source": [
    "result = sk.cross_validation.cross_val_score(tfidf_nb_pipe, data, target)\n",
    "print(result)"
   ]
  },
  {
   "cell_type": "code",
   "execution_count": null,
   "metadata": {
    "collapsed": true
   },
   "outputs": [],
   "source": []
  },
  {
   "cell_type": "code",
   "execution_count": null,
   "metadata": {
    "collapsed": true
   },
   "outputs": [],
   "source": []
  }
 ],
 "metadata": {
  "kernelspec": {
   "display_name": "Python 3",
   "language": "python",
   "name": "python3"
  },
  "language_info": {
   "codemirror_mode": {
    "name": "ipython",
    "version": 3
   },
   "file_extension": ".py",
   "mimetype": "text/x-python",
   "name": "python",
   "nbconvert_exporter": "python",
   "pygments_lexer": "ipython3",
   "version": "3.4.2"
  }
 },
 "nbformat": 4,
 "nbformat_minor": 0
}
