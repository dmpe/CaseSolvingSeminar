{
 "cells": [
  {
   "cell_type": "code",
   "execution_count": 174,
   "metadata": {
    "collapsed": false
   },
   "outputs": [
    {
     "data": {
      "text/plain": [
       "TfidfTransformer(norm='l2', smooth_idf=True, sublinear_tf=False, use_idf=True)"
      ]
     },
     "execution_count": 174,
     "metadata": {},
     "output_type": "execute_result"
    }
   ],
   "source": [
    "import nltk\n",
    "\n",
    "import numpy as np\n",
    "\n",
    "import pandas as pd\n",
    "\n",
    "import sklearn as sk\n",
    "from sklearn import cross_validation\n",
    "from sklearn import ensemble\n",
    "from sklearn import feature_extraction\n",
    "from sklearn import feature_selection\n",
    "from sklearn import naive_bayes\n",
    "from sklearn import neighbors\n",
    "from sklearn import pipeline\n",
    "from sklearn import svm\n"
   ]
  },
  {
   "cell_type": "code",
   "execution_count": 18,
   "metadata": {
    "collapsed": true
   },
   "outputs": [],
   "source": [
    "### Load data"
   ]
  },
  {
   "cell_type": "code",
   "execution_count": 23,
   "metadata": {
    "collapsed": false,
    "scrolled": true
   },
   "outputs": [
    {
     "data": {
      "text/html": [
       "<div>\n",
       "<table border=\"1\" class=\"dataframe\">\n",
       "  <thead>\n",
       "    <tr style=\"text-align: right;\">\n",
       "      <th></th>\n",
       "      <th>Unnamed: 0</th>\n",
       "      <th>#AUTHID</th>\n",
       "      <th>STATUS</th>\n",
       "      <th>sEXT</th>\n",
       "      <th>sNEU</th>\n",
       "      <th>sAGR</th>\n",
       "      <th>sCON</th>\n",
       "      <th>sOPN</th>\n",
       "      <th>cEXT</th>\n",
       "      <th>cNEU</th>\n",
       "      <th>...</th>\n",
       "      <th>Number_of_Dots</th>\n",
       "      <th>Number_of_Commas</th>\n",
       "      <th>Number_of_Semicolons</th>\n",
       "      <th>Number_of_Colons</th>\n",
       "      <th>Average_Word_Length</th>\n",
       "      <th>Lexical_Diversity</th>\n",
       "      <th>Number_of_FunctionalWords</th>\n",
       "      <th>Number_of_Pronouns</th>\n",
       "      <th>Number_of_PROPNAMEs</th>\n",
       "      <th>SentimentNumeric</th>\n",
       "    </tr>\n",
       "  </thead>\n",
       "  <tbody>\n",
       "    <tr>\n",
       "      <th>0</th>\n",
       "      <td>1</td>\n",
       "      <td>b7b7764cfa1c523e4e93ab2a79a946c4</td>\n",
       "      <td>likes the sound of thunder.</td>\n",
       "      <td>2.65</td>\n",
       "      <td>3</td>\n",
       "      <td>3.15</td>\n",
       "      <td>3.25</td>\n",
       "      <td>4.4</td>\n",
       "      <td>n</td>\n",
       "      <td>y</td>\n",
       "      <td>...</td>\n",
       "      <td>1</td>\n",
       "      <td>0</td>\n",
       "      <td>0</td>\n",
       "      <td>0</td>\n",
       "      <td>4.4</td>\n",
       "      <td>0.7</td>\n",
       "      <td>2</td>\n",
       "      <td>0</td>\n",
       "      <td>0</td>\n",
       "      <td>2</td>\n",
       "    </tr>\n",
       "  </tbody>\n",
       "</table>\n",
       "<p>1 rows × 33 columns</p>\n",
       "</div>"
      ],
      "text/plain": [
       "   Unnamed: 0                           #AUTHID                       STATUS  \\\n",
       "0           1  b7b7764cfa1c523e4e93ab2a79a946c4  likes the sound of thunder.   \n",
       "\n",
       "   sEXT  sNEU  sAGR  sCON  sOPN cEXT cNEU        ...        Number_of_Dots  \\\n",
       "0  2.65     3  3.15  3.25   4.4    n    y        ...                     1   \n",
       "\n",
       "  Number_of_Commas Number_of_Semicolons Number_of_Colons  Average_Word_Length  \\\n",
       "0                0                    0                0                  4.4   \n",
       "\n",
       "   Lexical_Diversity  Number_of_FunctionalWords  Number_of_Pronouns  \\\n",
       "0                0.7                          2                   0   \n",
       "\n",
       "   Number_of_PROPNAMEs  SentimentNumeric  \n",
       "0                    0                 2  \n",
       "\n",
       "[1 rows x 33 columns]"
      ]
     },
     "execution_count": 23,
     "metadata": {},
     "output_type": "execute_result"
    }
   ],
   "source": [
    "data = pd.read_csv(\"../raw_data/data_n.csv\", parse_dates=True, infer_datetime_format=True)\n",
    "#help(data.head)\n",
    "data.head(1)"
   ]
  },
  {
   "cell_type": "code",
   "execution_count": 27,
   "metadata": {
    "collapsed": false,
    "scrolled": false
   },
   "outputs": [],
   "source": [
    "#help(data)"
   ]
  },
  {
   "cell_type": "code",
   "execution_count": 76,
   "metadata": {
    "collapsed": false
   },
   "outputs": [
    {
     "data": {
      "text/html": [
       "<div>\n",
       "<table border=\"1\" class=\"dataframe\">\n",
       "  <thead>\n",
       "    <tr style=\"text-align: right;\">\n",
       "      <th></th>\n",
       "      <th>STATUS</th>\n",
       "      <th>cNEU</th>\n",
       "      <th>StringLength</th>\n",
       "      <th>Number_of_Words</th>\n",
       "      <th>Number_of_Dots</th>\n",
       "      <th>Number_of_Commas</th>\n",
       "      <th>Number_of_Semicolons</th>\n",
       "      <th>Number_of_Colons</th>\n",
       "      <th>Average_Word_Length</th>\n",
       "      <th>Lexical_Diversity</th>\n",
       "      <th>Number_of_FunctionalWords</th>\n",
       "      <th>Number_of_Pronouns</th>\n",
       "      <th>Number_of_PROPNAMEs</th>\n",
       "      <th>SentimentNumeric</th>\n",
       "    </tr>\n",
       "  </thead>\n",
       "  <tbody>\n",
       "    <tr>\n",
       "      <th>0</th>\n",
       "      <td>likes the sound of thunder.</td>\n",
       "      <td>y</td>\n",
       "      <td>27</td>\n",
       "      <td>5</td>\n",
       "      <td>1</td>\n",
       "      <td>0</td>\n",
       "      <td>0</td>\n",
       "      <td>0</td>\n",
       "      <td>4.4</td>\n",
       "      <td>0.7</td>\n",
       "      <td>2</td>\n",
       "      <td>0</td>\n",
       "      <td>0</td>\n",
       "      <td>2</td>\n",
       "    </tr>\n",
       "  </tbody>\n",
       "</table>\n",
       "</div>"
      ],
      "text/plain": [
       "                        STATUS cNEU  StringLength  Number_of_Words  \\\n",
       "0  likes the sound of thunder.    y            27                5   \n",
       "\n",
       "   Number_of_Dots  Number_of_Commas  Number_of_Semicolons  Number_of_Colons  \\\n",
       "0               1                 0                     0                 0   \n",
       "\n",
       "   Average_Word_Length  Lexical_Diversity  Number_of_FunctionalWords  \\\n",
       "0                  4.4                0.7                          2   \n",
       "\n",
       "   Number_of_Pronouns  Number_of_PROPNAMEs  SentimentNumeric  \n",
       "0                   0                    0                 2  "
      ]
     },
     "execution_count": 76,
     "metadata": {},
     "output_type": "execute_result"
    }
   ],
   "source": [
    "neu = data_n[[\n",
    "        \"STATUS\"\n",
    "        , \"cNEU\"\n",
    "        , \"StringLength\"\n",
    "        , \"Number_of_Words\"\n",
    "        , \"Number_of_Dots\"\n",
    "        , \"Number_of_Commas\"\n",
    "        , \"Number_of_Semicolons\"\n",
    "        , \"Number_of_Colons\"\n",
    "        , \"Average_Word_Length\"\n",
    "        , \"Lexical_Diversity\"\n",
    "        , \"Number_of_FunctionalWords\"\n",
    "        , \"Number_of_Pronouns\"\n",
    "        , \"Number_of_PROPNAMEs\"\n",
    "        , \"SentimentNumeric\"\n",
    "    ]]\n",
    "neu.head(1)"
   ]
  },
  {
   "cell_type": "code",
   "execution_count": 43,
   "metadata": {
    "collapsed": true
   },
   "outputs": [],
   "source": [
    "### Split Data in train and test sets\n",
    "# http://scikit-learn.org/stable/modules/cross_validation.html"
   ]
  },
  {
   "cell_type": "code",
   "execution_count": 166,
   "metadata": {
    "collapsed": false
   },
   "outputs": [
    {
     "name": "stdout",
     "output_type": "stream",
     "text": [
      "train_feat\n",
      "                                                 STATUS  StringLength\n",
      "8771  Merry Christmas & All The Love...  *PROPNAME* ...            79\n",
      "\n",
      "train_label\n",
      "     cNEU\n",
      "8771    n\n",
      "\n",
      "test_feat\n",
      "                                                 STATUS  StringLength\n",
      "7586  Cos all of the stars are fading away Just try ...            82\n",
      "\n",
      "test_label\n",
      "     cNEU\n",
      "7586    n\n",
      "\n"
     ]
    }
   ],
   "source": [
    "\n",
    "test_data = neu[[\"STATUS\", \"StringLength\"]]\n",
    "test_target = neu[[\"cNEU\"]]\n",
    "\n",
    "split = sk.cross_validation.train_test_split(test_data, test_target, train_size = 0.66, random_state= 6432119)\n",
    "train_feat, test_feat, train_label, test_label = split\n",
    "\n",
    "print(\"train_feat\\n%s\\n\" %train_feat.head(1))\n",
    "print(\"train_label\\n%s\\n\" %train_label.head(1))\n",
    "print(\"test_feat\\n%s\\n\" %test_feat.head(1))\n",
    "print(\"test_label\\n%s\\n\" %test_label.head(1))\n",
    "\n"
   ]
  },
  {
   "cell_type": "code",
   "execution_count": 46,
   "metadata": {
    "collapsed": true
   },
   "outputs": [],
   "source": [
    "### Create classifiers"
   ]
  },
  {
   "cell_type": "code",
   "execution_count": 82,
   "metadata": {
    "collapsed": false
   },
   "outputs": [],
   "source": [
    "## Support Vector Machines\n",
    "# http://scikit-learn.org/stable/modules/svm.html\n",
    "\n",
    "classifier_svc = (\"support vector classifier\", sk.svm.SVC(kernel='linear', C=1))\n",
    "classifier_l_svc = (\"linear svc\", sk.svm.LinearSVC(random_state = 9974))\n"
   ]
  },
  {
   "cell_type": "code",
   "execution_count": 83,
   "metadata": {
    "collapsed": true
   },
   "outputs": [],
   "source": [
    "## Naive Bayes\n",
    "# http://scikit-learn.org/stable/modules/naive_bayes.html\n",
    "classifier_m_nb = (\"Naive Bayes classifier for multinomial models\", sk.naive_bayes.MultinomialNB())\n",
    "classifier_b_nb = (\"Naive Bayes classifier for multivariate Bernoulli models\", sk.naive_bayes.BernoulliNB())"
   ]
  },
  {
   "cell_type": "code",
   "execution_count": 84,
   "metadata": {
    "collapsed": false
   },
   "outputs": [],
   "source": [
    "## Ensemble methods\n",
    "# http://scikit-learn.org/stable/modules/ensemble.html\n",
    "classifier_rfc = (\"random forest classifier\",\n",
    "                  sk.ensemble.RandomForestClassifier(\n",
    "                        max_depth=5\n",
    "                        , n_estimators=10 \n",
    "                        , max_features=1 \n",
    "                        , n_jobs=-1\n",
    "                        , random_state=32414343))\n",
    "classifier_abc = (\"Ada boost classifier\", sk.ensemble.AdaBoostClassifier(random_state=67294))\n"
   ]
  },
  {
   "cell_type": "code",
   "execution_count": 85,
   "metadata": {
    "collapsed": false
   },
   "outputs": [],
   "source": [
    "## Neighbour methods\n",
    "# http://scikit-learn.org/stable/modules/neighbors.html\n",
    "\n",
    "classifier_knc = (\"K nearest keighbours\", sk.neighbors.KNeighborsClassifier())"
   ]
  },
  {
   "cell_type": "code",
   "execution_count": 93,
   "metadata": {
    "collapsed": false
   },
   "outputs": [
    {
     "data": {
      "text/plain": [
       "Pipeline(steps=[('linear svc', LinearSVC(C=1.0, class_weight=None, dual=True, fit_intercept=True,\n",
       "     intercept_scaling=1, loss='squared_hinge', max_iter=1000,\n",
       "     multi_class='ovr', penalty='l2', random_state=9974, tol=0.0001,\n",
       "     verbose=0))])"
      ]
     },
     "execution_count": 93,
     "metadata": {},
     "output_type": "execute_result"
    }
   ],
   "source": [
    "## Pipelineing\n",
    "# http://scikit-learn.org/stable/modules/pipeline.html\n",
    "# http://zacstewart.com/2014/08/05/pipelines-of-featureunions-of-pipelines.html\n",
    "\n",
    "pipeline = sk.pipeline.Pipeline([\n",
    "        classifier_l_svc\n",
    "    ])\n",
    "\n",
    "\n",
    "pipeline"
   ]
  },
  {
   "cell_type": "code",
   "execution_count": 165,
   "metadata": {
    "collapsed": false
   },
   "outputs": [
    {
     "data": {
      "text/plain": [
       "array([ 0.62482822,  0.62494269,  0.62494269])"
      ]
     },
     "execution_count": 165,
     "metadata": {},
     "output_type": "execute_result"
    }
   ],
   "source": [
    "\n",
    "classifier = classifier_svc[1]\n",
    "\n",
    "#help(train_feat[\"StringLength\"])\n",
    "\n",
    "sk.cross_validation.cross_val_score(classifier, train_feat[[\"StringLength\"]], train_label[\"cNEU\"])\n",
    "\n",
    "\n",
    "#help(classifier)\n",
    "\n",
    "#trained_classifier = classifier.fit(train_feat, train_label)\n",
    "\n",
    "#predicted = sk.cross_validation.cross_val_predict(trained_classifier, test_feat, test_label)\n",
    "\n",
    "#print(predicted)\n",
    "\n",
    "#predicted = sk.cross_validation.cross_val_predict(pipeline, train_feat, test_label, cv=10)\n",
    "#metrics.accuracy_score(iris.target, predicted) "
   ]
  },
  {
   "cell_type": "code",
   "execution_count": 233,
   "metadata": {
    "collapsed": false
   },
   "outputs": [
    {
     "name": "stdout",
     "output_type": "stream",
     "text": [
      "  (0, 6)\t0.377964473009\n",
      "  (0, 4)\t0.377964473009\n",
      "  (0, 2)\t0.377964473009\n",
      "  (0, 5)\t0.377964473009\n",
      "  (0, 0)\t0.377964473009\n",
      "  (0, 1)\t0.377964473009\n",
      "  (0, 3)\t0.377964473009\n",
      "[ 0.63078333  0.62998624  0.62906923]\n"
     ]
    }
   ],
   "source": [
    "tfidf_vectorizer = sk.feature_extraction.text.TfidfVectorizer()\n",
    "\n",
    "pipeline = sk.pipeline.Pipeline([('tfidf', tfidf_vectorizer),\n",
    "                     ('chi2', sk.feature_selection.SelectKBest(sk.feature_selection.chi2, k=1000)),\n",
    "                     ('nb', sk.naive_bayes.MultinomialNB())\n",
    "                    ])\n",
    "\n",
    "#pipeline.fit(train_feat[[\"STATUS\"]], train_label[[\"cNEU\"]])\n",
    "data = train_feat[\"STATUS\"]\n",
    "target = train_label[\"cNEU\"].apply(lambda x: x == 'y')\n",
    "\n",
    "foo = tfidf_vectorizer.fit_transform(data[:1], target[:1])\n",
    "print(foo)\n",
    "#idf = foo.idf_\n",
    "\n",
    "#print(len(idf))\n",
    "#print(len(data))\n",
    "\n",
    "result = sk.cross_validation.cross_val_score(pipeline, data, target)\n",
    "print(result)"
   ]
  },
  {
   "cell_type": "code",
   "execution_count": null,
   "metadata": {
    "collapsed": true
   },
   "outputs": [],
   "source": []
  }
 ],
 "metadata": {
  "kernelspec": {
   "display_name": "Python 3",
   "language": "python",
   "name": "python3"
  },
  "language_info": {
   "codemirror_mode": {
    "name": "ipython",
    "version": 3
   },
   "file_extension": ".py",
   "mimetype": "text/x-python",
   "name": "python",
   "nbconvert_exporter": "python",
   "pygments_lexer": "ipython3",
   "version": "3.4.2"
  }
 },
 "nbformat": 4,
 "nbformat_minor": 0
}
