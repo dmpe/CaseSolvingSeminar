{
 "cells": [
  {
   "cell_type": "code",
   "execution_count": 1,
   "metadata": {
    "collapsed": false
   },
   "outputs": [],
   "source": [
    "import nltk\n",
    "import numpy\n",
    "import pandas\n",
    "import sklearn\n",
    "import sklearn.pipeline\n",
    "import sklearn.grid_search\n",
    "import sklearn.decomposition\n",
    "\n",
    "# import matplotlib.pyplot as plt\n",
    "# %matplotlib inline\n",
    "# %matplotlib notebook\n",
    "\n",
    "import sqlite3\n",
    "\n",
    "import csshelper\n",
    "import cssfeature\n",
    "import csspipe\n",
    "import csstransformer\n",
    "\n",
    "\n",
    "db_path = './data.sqlite3'\n",
    "sqlite_connection = sqlite3.connect(db_path)"
   ]
  },
  {
   "cell_type": "code",
   "execution_count": 2,
   "metadata": {
    "collapsed": false
   },
   "outputs": [],
   "source": [
    "data_reader_collection = [\n",
    "        ('cExt', csshelper.CExtReader(sqlite_connection))\n",
    "    \n",
    "        , ('cNeu', csshelper.CNeuReader(sqlite_connection))\n",
    "     \n",
    "        , ('cAgr', csshelper.CAgrReader(sqlite_connection))\n",
    "    \n",
    "        , ('cCon', csshelper.CConReader(sqlite_connection))\n",
    "    \n",
    "        , ('cOpn', csshelper.COpnReader(sqlite_connection)) \n",
    "]"
   ]
  },
  {
   "cell_type": "code",
   "execution_count": 3,
   "metadata": {
    "collapsed": false
   },
   "outputs": [],
   "source": [
    "aggregator = csstransformer.Aggregator([\n",
    "        csstransformer.PartOfSpeech(),\n",
    "        csstransformer.SentenceLength(),\n",
    "        csstransformer.NumberOfWords(),\n",
    "        csstransformer.NumberOfCommas(),\n",
    "        csstransformer.NumberOfDots(),\n",
    "        csstransformer.NumberOfSemicolons(),\n",
    "        csstransformer.NumberOfColons(),\n",
    "        csstransformer.LexicalDiversity(),\n",
    "        csstransformer.AverageWordLength(),\n",
    "        csstransformer.NumberOfFunctionalWords(),\n",
    "        csstransformer.NumberOfPronouns(),\n",
    "        csstransformer.NumberOfPropnames(),\n",
    "])\n",
    "\n",
    "data = csshelper.CExtReader(sqlite_connection).get_results()\n",
    "\n",
    "# aggregator.transform(data.sentence)\n"
   ]
  },
  {
   "cell_type": "code",
   "execution_count": 4,
   "metadata": {
    "collapsed": false
   },
   "outputs": [],
   "source": [
    "grid_parameter_collection = {\n",
    "    'classifierLinearSVC': { 'features__status__tf_idf_vect__ngram_range': ((1, 1), (1, 2)),\n",
    "                           'features__derived_numeric__best': (5,9)},\n",
    "    'classifierSVC': { 'features__status__tf_idf_vect__ngram_range': ((1, 1), (1, 2)),\n",
    "                     'features__derived_numeric__best': (5,9)},\n",
    "    'classifierNB': { 'features__status__tf_idf_vect__ngram_range': ((1, 1), (1, 2)),\n",
    "                    'features__derived_numeric__best': (5,9)},\n",
    "    'classifierBNB': { 'features__status__tf_idf_vect__ngram_range': ((1, 1), (1, 2)),\n",
    "                     'features__derived_numeric__best': (5,9)},\n",
    "}\n",
    "foo =             ('derived_string', sklearn.pipeline.Pipeline([\n",
    "                ('string_aggregator', csstransformer.Aggregator([\n",
    "                csstransformer.PartOfSpeech()\n",
    "                ])),\n",
    "              ('tf_idf_vect', sklearn.feature_extraction.text.TfidfVectorizer()),\n",
    "            ]))\n",
    "\n",
    "base_pipeline = sklearn.pipeline.Pipeline([     \n",
    "    ('features', sklearn.pipeline.FeatureUnion(\n",
    "          transformer_list=[\n",
    "            ('status', sklearn.pipeline.Pipeline([\n",
    "              ('tf_idf_vect', sklearn.feature_extraction.text.TfidfVectorizer()),\n",
    "            ])),\n",
    "                  \n",
    "            ('derived_string', sklearn.pipeline.Pipeline([\n",
    "                ('part_of_speech', csstransformer.PartOfSpeech()),\n",
    "                ('tf_idf_vect', sklearn.feature_extraction.text.TfidfVectorizer()),\n",
    "            ])),\n",
    "\n",
    "            \n",
    "            ('derived_numeric', sklearn.pipeline.Pipeline([\n",
    "              ('numeric_aggregator', csstransformer.Aggregator([\n",
    "                    csstransformer.SentenceLength(),\n",
    "                    csstransformer.NumberOfWords(),\n",
    "                    csstransformer.NumberOfCommas(),\n",
    "                    csstransformer.NumberOfDots(),\n",
    "                    csstransformer.NumberOfSemicolons(),\n",
    "                    csstransformer.NumberOfColons(),\n",
    "                    csstransformer.LexicalDiversity(),\n",
    "                    csstransformer.AverageWordLength(),\n",
    "                    csstransformer.NumberOfFunctionalWords(),\n",
    "                    csstransformer.NumberOfPronouns(),\n",
    "                    csstransformer.NumberOfPropnames(),\n",
    "                ])), \n",
    "              ('scaler', sklearn.preprocessing.RobustScaler()),\n",
    "              ('best', sklearn.decomposition.TruncatedSVD(random_state=5152)),\n",
    "            ])),   \n",
    "          ],\n",
    "    )),\n",
    "])\n",
    "\n",
    "classifier_collection = [\n",
    "        ('classifierLinearSVC', ('clf', sklearn.svm.LinearSVC(random_state = 5152))),\n",
    "        ('classifierSVC', ('clf', sklearn.svm.SVC(cache_size=4096, random_state = 5152, kernel = \"rbf\", decision_function_shape = \"ovr\"))),\n",
    "        ('classifierNB', ('nb', sklearn.naive_bayes.MultinomialNB())),\n",
    "        ('classifierBNB', ('bnb', sklearn.naive_bayes.BernoulliNB()))\n",
    "]\n",
    "\n",
    "def create_full_pipelines():\n",
    "    return [\n",
    "        (class_name, sklearn.pipeline.Pipeline(base_pipeline.steps + [classifier]))\n",
    "        for class_name, classifier in classifier_collection\n",
    "    ]\n",
    "\n",
    "pipeline_collection = create_full_pipelines()\n"
   ]
  },
  {
   "cell_type": "code",
   "execution_count": 5,
   "metadata": {
    "collapsed": false
   },
   "outputs": [
    {
     "name": "stdout",
     "output_type": "stream",
     "text": [
      "\n",
      "classifierLinearSVC\n",
      "\n",
      "classifierSVC\n",
      "\n",
      "classifierNB\n",
      "\n",
      "classifierBNB\n"
     ]
    }
   ],
   "source": [
    "for pipe_name, pipe in pipeline_collection:\n",
    "    print()\n",
    "    print(pipe_name)\n",
    "    #print(pipe.steps)"
   ]
  },
  {
   "cell_type": "code",
   "execution_count": 6,
   "metadata": {
    "collapsed": true
   },
   "outputs": [],
   "source": [
    "def plot_roc_curve(test_class, y_score, name, trait):\n",
    "    fpr, tpr, roc_auc = dict(), dict(), dict()\n",
    "    fpr, tpr, _ = sklearn.metrics.roc_curve(test_class, y_score[:, 1], pos_label=1)\n",
    "    roc_auc = sklearn.metrics.auc(fpr, tpr)\n",
    "\n",
    "    plt.figure()\n",
    "    plt.plot(fpr, tpr, label='ROC curve (area = %0.2f)' % roc_auc)\n",
    "    plt.plot([0, 1], [0, 1], 'k--')\n",
    "    plt.xlim([0.0, 1.0])\n",
    "    plt.ylim([0.0, 1.05])\n",
    "    plt.xlabel('False Positive Rate')\n",
    "    plt.ylabel('True Positive Rate')\n",
    "    plt.title('ROC chart with ' + name + \" algorithm and on \" + trait + \" dataset\")\n",
    "    plt.legend(loc=\"lower right\")\n",
    "    plt.show()"
   ]
  },
  {
   "cell_type": "code",
   "execution_count": 7,
   "metadata": {
    "collapsed": false,
    "scrolled": true
   },
   "outputs": [
    {
     "name": "stdout",
     "output_type": "stream",
     "text": [
      "\n",
      "FOR: Pipeline: cExt/classifierLinearSVC\n",
      "F1:  0.48743335872\n",
      "Precision:  0.608691715507\n",
      "Recall:  0.447239692523\n",
      "Accuracy score:  0.600830367734\n",
      "\n",
      "GRID SEARCH:\n",
      "Best score: 0.596\n",
      "Best parameters set:\n",
      "\tfeatures__derived_numeric__best: TruncatedSVD(algorithm='randomized', n_components=2, n_iter=5,\n",
      "       random_state=5152, tol=0.0)\n",
      "\tfeatures__status__tf_idf_vect__ngram_range: (1, 2)\n",
      "\n",
      "FOR: Pipeline: cNeu/classifierLinearSVC\n",
      "F1:  0.382481751825\n",
      "Precision:  0.533030421302\n",
      "Recall:  0.310917721519\n",
      "Accuracy score:  0.623665480427\n",
      "\n",
      "GRID SEARCH:\n",
      "Best score: 0.628\n",
      "Best parameters set:\n",
      "\tfeatures__derived_numeric__best: TruncatedSVD(algorithm='randomized', n_components=2, n_iter=5,\n",
      "       random_state=5152, tol=0.0)\n",
      "\tfeatures__status__tf_idf_vect__ngram_range: (1, 2)\n"
     ]
    },
    {
     "name": "stderr",
     "output_type": "stream",
     "text": [
      "Process ForkPoolWorker-9:\n",
      "Traceback (most recent call last):\n",
      "  File \"/usr/lib/python3.4/multiprocessing/process.py\", line 254, in _bootstrap\n",
      "    self.run()\n",
      "  File \"/usr/lib/python3.4/multiprocessing/process.py\", line 93, in run\n",
      "    self._target(*self._args, **self._kwargs)\n",
      "  File \"/usr/lib/python3.4/multiprocessing/pool.py\", line 108, in worker\n",
      "    task = get()\n",
      "  File \"/usr/local/lib/python3.4/dist-packages/sklearn/externals/joblib/pool.py\", line 360, in get\n",
      "    return recv()\n",
      "  File \"/usr/lib/python3.4/multiprocessing/connection.py\", line 250, in recv\n",
      "    buf = self._recv_bytes()\n",
      "  File \"/usr/lib/python3.4/multiprocessing/connection.py\", line 416, in _recv_bytes\n",
      "    buf = self._recv(4)\n",
      "  File \"/usr/lib/python3.4/multiprocessing/connection.py\", line 383, in _recv\n",
      "    chunk = read(handle, remaining)\n",
      "KeyboardInterrupt\n"
     ]
    },
    {
     "ename": "KeyboardInterrupt",
     "evalue": "",
     "output_type": "error",
     "traceback": [
      "\u001b[1;31m---------------------------------------------------------------------------\u001b[0m",
      "\u001b[1;31mKeyboardInterrupt\u001b[0m                         Traceback (most recent call last)",
      "\u001b[1;32m<ipython-input-7-e5cbbcacfa4e>\u001b[0m in \u001b[0;36m<module>\u001b[1;34m()\u001b[0m\n\u001b[0;32m     15\u001b[0m         \u001b[0mgrid_search\u001b[0m \u001b[1;33m=\u001b[0m \u001b[0msklearn\u001b[0m\u001b[1;33m.\u001b[0m\u001b[0mgrid_search\u001b[0m\u001b[1;33m.\u001b[0m\u001b[0mGridSearchCV\u001b[0m\u001b[1;33m(\u001b[0m\u001b[0mpipeline\u001b[0m\u001b[1;33m,\u001b[0m \u001b[0mparam_grid\u001b[0m\u001b[1;33m=\u001b[0m\u001b[0mgrid_parameter\u001b[0m\u001b[1;33m,\u001b[0m \u001b[0mcv\u001b[0m\u001b[1;33m=\u001b[0m\u001b[1;36m5\u001b[0m\u001b[1;33m,\u001b[0m \u001b[0mn_jobs\u001b[0m\u001b[1;33m=\u001b[0m\u001b[1;33m-\u001b[0m\u001b[1;36m1\u001b[0m\u001b[1;33m,\u001b[0m \u001b[0mverbose\u001b[0m\u001b[1;33m=\u001b[0m\u001b[1;36m0\u001b[0m\u001b[1;33m)\u001b[0m\u001b[1;33m\u001b[0m\u001b[0m\n\u001b[0;32m     16\u001b[0m \u001b[1;33m\u001b[0m\u001b[0m\n\u001b[1;32m---> 17\u001b[1;33m         \u001b[0mgrid_search\u001b[0m\u001b[1;33m.\u001b[0m\u001b[0mfit\u001b[0m\u001b[1;33m(\u001b[0m\u001b[0mx_train\u001b[0m\u001b[1;33m,\u001b[0m \u001b[0my_train\u001b[0m\u001b[1;33m)\u001b[0m\u001b[1;33m\u001b[0m\u001b[0m\n\u001b[0m\u001b[0;32m     18\u001b[0m         \u001b[0my_pred_trait\u001b[0m \u001b[1;33m=\u001b[0m \u001b[0mgrid_search\u001b[0m\u001b[1;33m.\u001b[0m\u001b[0mpredict\u001b[0m\u001b[1;33m(\u001b[0m\u001b[0mx_test\u001b[0m\u001b[1;33m)\u001b[0m\u001b[1;33m\u001b[0m\u001b[0m\n\u001b[0;32m     19\u001b[0m \u001b[1;33m\u001b[0m\u001b[0m\n",
      "\u001b[1;32m/usr/local/lib/python3.4/dist-packages/sklearn/grid_search.py\u001b[0m in \u001b[0;36mfit\u001b[1;34m(self, X, y)\u001b[0m\n\u001b[0;32m    802\u001b[0m \u001b[1;33m\u001b[0m\u001b[0m\n\u001b[0;32m    803\u001b[0m         \"\"\"\n\u001b[1;32m--> 804\u001b[1;33m         \u001b[1;32mreturn\u001b[0m \u001b[0mself\u001b[0m\u001b[1;33m.\u001b[0m\u001b[0m_fit\u001b[0m\u001b[1;33m(\u001b[0m\u001b[0mX\u001b[0m\u001b[1;33m,\u001b[0m \u001b[0my\u001b[0m\u001b[1;33m,\u001b[0m \u001b[0mParameterGrid\u001b[0m\u001b[1;33m(\u001b[0m\u001b[0mself\u001b[0m\u001b[1;33m.\u001b[0m\u001b[0mparam_grid\u001b[0m\u001b[1;33m)\u001b[0m\u001b[1;33m)\u001b[0m\u001b[1;33m\u001b[0m\u001b[0m\n\u001b[0m\u001b[0;32m    805\u001b[0m \u001b[1;33m\u001b[0m\u001b[0m\n\u001b[0;32m    806\u001b[0m \u001b[1;33m\u001b[0m\u001b[0m\n",
      "\u001b[1;32m/usr/local/lib/python3.4/dist-packages/sklearn/grid_search.py\u001b[0m in \u001b[0;36m_fit\u001b[1;34m(self, X, y, parameter_iterable)\u001b[0m\n\u001b[0;32m    551\u001b[0m                                     \u001b[0mself\u001b[0m\u001b[1;33m.\u001b[0m\u001b[0mfit_params\u001b[0m\u001b[1;33m,\u001b[0m \u001b[0mreturn_parameters\u001b[0m\u001b[1;33m=\u001b[0m\u001b[1;32mTrue\u001b[0m\u001b[1;33m,\u001b[0m\u001b[1;33m\u001b[0m\u001b[0m\n\u001b[0;32m    552\u001b[0m                                     error_score=self.error_score)\n\u001b[1;32m--> 553\u001b[1;33m                 \u001b[1;32mfor\u001b[0m \u001b[0mparameters\u001b[0m \u001b[1;32min\u001b[0m \u001b[0mparameter_iterable\u001b[0m\u001b[1;33m\u001b[0m\u001b[0m\n\u001b[0m\u001b[0;32m    554\u001b[0m                 for train, test in cv)\n\u001b[0;32m    555\u001b[0m \u001b[1;33m\u001b[0m\u001b[0m\n",
      "\u001b[1;32m/usr/local/lib/python3.4/dist-packages/sklearn/externals/joblib/parallel.py\u001b[0m in \u001b[0;36m__call__\u001b[1;34m(self, iterable)\u001b[0m\n\u001b[0;32m    810\u001b[0m                 \u001b[1;31m# consumption.\u001b[0m\u001b[1;33m\u001b[0m\u001b[1;33m\u001b[0m\u001b[0m\n\u001b[0;32m    811\u001b[0m                 \u001b[0mself\u001b[0m\u001b[1;33m.\u001b[0m\u001b[0m_iterating\u001b[0m \u001b[1;33m=\u001b[0m \u001b[1;32mFalse\u001b[0m\u001b[1;33m\u001b[0m\u001b[0m\n\u001b[1;32m--> 812\u001b[1;33m             \u001b[0mself\u001b[0m\u001b[1;33m.\u001b[0m\u001b[0mretrieve\u001b[0m\u001b[1;33m(\u001b[0m\u001b[1;33m)\u001b[0m\u001b[1;33m\u001b[0m\u001b[0m\n\u001b[0m\u001b[0;32m    813\u001b[0m             \u001b[1;31m# Make sure that we get a last message telling us we are done\u001b[0m\u001b[1;33m\u001b[0m\u001b[1;33m\u001b[0m\u001b[0m\n\u001b[0;32m    814\u001b[0m             \u001b[0melapsed_time\u001b[0m \u001b[1;33m=\u001b[0m \u001b[0mtime\u001b[0m\u001b[1;33m.\u001b[0m\u001b[0mtime\u001b[0m\u001b[1;33m(\u001b[0m\u001b[1;33m)\u001b[0m \u001b[1;33m-\u001b[0m \u001b[0mself\u001b[0m\u001b[1;33m.\u001b[0m\u001b[0m_start_time\u001b[0m\u001b[1;33m\u001b[0m\u001b[0m\n",
      "\u001b[1;32m/usr/local/lib/python3.4/dist-packages/sklearn/externals/joblib/parallel.py\u001b[0m in \u001b[0;36mretrieve\u001b[1;34m(self)\u001b[0m\n\u001b[0;32m    760\u001b[0m                         \u001b[1;31m# a working pool as they expect.\u001b[0m\u001b[1;33m\u001b[0m\u001b[1;33m\u001b[0m\u001b[0m\n\u001b[0;32m    761\u001b[0m                         \u001b[0mself\u001b[0m\u001b[1;33m.\u001b[0m\u001b[0m_initialize_pool\u001b[0m\u001b[1;33m(\u001b[0m\u001b[1;33m)\u001b[0m\u001b[1;33m\u001b[0m\u001b[0m\n\u001b[1;32m--> 762\u001b[1;33m                 \u001b[1;32mraise\u001b[0m \u001b[0mexception\u001b[0m\u001b[1;33m\u001b[0m\u001b[0m\n\u001b[0m\u001b[0;32m    763\u001b[0m \u001b[1;33m\u001b[0m\u001b[0m\n\u001b[0;32m    764\u001b[0m     \u001b[1;32mdef\u001b[0m \u001b[0m__call__\u001b[0m\u001b[1;33m(\u001b[0m\u001b[0mself\u001b[0m\u001b[1;33m,\u001b[0m \u001b[0miterable\u001b[0m\u001b[1;33m)\u001b[0m\u001b[1;33m:\u001b[0m\u001b[1;33m\u001b[0m\u001b[0m\n",
      "\u001b[1;32m/usr/local/lib/python3.4/dist-packages/sklearn/externals/joblib/parallel.py\u001b[0m in \u001b[0;36mretrieve\u001b[1;34m(self)\u001b[0m\n\u001b[0;32m    729\u001b[0m                 \u001b[0mjob\u001b[0m \u001b[1;33m=\u001b[0m \u001b[0mself\u001b[0m\u001b[1;33m.\u001b[0m\u001b[0m_jobs\u001b[0m\u001b[1;33m.\u001b[0m\u001b[0mpop\u001b[0m\u001b[1;33m(\u001b[0m\u001b[1;36m0\u001b[0m\u001b[1;33m)\u001b[0m\u001b[1;33m\u001b[0m\u001b[0m\n\u001b[0;32m    730\u001b[0m             \u001b[1;32mtry\u001b[0m\u001b[1;33m:\u001b[0m\u001b[1;33m\u001b[0m\u001b[0m\n\u001b[1;32m--> 731\u001b[1;33m                 \u001b[0mself\u001b[0m\u001b[1;33m.\u001b[0m\u001b[0m_output\u001b[0m\u001b[1;33m.\u001b[0m\u001b[0mextend\u001b[0m\u001b[1;33m(\u001b[0m\u001b[0mjob\u001b[0m\u001b[1;33m.\u001b[0m\u001b[0mget\u001b[0m\u001b[1;33m(\u001b[0m\u001b[1;33m)\u001b[0m\u001b[1;33m)\u001b[0m\u001b[1;33m\u001b[0m\u001b[0m\n\u001b[0m\u001b[0;32m    732\u001b[0m             \u001b[1;32mexcept\u001b[0m \u001b[0mtuple\u001b[0m\u001b[1;33m(\u001b[0m\u001b[0mself\u001b[0m\u001b[1;33m.\u001b[0m\u001b[0mexceptions\u001b[0m\u001b[1;33m)\u001b[0m \u001b[1;32mas\u001b[0m \u001b[0mexception\u001b[0m\u001b[1;33m:\u001b[0m\u001b[1;33m\u001b[0m\u001b[0m\n\u001b[0;32m    733\u001b[0m                 \u001b[1;31m# Stop dispatching any new job in the async callback thread\u001b[0m\u001b[1;33m\u001b[0m\u001b[1;33m\u001b[0m\u001b[0m\n",
      "\u001b[1;32m/usr/lib/python3.4/multiprocessing/pool.py\u001b[0m in \u001b[0;36mget\u001b[1;34m(self, timeout)\u001b[0m\n\u001b[0;32m    591\u001b[0m \u001b[1;33m\u001b[0m\u001b[0m\n\u001b[0;32m    592\u001b[0m     \u001b[1;32mdef\u001b[0m \u001b[0mget\u001b[0m\u001b[1;33m(\u001b[0m\u001b[0mself\u001b[0m\u001b[1;33m,\u001b[0m \u001b[0mtimeout\u001b[0m\u001b[1;33m=\u001b[0m\u001b[1;32mNone\u001b[0m\u001b[1;33m)\u001b[0m\u001b[1;33m:\u001b[0m\u001b[1;33m\u001b[0m\u001b[0m\n\u001b[1;32m--> 593\u001b[1;33m         \u001b[0mself\u001b[0m\u001b[1;33m.\u001b[0m\u001b[0mwait\u001b[0m\u001b[1;33m(\u001b[0m\u001b[0mtimeout\u001b[0m\u001b[1;33m)\u001b[0m\u001b[1;33m\u001b[0m\u001b[0m\n\u001b[0m\u001b[0;32m    594\u001b[0m         \u001b[1;32mif\u001b[0m \u001b[1;32mnot\u001b[0m \u001b[0mself\u001b[0m\u001b[1;33m.\u001b[0m\u001b[0mready\u001b[0m\u001b[1;33m(\u001b[0m\u001b[1;33m)\u001b[0m\u001b[1;33m:\u001b[0m\u001b[1;33m\u001b[0m\u001b[0m\n\u001b[0;32m    595\u001b[0m             \u001b[1;32mraise\u001b[0m \u001b[0mTimeoutError\u001b[0m\u001b[1;33m\u001b[0m\u001b[0m\n",
      "\u001b[1;32m/usr/lib/python3.4/multiprocessing/pool.py\u001b[0m in \u001b[0;36mwait\u001b[1;34m(self, timeout)\u001b[0m\n\u001b[0;32m    588\u001b[0m \u001b[1;33m\u001b[0m\u001b[0m\n\u001b[0;32m    589\u001b[0m     \u001b[1;32mdef\u001b[0m \u001b[0mwait\u001b[0m\u001b[1;33m(\u001b[0m\u001b[0mself\u001b[0m\u001b[1;33m,\u001b[0m \u001b[0mtimeout\u001b[0m\u001b[1;33m=\u001b[0m\u001b[1;32mNone\u001b[0m\u001b[1;33m)\u001b[0m\u001b[1;33m:\u001b[0m\u001b[1;33m\u001b[0m\u001b[0m\n\u001b[1;32m--> 590\u001b[1;33m         \u001b[0mself\u001b[0m\u001b[1;33m.\u001b[0m\u001b[0m_event\u001b[0m\u001b[1;33m.\u001b[0m\u001b[0mwait\u001b[0m\u001b[1;33m(\u001b[0m\u001b[0mtimeout\u001b[0m\u001b[1;33m)\u001b[0m\u001b[1;33m\u001b[0m\u001b[0m\n\u001b[0m\u001b[0;32m    591\u001b[0m \u001b[1;33m\u001b[0m\u001b[0m\n\u001b[0;32m    592\u001b[0m     \u001b[1;32mdef\u001b[0m \u001b[0mget\u001b[0m\u001b[1;33m(\u001b[0m\u001b[0mself\u001b[0m\u001b[1;33m,\u001b[0m \u001b[0mtimeout\u001b[0m\u001b[1;33m=\u001b[0m\u001b[1;32mNone\u001b[0m\u001b[1;33m)\u001b[0m\u001b[1;33m:\u001b[0m\u001b[1;33m\u001b[0m\u001b[0m\n",
      "\u001b[1;32m/usr/lib/python3.4/threading.py\u001b[0m in \u001b[0;36mwait\u001b[1;34m(self, timeout)\u001b[0m\n\u001b[0;32m    551\u001b[0m             \u001b[0msignaled\u001b[0m \u001b[1;33m=\u001b[0m \u001b[0mself\u001b[0m\u001b[1;33m.\u001b[0m\u001b[0m_flag\u001b[0m\u001b[1;33m\u001b[0m\u001b[0m\n\u001b[0;32m    552\u001b[0m             \u001b[1;32mif\u001b[0m \u001b[1;32mnot\u001b[0m \u001b[0msignaled\u001b[0m\u001b[1;33m:\u001b[0m\u001b[1;33m\u001b[0m\u001b[0m\n\u001b[1;32m--> 553\u001b[1;33m                 \u001b[0msignaled\u001b[0m \u001b[1;33m=\u001b[0m \u001b[0mself\u001b[0m\u001b[1;33m.\u001b[0m\u001b[0m_cond\u001b[0m\u001b[1;33m.\u001b[0m\u001b[0mwait\u001b[0m\u001b[1;33m(\u001b[0m\u001b[0mtimeout\u001b[0m\u001b[1;33m)\u001b[0m\u001b[1;33m\u001b[0m\u001b[0m\n\u001b[0m\u001b[0;32m    554\u001b[0m             \u001b[1;32mreturn\u001b[0m \u001b[0msignaled\u001b[0m\u001b[1;33m\u001b[0m\u001b[0m\n\u001b[0;32m    555\u001b[0m         \u001b[1;32mfinally\u001b[0m\u001b[1;33m:\u001b[0m\u001b[1;33m\u001b[0m\u001b[0m\n",
      "\u001b[1;32m/usr/lib/python3.4/threading.py\u001b[0m in \u001b[0;36mwait\u001b[1;34m(self, timeout)\u001b[0m\n\u001b[0;32m    288\u001b[0m         \u001b[1;32mtry\u001b[0m\u001b[1;33m:\u001b[0m    \u001b[1;31m# restore state no matter what (e.g., KeyboardInterrupt)\u001b[0m\u001b[1;33m\u001b[0m\u001b[0m\n\u001b[0;32m    289\u001b[0m             \u001b[1;32mif\u001b[0m \u001b[0mtimeout\u001b[0m \u001b[1;32mis\u001b[0m \u001b[1;32mNone\u001b[0m\u001b[1;33m:\u001b[0m\u001b[1;33m\u001b[0m\u001b[0m\n\u001b[1;32m--> 290\u001b[1;33m                 \u001b[0mwaiter\u001b[0m\u001b[1;33m.\u001b[0m\u001b[0macquire\u001b[0m\u001b[1;33m(\u001b[0m\u001b[1;33m)\u001b[0m\u001b[1;33m\u001b[0m\u001b[0m\n\u001b[0m\u001b[0;32m    291\u001b[0m                 \u001b[0mgotit\u001b[0m \u001b[1;33m=\u001b[0m \u001b[1;32mTrue\u001b[0m\u001b[1;33m\u001b[0m\u001b[0m\n\u001b[0;32m    292\u001b[0m             \u001b[1;32melse\u001b[0m\u001b[1;33m:\u001b[0m\u001b[1;33m\u001b[0m\u001b[0m\n",
      "\u001b[1;31mKeyboardInterrupt\u001b[0m: "
     ]
    }
   ],
   "source": [
    "for pipe_name, pipeline in pipeline_collection:\n",
    "    for reader_description, reader in data_reader_collection:\n",
    "\n",
    "        data = reader.get_results()\n",
    "        feature = data.iloc[:,0]\n",
    "        label = data.iloc[:,1]\n",
    "        \n",
    "        grid_parameter = grid_parameter_collection[pipe_name]\n",
    "        \n",
    "        split = sklearn.cross_validation.train_test_split(feature, label, train_size=0.66, \n",
    "        stratify=label,random_state=5152)\n",
    "        \n",
    "        x_train, x_test, y_train, y_test = split\n",
    "        \n",
    "        grid_search = sklearn.grid_search.GridSearchCV(pipeline, param_grid=grid_parameter, cv=5, n_jobs=-1, verbose=0)\n",
    "\n",
    "        grid_search.fit(x_train, y_train)\n",
    "        y_pred_trait = grid_search.predict(x_test)\n",
    "        \n",
    "#         if (type(MultinomialNB()) == type(clf) or \n",
    "#         type(BernoulliNB()) == type(clf) or \n",
    "#         type(KNeighborsClassifier()) == type(clf) or \n",
    "#         type(RandomForestClassifier()) == type(clf) or \n",
    "#         type(AdaBoostClassifier()) == type(clf) or \n",
    "#         type(SVC()) == type(clf)):\n",
    "#             y_score_trait = pipeline.predict_proba(x_test)\n",
    "            #plot_roc_curve(y_test, y_score_trait, \"Pipeline\", \"trait_input\")\n",
    "\n",
    "        print(\"\\nFOR: Pipeline: %s/%s\" % (reader_description, pipe_name))\n",
    "#         print(sklearn.metrics.classification_report(y_test, y_pred_trait, labels=[0, 1], target_names=[\"0\", \"1\"]))\n",
    "#         print(sklearn.metrics.confusion_matrix(y_test, y_pred_trait, labels=[0, 1]))\n",
    "        print(\"F1: \", sklearn.metrics.f1_score(y_test, y_pred_trait, labels=[0, 1], average='binary'))\n",
    "        print(\"Precision: \", sklearn.metrics.average_precision_score(y_test, y_pred_trait, average='micro'))\n",
    "        print(\"Recall: \", sklearn.metrics.recall_score(y_test, y_pred_trait, labels=[0, 1], average='binary'))\n",
    "        print(\"Accuracy score: \", sklearn.metrics.accuracy_score(y_test, y_pred_trait))\n",
    "        \n",
    "        print()\n",
    "        \n",
    "        print(\"GRID SEARCH:\")\n",
    "        print(\"Best score: %0.3f\" % grid_search.best_score_)\n",
    "        print(\"Best parameters set:\")\n",
    "        best_parameters = grid_search.best_estimator_.get_params()\n",
    "        for param_name in sorted(grid_parameter.keys()):\n",
    "            print(\"\\t%s: %r\" % (param_name, best_parameters[param_name]))"
   ]
  },
  {
   "cell_type": "code",
   "execution_count": null,
   "metadata": {
    "collapsed": true
   },
   "outputs": [],
   "source": [
    "split = sk.cross_validation.train_test_split(neu, neu[\"cNEU\"], train_size = 0.66, stratify = neu[\"cNEU\"],random_state= 5152)\n",
    "train_feat_neu, test_feat_neu, train_class_neu, test_class_neu  = split\n",
    "print(train_feat_neu.shape, test_feat_neu.shape,train_class_neu.shape ,test_class_neu.shape)\n",
    "\n",
    "neu_X = train_feat_neu.append(test_feat_neu)\n",
    "neu_Y = train_class_neu.append(test_class_neu)\n",
    "\n",
    "train_feat_ext, test_feat_ext, train_class_ext, test_class_ext = sk.cross_validation.train_test_split(ext, ext[\"cEXT\"], train_size = 0.66, stratify = ext[\"cEXT\"],random_state= 5152)\n",
    "\n",
    "ext_X = train_feat_ext.append(test_feat_ext)\n",
    "ext_Y = train_class_ext.append(test_class_ext)\n",
    "\n",
    "train_feat_agr, test_feat_agr, train_class_agr, test_class_agr = sk.cross_validation.train_test_split(agr, agr[\"cAGR\"], train_size = 0.66, stratify = agr[\"cAGR\"],random_state= 5152)\n",
    "\n",
    "agr_X = train_feat_agr.append(test_feat_agr)\n",
    "agr_Y = train_class_agr.append(test_class_agr)\n",
    "\n",
    "train_feat_con, test_feat_con, train_class_con, test_class_con = sk.cross_validation.train_test_split(con, con[\"cCON\"], train_size = 0.66, stratify = con[\"cCON\"],random_state= 5152)\n",
    "\n",
    "con_X = train_feat_con.append(test_feat_con)\n",
    "con_Y = train_class_con.append(test_class_con)\n",
    "\n",
    "train_feat_opn, test_feat_opn, train_class_opn, test_class_opn = sk.cross_validation.train_test_split(opn, opn[\"cOPN\"], train_size = 0.66, stratify = opn[\"cOPN\"],random_state= 5152)\n",
    "\n",
    "opn_X = train_feat_opn.append(test_feat_opn)\n",
    "opn_Y = train_class_opn.append(test_class_opn)"
   ]
  },
  {
   "cell_type": "code",
   "execution_count": 5,
   "metadata": {
    "collapsed": false
   },
   "outputs": [
    {
     "name": "stdout",
     "output_type": "stream",
     "text": [
      "Help on package csstransformer:\n",
      "\n",
      "NAME\n",
      "    csstransformer - # helpers\n",
      "\n",
      "PACKAGE CONTENTS\n",
      "    aggregator\n",
      "    basetransformer\n",
      "    lexicaldiversity\n",
      "    nountransformer\n",
      "    numberofdots\n",
      "    partofspeech\n",
      "    sentencelength\n",
      "    smiley\n",
      "    stemmedwords\n",
      "    stemmer\n",
      "    tagging\n",
      "    tokenizer\n",
      "\n",
      "FILE\n",
      "    /home/dust/workspace/CaseSolvingSeminar/src/csstransformer/__init__.py\n",
      "\n",
      "\n"
     ]
    }
   ],
   "source": [
    "help(csstransformer)"
   ]
  },
  {
   "cell_type": "code",
   "execution_count": null,
   "metadata": {
    "collapsed": true
   },
   "outputs": [],
   "source": []
  }
 ],
 "metadata": {
  "kernelspec": {
   "display_name": "Python 3",
   "language": "python",
   "name": "python3"
  },
  "language_info": {
   "codemirror_mode": {
    "name": "ipython",
    "version": 3
   },
   "file_extension": ".py",
   "mimetype": "text/x-python",
   "name": "python",
   "nbconvert_exporter": "python",
   "pygments_lexer": "ipython3",
   "version": "3.4.2"
  }
 },
 "nbformat": 4,
 "nbformat_minor": 0
}
